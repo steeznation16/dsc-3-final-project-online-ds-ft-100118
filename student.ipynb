{
 "cells": [
  {
   "cell_type": "markdown",
   "metadata": {},
   "source": [
    "## Final Project Submission\n",
    "\n",
    "Please fill out:\n",
    "* Student name: Andrew Wester\n",
    "* Student pace: Full Time\n",
    "* Scheduled project review date/time: TBD\n",
    "* Instructor name: Rafael Carrasco\n",
    "* Blog post URL:\n"
   ]
  },
  {
   "cell_type": "markdown",
   "metadata": {},
   "source": [
    "## Dataset: Diabetes 130-US hospitals for years 1999-2008 Data Set\n",
    "**Abstract**: This data has been prepared to analyze factors related to readmission as well as other outcomes pertaining to patients with diabetes.\n",
    "\n",
    "**Data Set Information:**\n",
    "- The dataset represents 10 years (1999-2008) of clinical care at 130 US hospitals and integrated delivery networks. It includes over 50 features representing patient and hospital outcomes. Information was extracted from the database for encounters that satisfied the following criteria.\n",
    "\n",
    "> 1) It is an inpatient encounter (a hospital admission).\n",
    ">\n",
    "> 2) It is a diabetic encounter, that is, one during which any kind of diabetes was entered to the system as a diagnosis.\n",
    ">\n",
    "> 3) The length of stay was at least 1 day and at most 14 days.\n",
    ">\n",
    "> 4) Laboratory tests were performed during the encounter.\n",
    ">\n",
    "> 5) Medications were administered during the encounter.\n",
    "\n",
    "The data contains such attributes as patient number, race, gender, age, admission type, time in hospital, medical specialty of admitting physician, number of lab test performed, HbA1c test result, diagnosis, number of medication, diabetic medications, number of outpatient, inpatient, and emergency visits in the year before the hospitalization, etc.\n"
   ]
  },
  {
   "cell_type": "markdown",
   "metadata": {},
   "source": [
    "## Attribute Information:\n",
    "**Input variables:**\n",
    "\n",
    "Detailed description of all the atrributes is provided in Table 1 Beata Strack, Jonathan P. DeShazo, Chris Gennings, Juan L. Olmo, Sebastian Ventura, Krzysztof J. Cios, and John N. Clore, “Impact of HbA1c Measurement on Hospital Readmission Rates: Analysis of 70,000 Clinical Database Patient Records,” BioMed Research International, vol. 2014, Article ID 781670, 11 pages, 2014.\n",
    "\n",
    "**_SEE IMAGE_**\n",
    "<img src='table1a.png'>"
   ]
  },
  {
   "cell_type": "markdown",
   "metadata": {},
   "source": [
    "# 1. Load & Inspect the Data:"
   ]
  },
  {
   "cell_type": "code",
   "execution_count": 97,
   "metadata": {},
   "outputs": [],
   "source": [
    "import pandas as pd\n",
    "import numpy as np\n",
    "\n",
    "from IPython.display import Image\n",
    "from sklearn import svm\n",
    "from sklearn.ensemble import AdaBoostClassifier, GradientBoostingClassifier, RandomForestClassifier\n",
    "from sklearn.externals.six import StringIO\n",
    "from sklearn.linear_model import LogisticRegression, LogisticRegressionCV\n",
    "from sklearn.metrics import accuracy_score, auc, classification_report, confusion_matrix, f1_score \n",
    "from sklearn.metrics import make_scorer, recall_score, roc_curve\n",
    "from sklearn.model_selection import cross_val_score, GridSearchCV, train_test_split\n",
    "from sklearn.preprocessing import MinMaxScaler, RobustScaler, StandardScaler, OneHotEncoder\n",
    "from sklearn.tree import DecisionTreeClassifier, export_graphviz\n",
    "\n",
    "import seaborn as sns\n",
    "import matplotlib.pyplot as plt\n",
    "%matplotlib inline\n",
    "\n",
    "import warnings\n",
    "warnings.filterwarnings('ignore')"
   ]
  },
  {
   "cell_type": "code",
   "execution_count": 98,
   "metadata": {
    "scrolled": true
   },
   "outputs": [
    {
     "data": {
      "text/html": [
       "<div>\n",
       "<style scoped>\n",
       "    .dataframe tbody tr th:only-of-type {\n",
       "        vertical-align: middle;\n",
       "    }\n",
       "\n",
       "    .dataframe tbody tr th {\n",
       "        vertical-align: top;\n",
       "    }\n",
       "\n",
       "    .dataframe thead th {\n",
       "        text-align: right;\n",
       "    }\n",
       "</style>\n",
       "<table border=\"1\" class=\"dataframe\">\n",
       "  <thead>\n",
       "    <tr style=\"text-align: right;\">\n",
       "      <th></th>\n",
       "      <th>encounter_id</th>\n",
       "      <th>patient_nbr</th>\n",
       "      <th>race</th>\n",
       "      <th>gender</th>\n",
       "      <th>age</th>\n",
       "      <th>weight</th>\n",
       "      <th>admission_type_id</th>\n",
       "      <th>discharge_disposition_id</th>\n",
       "      <th>admission_source_id</th>\n",
       "      <th>time_in_hospital</th>\n",
       "      <th>...</th>\n",
       "      <th>citoglipton</th>\n",
       "      <th>insulin</th>\n",
       "      <th>glyburide-metformin</th>\n",
       "      <th>glipizide-metformin</th>\n",
       "      <th>glimepiride-pioglitazone</th>\n",
       "      <th>metformin-rosiglitazone</th>\n",
       "      <th>metformin-pioglitazone</th>\n",
       "      <th>change</th>\n",
       "      <th>diabetesMed</th>\n",
       "      <th>readmitted</th>\n",
       "    </tr>\n",
       "  </thead>\n",
       "  <tbody>\n",
       "    <tr>\n",
       "      <th>0</th>\n",
       "      <td>2278392</td>\n",
       "      <td>8222157</td>\n",
       "      <td>Caucasian</td>\n",
       "      <td>Female</td>\n",
       "      <td>[0-10)</td>\n",
       "      <td>?</td>\n",
       "      <td>6</td>\n",
       "      <td>25</td>\n",
       "      <td>1</td>\n",
       "      <td>1</td>\n",
       "      <td>...</td>\n",
       "      <td>No</td>\n",
       "      <td>No</td>\n",
       "      <td>No</td>\n",
       "      <td>No</td>\n",
       "      <td>No</td>\n",
       "      <td>No</td>\n",
       "      <td>No</td>\n",
       "      <td>No</td>\n",
       "      <td>No</td>\n",
       "      <td>NO</td>\n",
       "    </tr>\n",
       "    <tr>\n",
       "      <th>1</th>\n",
       "      <td>149190</td>\n",
       "      <td>55629189</td>\n",
       "      <td>Caucasian</td>\n",
       "      <td>Female</td>\n",
       "      <td>[10-20)</td>\n",
       "      <td>?</td>\n",
       "      <td>1</td>\n",
       "      <td>1</td>\n",
       "      <td>7</td>\n",
       "      <td>3</td>\n",
       "      <td>...</td>\n",
       "      <td>No</td>\n",
       "      <td>Up</td>\n",
       "      <td>No</td>\n",
       "      <td>No</td>\n",
       "      <td>No</td>\n",
       "      <td>No</td>\n",
       "      <td>No</td>\n",
       "      <td>Ch</td>\n",
       "      <td>Yes</td>\n",
       "      <td>&gt;30</td>\n",
       "    </tr>\n",
       "    <tr>\n",
       "      <th>2</th>\n",
       "      <td>64410</td>\n",
       "      <td>86047875</td>\n",
       "      <td>AfricanAmerican</td>\n",
       "      <td>Female</td>\n",
       "      <td>[20-30)</td>\n",
       "      <td>?</td>\n",
       "      <td>1</td>\n",
       "      <td>1</td>\n",
       "      <td>7</td>\n",
       "      <td>2</td>\n",
       "      <td>...</td>\n",
       "      <td>No</td>\n",
       "      <td>No</td>\n",
       "      <td>No</td>\n",
       "      <td>No</td>\n",
       "      <td>No</td>\n",
       "      <td>No</td>\n",
       "      <td>No</td>\n",
       "      <td>No</td>\n",
       "      <td>Yes</td>\n",
       "      <td>NO</td>\n",
       "    </tr>\n",
       "    <tr>\n",
       "      <th>3</th>\n",
       "      <td>500364</td>\n",
       "      <td>82442376</td>\n",
       "      <td>Caucasian</td>\n",
       "      <td>Male</td>\n",
       "      <td>[30-40)</td>\n",
       "      <td>?</td>\n",
       "      <td>1</td>\n",
       "      <td>1</td>\n",
       "      <td>7</td>\n",
       "      <td>2</td>\n",
       "      <td>...</td>\n",
       "      <td>No</td>\n",
       "      <td>Up</td>\n",
       "      <td>No</td>\n",
       "      <td>No</td>\n",
       "      <td>No</td>\n",
       "      <td>No</td>\n",
       "      <td>No</td>\n",
       "      <td>Ch</td>\n",
       "      <td>Yes</td>\n",
       "      <td>NO</td>\n",
       "    </tr>\n",
       "    <tr>\n",
       "      <th>4</th>\n",
       "      <td>16680</td>\n",
       "      <td>42519267</td>\n",
       "      <td>Caucasian</td>\n",
       "      <td>Male</td>\n",
       "      <td>[40-50)</td>\n",
       "      <td>?</td>\n",
       "      <td>1</td>\n",
       "      <td>1</td>\n",
       "      <td>7</td>\n",
       "      <td>1</td>\n",
       "      <td>...</td>\n",
       "      <td>No</td>\n",
       "      <td>Steady</td>\n",
       "      <td>No</td>\n",
       "      <td>No</td>\n",
       "      <td>No</td>\n",
       "      <td>No</td>\n",
       "      <td>No</td>\n",
       "      <td>Ch</td>\n",
       "      <td>Yes</td>\n",
       "      <td>NO</td>\n",
       "    </tr>\n",
       "  </tbody>\n",
       "</table>\n",
       "<p>5 rows × 50 columns</p>\n",
       "</div>"
      ],
      "text/plain": [
       "   encounter_id  patient_nbr             race  gender      age weight  \\\n",
       "0       2278392      8222157        Caucasian  Female   [0-10)      ?   \n",
       "1        149190     55629189        Caucasian  Female  [10-20)      ?   \n",
       "2         64410     86047875  AfricanAmerican  Female  [20-30)      ?   \n",
       "3        500364     82442376        Caucasian    Male  [30-40)      ?   \n",
       "4         16680     42519267        Caucasian    Male  [40-50)      ?   \n",
       "\n",
       "   admission_type_id  discharge_disposition_id  admission_source_id  \\\n",
       "0                  6                        25                    1   \n",
       "1                  1                         1                    7   \n",
       "2                  1                         1                    7   \n",
       "3                  1                         1                    7   \n",
       "4                  1                         1                    7   \n",
       "\n",
       "   time_in_hospital    ...     citoglipton insulin  glyburide-metformin  \\\n",
       "0                 1    ...              No      No                   No   \n",
       "1                 3    ...              No      Up                   No   \n",
       "2                 2    ...              No      No                   No   \n",
       "3                 2    ...              No      Up                   No   \n",
       "4                 1    ...              No  Steady                   No   \n",
       "\n",
       "   glipizide-metformin  glimepiride-pioglitazone  metformin-rosiglitazone  \\\n",
       "0                   No                        No                       No   \n",
       "1                   No                        No                       No   \n",
       "2                   No                        No                       No   \n",
       "3                   No                        No                       No   \n",
       "4                   No                        No                       No   \n",
       "\n",
       "   metformin-pioglitazone  change diabetesMed readmitted  \n",
       "0                      No      No          No         NO  \n",
       "1                      No      Ch         Yes        >30  \n",
       "2                      No      No         Yes         NO  \n",
       "3                      No      Ch         Yes         NO  \n",
       "4                      No      Ch         Yes         NO  \n",
       "\n",
       "[5 rows x 50 columns]"
      ]
     },
     "execution_count": 98,
     "metadata": {},
     "output_type": "execute_result"
    }
   ],
   "source": [
    "data = pd.read_csv('diabetic_data.csv')\n",
    "data.head()"
   ]
  },
  {
   "cell_type": "code",
   "execution_count": 99,
   "metadata": {
    "scrolled": true
   },
   "outputs": [
    {
     "name": "stdout",
     "output_type": "stream",
     "text": [
      "<class 'pandas.core.frame.DataFrame'>\n",
      "RangeIndex: 101766 entries, 0 to 101765\n",
      "Data columns (total 50 columns):\n",
      "encounter_id                101766 non-null int64\n",
      "patient_nbr                 101766 non-null int64\n",
      "race                        101766 non-null object\n",
      "gender                      101766 non-null object\n",
      "age                         101766 non-null object\n",
      "weight                      101766 non-null object\n",
      "admission_type_id           101766 non-null int64\n",
      "discharge_disposition_id    101766 non-null int64\n",
      "admission_source_id         101766 non-null int64\n",
      "time_in_hospital            101766 non-null int64\n",
      "payer_code                  101766 non-null object\n",
      "medical_specialty           101766 non-null object\n",
      "num_lab_procedures          101766 non-null int64\n",
      "num_procedures              101766 non-null int64\n",
      "num_medications             101766 non-null int64\n",
      "number_outpatient           101766 non-null int64\n",
      "number_emergency            101766 non-null int64\n",
      "number_inpatient            101766 non-null int64\n",
      "diag_1                      101766 non-null object\n",
      "diag_2                      101766 non-null object\n",
      "diag_3                      101766 non-null object\n",
      "number_diagnoses            101766 non-null int64\n",
      "max_glu_serum               101766 non-null object\n",
      "A1Cresult                   101766 non-null object\n",
      "metformin                   101766 non-null object\n",
      "repaglinide                 101766 non-null object\n",
      "nateglinide                 101766 non-null object\n",
      "chlorpropamide              101766 non-null object\n",
      "glimepiride                 101766 non-null object\n",
      "acetohexamide               101766 non-null object\n",
      "glipizide                   101766 non-null object\n",
      "glyburide                   101766 non-null object\n",
      "tolbutamide                 101766 non-null object\n",
      "pioglitazone                101766 non-null object\n",
      "rosiglitazone               101766 non-null object\n",
      "acarbose                    101766 non-null object\n",
      "miglitol                    101766 non-null object\n",
      "troglitazone                101766 non-null object\n",
      "tolazamide                  101766 non-null object\n",
      "examide                     101766 non-null object\n",
      "citoglipton                 101766 non-null object\n",
      "insulin                     101766 non-null object\n",
      "glyburide-metformin         101766 non-null object\n",
      "glipizide-metformin         101766 non-null object\n",
      "glimepiride-pioglitazone    101766 non-null object\n",
      "metformin-rosiglitazone     101766 non-null object\n",
      "metformin-pioglitazone      101766 non-null object\n",
      "change                      101766 non-null object\n",
      "diabetesMed                 101766 non-null object\n",
      "readmitted                  101766 non-null object\n",
      "dtypes: int64(13), object(37)\n",
      "memory usage: 38.8+ MB\n"
     ]
    }
   ],
   "source": [
    "data.info()"
   ]
  },
  {
   "cell_type": "code",
   "execution_count": 100,
   "metadata": {
    "scrolled": true
   },
   "outputs": [
    {
     "data": {
      "text/plain": [
       "encounter_id                0\n",
       "patient_nbr                 0\n",
       "race                        0\n",
       "gender                      0\n",
       "age                         0\n",
       "weight                      0\n",
       "admission_type_id           0\n",
       "discharge_disposition_id    0\n",
       "admission_source_id         0\n",
       "time_in_hospital            0\n",
       "payer_code                  0\n",
       "medical_specialty           0\n",
       "num_lab_procedures          0\n",
       "num_procedures              0\n",
       "num_medications             0\n",
       "number_outpatient           0\n",
       "number_emergency            0\n",
       "number_inpatient            0\n",
       "diag_1                      0\n",
       "diag_2                      0\n",
       "diag_3                      0\n",
       "number_diagnoses            0\n",
       "max_glu_serum               0\n",
       "A1Cresult                   0\n",
       "metformin                   0\n",
       "repaglinide                 0\n",
       "nateglinide                 0\n",
       "chlorpropamide              0\n",
       "glimepiride                 0\n",
       "acetohexamide               0\n",
       "glipizide                   0\n",
       "glyburide                   0\n",
       "tolbutamide                 0\n",
       "pioglitazone                0\n",
       "rosiglitazone               0\n",
       "acarbose                    0\n",
       "miglitol                    0\n",
       "troglitazone                0\n",
       "tolazamide                  0\n",
       "examide                     0\n",
       "citoglipton                 0\n",
       "insulin                     0\n",
       "glyburide-metformin         0\n",
       "glipizide-metformin         0\n",
       "glimepiride-pioglitazone    0\n",
       "metformin-rosiglitazone     0\n",
       "metformin-pioglitazone      0\n",
       "change                      0\n",
       "diabetesMed                 0\n",
       "readmitted                  0\n",
       "dtype: int64"
      ]
     },
     "execution_count": 100,
     "metadata": {},
     "output_type": "execute_result"
    }
   ],
   "source": [
    "data.isna().sum()"
   ]
  },
  {
   "cell_type": "markdown",
   "metadata": {},
   "source": [
    "## Separate Features from Target Variable (Readmitted Column)"
   ]
  },
  {
   "cell_type": "code",
   "execution_count": 101,
   "metadata": {},
   "outputs": [
    {
     "name": "stdout",
     "output_type": "stream",
     "text": [
      "(101766, 50)\n"
     ]
    },
    {
     "data": {
      "text/html": [
       "<div>\n",
       "<style scoped>\n",
       "    .dataframe tbody tr th:only-of-type {\n",
       "        vertical-align: middle;\n",
       "    }\n",
       "\n",
       "    .dataframe tbody tr th {\n",
       "        vertical-align: top;\n",
       "    }\n",
       "\n",
       "    .dataframe thead th {\n",
       "        text-align: right;\n",
       "    }\n",
       "</style>\n",
       "<table border=\"1\" class=\"dataframe\">\n",
       "  <thead>\n",
       "    <tr style=\"text-align: right;\">\n",
       "      <th></th>\n",
       "      <th>encounter_id</th>\n",
       "      <th>patient_nbr</th>\n",
       "      <th>race</th>\n",
       "      <th>gender</th>\n",
       "      <th>age</th>\n",
       "      <th>weight</th>\n",
       "      <th>admission_type_id</th>\n",
       "      <th>discharge_disposition_id</th>\n",
       "      <th>admission_source_id</th>\n",
       "      <th>time_in_hospital</th>\n",
       "      <th>...</th>\n",
       "      <th>citoglipton</th>\n",
       "      <th>insulin</th>\n",
       "      <th>glyburide-metformin</th>\n",
       "      <th>glipizide-metformin</th>\n",
       "      <th>glimepiride-pioglitazone</th>\n",
       "      <th>metformin-rosiglitazone</th>\n",
       "      <th>metformin-pioglitazone</th>\n",
       "      <th>change</th>\n",
       "      <th>diabetesMed</th>\n",
       "      <th>readmitted</th>\n",
       "    </tr>\n",
       "  </thead>\n",
       "  <tbody>\n",
       "    <tr>\n",
       "      <th>0</th>\n",
       "      <td>2278392</td>\n",
       "      <td>8222157</td>\n",
       "      <td>Caucasian</td>\n",
       "      <td>Female</td>\n",
       "      <td>[0-10)</td>\n",
       "      <td>?</td>\n",
       "      <td>6</td>\n",
       "      <td>25</td>\n",
       "      <td>1</td>\n",
       "      <td>1</td>\n",
       "      <td>...</td>\n",
       "      <td>No</td>\n",
       "      <td>No</td>\n",
       "      <td>No</td>\n",
       "      <td>No</td>\n",
       "      <td>No</td>\n",
       "      <td>No</td>\n",
       "      <td>No</td>\n",
       "      <td>No</td>\n",
       "      <td>No</td>\n",
       "      <td>NO</td>\n",
       "    </tr>\n",
       "    <tr>\n",
       "      <th>1</th>\n",
       "      <td>149190</td>\n",
       "      <td>55629189</td>\n",
       "      <td>Caucasian</td>\n",
       "      <td>Female</td>\n",
       "      <td>[10-20)</td>\n",
       "      <td>?</td>\n",
       "      <td>1</td>\n",
       "      <td>1</td>\n",
       "      <td>7</td>\n",
       "      <td>3</td>\n",
       "      <td>...</td>\n",
       "      <td>No</td>\n",
       "      <td>Up</td>\n",
       "      <td>No</td>\n",
       "      <td>No</td>\n",
       "      <td>No</td>\n",
       "      <td>No</td>\n",
       "      <td>No</td>\n",
       "      <td>Ch</td>\n",
       "      <td>Yes</td>\n",
       "      <td>&gt;30</td>\n",
       "    </tr>\n",
       "    <tr>\n",
       "      <th>2</th>\n",
       "      <td>64410</td>\n",
       "      <td>86047875</td>\n",
       "      <td>AfricanAmerican</td>\n",
       "      <td>Female</td>\n",
       "      <td>[20-30)</td>\n",
       "      <td>?</td>\n",
       "      <td>1</td>\n",
       "      <td>1</td>\n",
       "      <td>7</td>\n",
       "      <td>2</td>\n",
       "      <td>...</td>\n",
       "      <td>No</td>\n",
       "      <td>No</td>\n",
       "      <td>No</td>\n",
       "      <td>No</td>\n",
       "      <td>No</td>\n",
       "      <td>No</td>\n",
       "      <td>No</td>\n",
       "      <td>No</td>\n",
       "      <td>Yes</td>\n",
       "      <td>NO</td>\n",
       "    </tr>\n",
       "    <tr>\n",
       "      <th>3</th>\n",
       "      <td>500364</td>\n",
       "      <td>82442376</td>\n",
       "      <td>Caucasian</td>\n",
       "      <td>Male</td>\n",
       "      <td>[30-40)</td>\n",
       "      <td>?</td>\n",
       "      <td>1</td>\n",
       "      <td>1</td>\n",
       "      <td>7</td>\n",
       "      <td>2</td>\n",
       "      <td>...</td>\n",
       "      <td>No</td>\n",
       "      <td>Up</td>\n",
       "      <td>No</td>\n",
       "      <td>No</td>\n",
       "      <td>No</td>\n",
       "      <td>No</td>\n",
       "      <td>No</td>\n",
       "      <td>Ch</td>\n",
       "      <td>Yes</td>\n",
       "      <td>NO</td>\n",
       "    </tr>\n",
       "    <tr>\n",
       "      <th>4</th>\n",
       "      <td>16680</td>\n",
       "      <td>42519267</td>\n",
       "      <td>Caucasian</td>\n",
       "      <td>Male</td>\n",
       "      <td>[40-50)</td>\n",
       "      <td>?</td>\n",
       "      <td>1</td>\n",
       "      <td>1</td>\n",
       "      <td>7</td>\n",
       "      <td>1</td>\n",
       "      <td>...</td>\n",
       "      <td>No</td>\n",
       "      <td>Steady</td>\n",
       "      <td>No</td>\n",
       "      <td>No</td>\n",
       "      <td>No</td>\n",
       "      <td>No</td>\n",
       "      <td>No</td>\n",
       "      <td>Ch</td>\n",
       "      <td>Yes</td>\n",
       "      <td>NO</td>\n",
       "    </tr>\n",
       "  </tbody>\n",
       "</table>\n",
       "<p>5 rows × 50 columns</p>\n",
       "</div>"
      ],
      "text/plain": [
       "   encounter_id  patient_nbr             race  gender      age weight  \\\n",
       "0       2278392      8222157        Caucasian  Female   [0-10)      ?   \n",
       "1        149190     55629189        Caucasian  Female  [10-20)      ?   \n",
       "2         64410     86047875  AfricanAmerican  Female  [20-30)      ?   \n",
       "3        500364     82442376        Caucasian    Male  [30-40)      ?   \n",
       "4         16680     42519267        Caucasian    Male  [40-50)      ?   \n",
       "\n",
       "   admission_type_id  discharge_disposition_id  admission_source_id  \\\n",
       "0                  6                        25                    1   \n",
       "1                  1                         1                    7   \n",
       "2                  1                         1                    7   \n",
       "3                  1                         1                    7   \n",
       "4                  1                         1                    7   \n",
       "\n",
       "   time_in_hospital    ...     citoglipton insulin  glyburide-metformin  \\\n",
       "0                 1    ...              No      No                   No   \n",
       "1                 3    ...              No      Up                   No   \n",
       "2                 2    ...              No      No                   No   \n",
       "3                 2    ...              No      Up                   No   \n",
       "4                 1    ...              No  Steady                   No   \n",
       "\n",
       "   glipizide-metformin  glimepiride-pioglitazone  metformin-rosiglitazone  \\\n",
       "0                   No                        No                       No   \n",
       "1                   No                        No                       No   \n",
       "2                   No                        No                       No   \n",
       "3                   No                        No                       No   \n",
       "4                   No                        No                       No   \n",
       "\n",
       "   metformin-pioglitazone  change diabetesMed readmitted  \n",
       "0                      No      No          No         NO  \n",
       "1                      No      Ch         Yes        >30  \n",
       "2                      No      No         Yes         NO  \n",
       "3                      No      Ch         Yes         NO  \n",
       "4                      No      Ch         Yes         NO  \n",
       "\n",
       "[5 rows x 50 columns]"
      ]
     },
     "execution_count": 101,
     "metadata": {},
     "output_type": "execute_result"
    }
   ],
   "source": [
    "print(data.shape)\n",
    "data.head()"
   ]
  },
  {
   "cell_type": "markdown",
   "metadata": {},
   "source": [
    "## Examine Features of Interest"
   ]
  },
  {
   "cell_type": "code",
   "execution_count": 102,
   "metadata": {
    "scrolled": false
   },
   "outputs": [
    {
     "name": "stdout",
     "output_type": "stream",
     "text": [
      "Caucasian          76099\n",
      "AfricanAmerican    19210\n",
      "?                   2273\n",
      "Hispanic            2037\n",
      "Other               1506\n",
      "Asian                641\n",
      "Name: race, dtype: int64\n"
     ]
    },
    {
     "data": {
      "image/png": "[encoded data removed]",
      "text/plain": [
       "<Figure size 432x288 with 1 Axes>"
      ]
     },
     "metadata": {
      "needs_background": "light"
     },
     "output_type": "display_data"
    }
   ],
   "source": [
    "print(data.race.value_counts())\n",
    "data.race.value_counts().plot(kind='bar')\n",
    "plt.title('Dispersion of Race')\n",
    "plt.xticks(rotation=45);"
   ]
  },
  {
   "cell_type": "code",
   "execution_count": 103,
   "metadata": {},
   "outputs": [
    {
     "name": "stdout",
     "output_type": "stream",
     "text": [
      "Female             54708\n",
      "Male               47055\n",
      "Unknown/Invalid        3\n",
      "Name: gender, dtype: int64\n"
     ]
    },
    {
     "data": {
      "image/png": "[encoded data removed]",
      "text/plain": [
       "<Figure size 432x288 with 1 Axes>"
      ]
     },
     "metadata": {
      "needs_background": "light"
     },
     "output_type": "display_data"
    }
   ],
   "source": [
    "print(data.gender.value_counts())\n",
    "data.gender.value_counts().plot(kind='bar')\n",
    "plt.xticks(rotation=45)\n",
    "plt.title('Gender Dispersion');"
   ]
  },
  {
   "cell_type": "code",
   "execution_count": 104,
   "metadata": {},
   "outputs": [
    {
     "name": "stdout",
     "output_type": "stream",
     "text": [
      "[70-80)     26068\n",
      "[60-70)     22483\n",
      "[50-60)     17256\n",
      "[80-90)     17197\n",
      "[40-50)      9685\n",
      "[30-40)      3775\n",
      "[90-100)     2793\n",
      "[20-30)      1657\n",
      "[10-20)       691\n",
      "[0-10)        161\n",
      "Name: age, dtype: int64\n"
     ]
    },
    {
     "data": {
      "image/png": "[encoded data removed]",
      "text/plain": [
       "<Figure size 432x288 with 1 Axes>"
      ]
     },
     "metadata": {
      "needs_background": "light"
     },
     "output_type": "display_data"
    }
   ],
   "source": [
    "print(data.age.value_counts())\n",
    "data.age.value_counts().plot(kind='bar')\n",
    "plt.xticks(rotation=45)\n",
    "plt.title('Age Dispersion');"
   ]
  },
  {
   "cell_type": "code",
   "execution_count": 105,
   "metadata": {},
   "outputs": [
    {
     "name": "stdout",
     "output_type": "stream",
     "text": [
      "None    96420\n",
      "Norm     2597\n",
      ">200     1485\n",
      ">300     1264\n",
      "Name: max_glu_serum, dtype: int64\n"
     ]
    },
    {
     "data": {
      "image/png": "[encoded data removed]",
      "text/plain": [
       "<Figure size 432x288 with 1 Axes>"
      ]
     },
     "metadata": {
      "needs_background": "light"
     },
     "output_type": "display_data"
    }
   ],
   "source": [
    "print(data.max_glu_serum.value_counts())\n",
    "data.max_glu_serum.value_counts().plot(kind='bar')\n",
    "plt.xticks(rotation='horizontal')\n",
    "plt.title('Hb1Ac Test Results');"
   ]
  },
  {
   "cell_type": "code",
   "execution_count": 106,
   "metadata": {},
   "outputs": [
    {
     "data": {
      "text/plain": [
       "None    84748\n",
       ">8       8216\n",
       "Norm     4990\n",
       ">7       3812\n",
       "Name: A1Cresult, dtype: int64"
      ]
     },
     "execution_count": 106,
     "metadata": {},
     "output_type": "execute_result"
    }
   ],
   "source": [
    "data.A1Cresult.value_counts()"
   ]
  },
  {
   "cell_type": "code",
   "execution_count": 107,
   "metadata": {
    "scrolled": true
   },
   "outputs": [
    {
     "data": {
      "text/plain": [
       "?                                    49949\n",
       "InternalMedicine                     14635\n",
       "Emergency/Trauma                      7565\n",
       "Family/GeneralPractice                7440\n",
       "Cardiology                            5352\n",
       "Surgery-General                       3099\n",
       "Nephrology                            1613\n",
       "Orthopedics                           1400\n",
       "Orthopedics-Reconstructive            1233\n",
       "Radiologist                           1140\n",
       "Pulmonology                            871\n",
       "Psychiatry                             854\n",
       "Urology                                685\n",
       "ObstetricsandGynecology                671\n",
       "Surgery-Cardiovascular/Thoracic        652\n",
       "Gastroenterology                       564\n",
       "Surgery-Vascular                       533\n",
       "Surgery-Neuro                          468\n",
       "PhysicalMedicineandRehabilitation      391\n",
       "Oncology                               348\n",
       "Pediatrics                             254\n",
       "Hematology/Oncology                    207\n",
       "Neurology                              203\n",
       "Pediatrics-Endocrinology               159\n",
       "Otolaryngology                         125\n",
       "Endocrinology                          120\n",
       "Surgery-Thoracic                       109\n",
       "Psychology                             101\n",
       "Podiatry                               100\n",
       "Surgery-Cardiovascular                  98\n",
       "                                     ...  \n",
       "Anesthesiology-Pediatric                19\n",
       "Obstetrics                              19\n",
       "Rheumatology                            17\n",
       "Pathology                               17\n",
       "Anesthesiology                          12\n",
       "OutreachServices                        12\n",
       "PhysicianNotFound                       11\n",
       "Surgery-Colon&Rectal                    11\n",
       "Surgery-Maxillofacial                   11\n",
       "Pediatrics-Neurology                    10\n",
       "Surgery-Pediatric                        8\n",
       "Endocrinology-Metabolism                 8\n",
       "Cardiology-Pediatric                     7\n",
       "AllergyandImmunology                     7\n",
       "Psychiatry-Child/Adolescent              7\n",
       "DCPTEAM                                  6\n",
       "Pediatrics-Hematology-Oncology           4\n",
       "Dentistry                                4\n",
       "Pediatrics-AllergyandImmunology          3\n",
       "Pediatrics-EmergencyMedicine             3\n",
       "Resident                                 2\n",
       "Proctology                               1\n",
       "Perinatology                             1\n",
       "Speech                                   1\n",
       "Surgery-PlasticwithinHeadandNeck         1\n",
       "SportsMedicine                           1\n",
       "Neurophysiology                          1\n",
       "Psychiatry-Addictive                     1\n",
       "Pediatrics-InfectiousDiseases            1\n",
       "Dermatology                              1\n",
       "Name: medical_specialty, Length: 73, dtype: int64"
      ]
     },
     "execution_count": 107,
     "metadata": {},
     "output_type": "execute_result"
    }
   ],
   "source": [
    "data.medical_specialty.value_counts()"
   ]
  },
  {
   "cell_type": "code",
   "execution_count": 108,
   "metadata": {
    "scrolled": false
   },
   "outputs": [
    {
     "data": {
      "image/png": "[encoded data removed]",
      "text/plain": [
       "<Figure size 432x288 with 1 Axes>"
      ]
     },
     "metadata": {
      "needs_background": "light"
     },
     "output_type": "display_data"
    }
   ],
   "source": [
    "plt.hist(data.time_in_hospital, bins=13)\n",
    "plt.xlabel('Number of Days in Hospital')\n",
    "plt.ylabel('Number of Patients')\n",
    "plt.title('Length of Stay for Patients');"
   ]
  },
  {
   "cell_type": "markdown",
   "metadata": {},
   "source": [
    "# 2. Data Cleaning & Exploratory Data Analysis\n",
    " - Look at columns with data where '?' are used for placeholders\n",
    " - Determine any columns worth dropping ahead of time"
   ]
  },
  {
   "cell_type": "code",
   "execution_count": 109,
   "metadata": {
    "scrolled": true
   },
   "outputs": [
    {
     "name": "stdout",
     "output_type": "stream",
     "text": [
      "<class 'pandas.core.frame.DataFrame'>\n",
      "RangeIndex: 101766 entries, 0 to 101765\n",
      "Data columns (total 50 columns):\n",
      "encounter_id                101766 non-null int64\n",
      "patient_nbr                 101766 non-null int64\n",
      "race                        101766 non-null object\n",
      "gender                      101766 non-null object\n",
      "age                         101766 non-null object\n",
      "weight                      101766 non-null object\n",
      "admission_type_id           101766 non-null int64\n",
      "discharge_disposition_id    101766 non-null int64\n",
      "admission_source_id         101766 non-null int64\n",
      "time_in_hospital            101766 non-null int64\n",
      "payer_code                  101766 non-null object\n",
      "medical_specialty           101766 non-null object\n",
      "num_lab_procedures          101766 non-null int64\n",
      "num_procedures              101766 non-null int64\n",
      "num_medications             101766 non-null int64\n",
      "number_outpatient           101766 non-null int64\n",
      "number_emergency            101766 non-null int64\n",
      "number_inpatient            101766 non-null int64\n",
      "diag_1                      101766 non-null object\n",
      "diag_2                      101766 non-null object\n",
      "diag_3                      101766 non-null object\n",
      "number_diagnoses            101766 non-null int64\n",
      "max_glu_serum               101766 non-null object\n",
      "A1Cresult                   101766 non-null object\n",
      "metformin                   101766 non-null object\n",
      "repaglinide                 101766 non-null object\n",
      "nateglinide                 101766 non-null object\n",
      "chlorpropamide              101766 non-null object\n",
      "glimepiride                 101766 non-null object\n",
      "acetohexamide               101766 non-null object\n",
      "glipizide                   101766 non-null object\n",
      "glyburide                   101766 non-null object\n",
      "tolbutamide                 101766 non-null object\n",
      "pioglitazone                101766 non-null object\n",
      "rosiglitazone               101766 non-null object\n",
      "acarbose                    101766 non-null object\n",
      "miglitol                    101766 non-null object\n",
      "troglitazone                101766 non-null object\n",
      "tolazamide                  101766 non-null object\n",
      "examide                     101766 non-null object\n",
      "citoglipton                 101766 non-null object\n",
      "insulin                     101766 non-null object\n",
      "glyburide-metformin         101766 non-null object\n",
      "glipizide-metformin         101766 non-null object\n",
      "glimepiride-pioglitazone    101766 non-null object\n",
      "metformin-rosiglitazone     101766 non-null object\n",
      "metformin-pioglitazone      101766 non-null object\n",
      "change                      101766 non-null object\n",
      "diabetesMed                 101766 non-null object\n",
      "readmitted                  101766 non-null object\n",
      "dtypes: int64(13), object(37)\n",
      "memory usage: 38.8+ MB\n"
     ]
    }
   ],
   "source": [
    "data.info()"
   ]
  },
  {
   "cell_type": "code",
   "execution_count": 110,
   "metadata": {},
   "outputs": [],
   "source": [
    "# Drop encounter_id and patient_nbr as they won't be helpful\n",
    "data.drop(columns=['encounter_id', 'patient_nbr'], inplace=True)"
   ]
  },
  {
   "cell_type": "code",
   "execution_count": 111,
   "metadata": {},
   "outputs": [],
   "source": [
    "# Drop Weight Column, since 97% of data is missing\n",
    "data.drop(columns='weight', inplace=True)"
   ]
  },
  {
   "cell_type": "code",
   "execution_count": 112,
   "metadata": {},
   "outputs": [],
   "source": [
    "# Drop Payer Code, won't be something of interest to look at in the data\n",
    "data.drop(columns='payer_code', inplace=True)"
   ]
  },
  {
   "cell_type": "code",
   "execution_count": 113,
   "metadata": {},
   "outputs": [
    {
     "data": {
      "text/plain": [
       "Caucasian          76099\n",
       "AfricanAmerican    19210\n",
       "Hispanic            2037\n",
       "Asian                641\n",
       "Name: race, dtype: int64"
      ]
     },
     "execution_count": 113,
     "metadata": {},
     "output_type": "execute_result"
    }
   ],
   "source": [
    "# Drop Race column rows with '?' as a value\n",
    "data = data[data.race != '?']\n",
    "data = data[data.race != 'Other']\n",
    "data.race.value_counts()"
   ]
  },
  {
   "cell_type": "code",
   "execution_count": 114,
   "metadata": {},
   "outputs": [
    {
     "data": {
      "text/plain": [
       "Female    52827\n",
       "Male      45160\n",
       "Name: gender, dtype: int64"
      ]
     },
     "execution_count": 114,
     "metadata": {},
     "output_type": "execute_result"
    }
   ],
   "source": [
    "data = data[data.gender != 'Unknown/Invalid']\n",
    "data.gender.value_counts()"
   ]
  },
  {
   "cell_type": "code",
   "execution_count": 115,
   "metadata": {
    "scrolled": true
   },
   "outputs": [
    {
     "name": "stdout",
     "output_type": "stream",
     "text": [
      "<class 'pandas.core.frame.DataFrame'>\n",
      "Int64Index: 97987 entries, 0 to 101765\n",
      "Data columns (total 46 columns):\n",
      "race                        97987 non-null object\n",
      "gender                      97987 non-null object\n",
      "age                         97987 non-null object\n",
      "admission_type_id           97987 non-null int64\n",
      "discharge_disposition_id    97987 non-null int64\n",
      "admission_source_id         97987 non-null int64\n",
      "time_in_hospital            97987 non-null int64\n",
      "medical_specialty           97987 non-null object\n",
      "num_lab_procedures          97987 non-null int64\n",
      "num_procedures              97987 non-null int64\n",
      "num_medications             97987 non-null int64\n",
      "number_outpatient           97987 non-null int64\n",
      "number_emergency            97987 non-null int64\n",
      "number_inpatient            97987 non-null int64\n",
      "diag_1                      97987 non-null object\n",
      "diag_2                      97987 non-null object\n",
      "diag_3                      97987 non-null object\n",
      "number_diagnoses            97987 non-null int64\n",
      "max_glu_serum               97987 non-null object\n",
      "A1Cresult                   97987 non-null object\n",
      "metformin                   97987 non-null object\n",
      "repaglinide                 97987 non-null object\n",
      "nateglinide                 97987 non-null object\n",
      "chlorpropamide              97987 non-null object\n",
      "glimepiride                 97987 non-null object\n",
      "acetohexamide               97987 non-null object\n",
      "glipizide                   97987 non-null object\n",
      "glyburide                   97987 non-null object\n",
      "tolbutamide                 97987 non-null object\n",
      "pioglitazone                97987 non-null object\n",
      "rosiglitazone               97987 non-null object\n",
      "acarbose                    97987 non-null object\n",
      "miglitol                    97987 non-null object\n",
      "troglitazone                97987 non-null object\n",
      "tolazamide                  97987 non-null object\n",
      "examide                     97987 non-null object\n",
      "citoglipton                 97987 non-null object\n",
      "insulin                     97987 non-null object\n",
      "glyburide-metformin         97987 non-null object\n",
      "glipizide-metformin         97987 non-null object\n",
      "glimepiride-pioglitazone    97987 non-null object\n",
      "metformin-rosiglitazone     97987 non-null object\n",
      "metformin-pioglitazone      97987 non-null object\n",
      "change                      97987 non-null object\n",
      "diabetesMed                 97987 non-null object\n",
      "readmitted                  97987 non-null object\n",
      "dtypes: int64(11), object(35)\n",
      "memory usage: 35.1+ MB\n"
     ]
    }
   ],
   "source": [
    "data.info()"
   ]
  },
  {
   "cell_type": "code",
   "execution_count": 116,
   "metadata": {
    "scrolled": true
   },
   "outputs": [
    {
     "data": {
      "text/plain": [
       "Missing                              48099\n",
       "InternalMedicine                     14032\n",
       "Emergency/Trauma                      7289\n",
       "Family/GeneralPractice                7177\n",
       "Cardiology                            5160\n",
       "Surgery-General                       2977\n",
       "Nephrology                            1584\n",
       "Orthopedics                           1366\n",
       "Orthopedics-Reconstructive            1180\n",
       "Radiologist                           1109\n",
       "Pulmonology                            827\n",
       "Psychiatry                             823\n",
       "Urology                                658\n",
       "ObstetricsandGynecology                644\n",
       "Surgery-Cardiovascular/Thoracic        619\n",
       "Gastroenterology                       549\n",
       "Surgery-Vascular                       530\n",
       "Surgery-Neuro                          454\n",
       "PhysicalMedicineandRehabilitation      374\n",
       "Oncology                               342\n",
       "Pediatrics                             245\n",
       "Hematology/Oncology                    202\n",
       "Neurology                              191\n",
       "Pediatrics-Endocrinology               156\n",
       "Otolaryngology                         119\n",
       "Endocrinology                          118\n",
       "Surgery-Thoracic                       102\n",
       "Surgery-Cardiovascular                  97\n",
       "Psychology                              91\n",
       "Podiatry                                88\n",
       "                                     ...  \n",
       "Anesthesiology-Pediatric                19\n",
       "Obstetrics                              17\n",
       "Rheumatology                            17\n",
       "Pathology                               15\n",
       "OutreachServices                        12\n",
       "PhysicianNotFound                       11\n",
       "Surgery-Maxillofacial                   11\n",
       "Anesthesiology                          11\n",
       "Pediatrics-Neurology                    10\n",
       "Surgery-Colon&Rectal                    10\n",
       "Endocrinology-Metabolism                 8\n",
       "Surgery-Pediatric                        8\n",
       "Cardiology-Pediatric                     7\n",
       "AllergyandImmunology                     7\n",
       "Psychiatry-Child/Adolescent              7\n",
       "DCPTEAM                                  6\n",
       "Pediatrics-Hematology-Oncology           4\n",
       "Dentistry                                4\n",
       "Pediatrics-EmergencyMedicine             3\n",
       "Pediatrics-AllergyandImmunology          3\n",
       "Surgery-PlasticwithinHeadandNeck         1\n",
       "Psychiatry-Addictive                     1\n",
       "Neurophysiology                          1\n",
       "Resident                                 1\n",
       "Speech                                   1\n",
       "Perinatology                             1\n",
       "SportsMedicine                           1\n",
       "Proctology                               1\n",
       "Pediatrics-InfectiousDiseases            1\n",
       "Dermatology                              1\n",
       "Name: medical_specialty, Length: 73, dtype: int64"
      ]
     },
     "execution_count": 116,
     "metadata": {},
     "output_type": "execute_result"
    }
   ],
   "source": [
    "# Replace '?' values for Medical Specialty with 'Missing', not removing column yet as it could bring value later\n",
    "data.medical_specialty.replace('?', 'Missing', inplace=True)\n",
    "data.medical_specialty.value_counts()"
   ]
  },
  {
   "cell_type": "code",
   "execution_count": 117,
   "metadata": {},
   "outputs": [],
   "source": [
    "medications = data.iloc[:, 19:43]"
   ]
  },
  {
   "cell_type": "code",
   "execution_count": 118,
   "metadata": {},
   "outputs": [
    {
     "data": {
      "text/html": [
       "<div>\n",
       "<style scoped>\n",
       "    .dataframe tbody tr th:only-of-type {\n",
       "        vertical-align: middle;\n",
       "    }\n",
       "\n",
       "    .dataframe tbody tr th {\n",
       "        vertical-align: top;\n",
       "    }\n",
       "\n",
       "    .dataframe thead th {\n",
       "        text-align: right;\n",
       "    }\n",
       "</style>\n",
       "<table border=\"1\" class=\"dataframe\">\n",
       "  <thead>\n",
       "    <tr style=\"text-align: right;\">\n",
       "      <th></th>\n",
       "      <th>A1Cresult</th>\n",
       "      <th>metformin</th>\n",
       "      <th>repaglinide</th>\n",
       "      <th>nateglinide</th>\n",
       "      <th>chlorpropamide</th>\n",
       "      <th>glimepiride</th>\n",
       "      <th>acetohexamide</th>\n",
       "      <th>glipizide</th>\n",
       "      <th>glyburide</th>\n",
       "      <th>tolbutamide</th>\n",
       "      <th>...</th>\n",
       "      <th>troglitazone</th>\n",
       "      <th>tolazamide</th>\n",
       "      <th>examide</th>\n",
       "      <th>citoglipton</th>\n",
       "      <th>insulin</th>\n",
       "      <th>glyburide-metformin</th>\n",
       "      <th>glipizide-metformin</th>\n",
       "      <th>glimepiride-pioglitazone</th>\n",
       "      <th>metformin-rosiglitazone</th>\n",
       "      <th>metformin-pioglitazone</th>\n",
       "    </tr>\n",
       "  </thead>\n",
       "  <tbody>\n",
       "    <tr>\n",
       "      <th>0</th>\n",
       "      <td>None</td>\n",
       "      <td>No</td>\n",
       "      <td>No</td>\n",
       "      <td>No</td>\n",
       "      <td>No</td>\n",
       "      <td>No</td>\n",
       "      <td>No</td>\n",
       "      <td>No</td>\n",
       "      <td>No</td>\n",
       "      <td>No</td>\n",
       "      <td>...</td>\n",
       "      <td>No</td>\n",
       "      <td>No</td>\n",
       "      <td>No</td>\n",
       "      <td>No</td>\n",
       "      <td>No</td>\n",
       "      <td>No</td>\n",
       "      <td>No</td>\n",
       "      <td>No</td>\n",
       "      <td>No</td>\n",
       "      <td>No</td>\n",
       "    </tr>\n",
       "    <tr>\n",
       "      <th>1</th>\n",
       "      <td>None</td>\n",
       "      <td>No</td>\n",
       "      <td>No</td>\n",
       "      <td>No</td>\n",
       "      <td>No</td>\n",
       "      <td>No</td>\n",
       "      <td>No</td>\n",
       "      <td>No</td>\n",
       "      <td>No</td>\n",
       "      <td>No</td>\n",
       "      <td>...</td>\n",
       "      <td>No</td>\n",
       "      <td>No</td>\n",
       "      <td>No</td>\n",
       "      <td>No</td>\n",
       "      <td>Up</td>\n",
       "      <td>No</td>\n",
       "      <td>No</td>\n",
       "      <td>No</td>\n",
       "      <td>No</td>\n",
       "      <td>No</td>\n",
       "    </tr>\n",
       "    <tr>\n",
       "      <th>2</th>\n",
       "      <td>None</td>\n",
       "      <td>No</td>\n",
       "      <td>No</td>\n",
       "      <td>No</td>\n",
       "      <td>No</td>\n",
       "      <td>No</td>\n",
       "      <td>No</td>\n",
       "      <td>Steady</td>\n",
       "      <td>No</td>\n",
       "      <td>No</td>\n",
       "      <td>...</td>\n",
       "      <td>No</td>\n",
       "      <td>No</td>\n",
       "      <td>No</td>\n",
       "      <td>No</td>\n",
       "      <td>No</td>\n",
       "      <td>No</td>\n",
       "      <td>No</td>\n",
       "      <td>No</td>\n",
       "      <td>No</td>\n",
       "      <td>No</td>\n",
       "    </tr>\n",
       "    <tr>\n",
       "      <th>3</th>\n",
       "      <td>None</td>\n",
       "      <td>No</td>\n",
       "      <td>No</td>\n",
       "      <td>No</td>\n",
       "      <td>No</td>\n",
       "      <td>No</td>\n",
       "      <td>No</td>\n",
       "      <td>No</td>\n",
       "      <td>No</td>\n",
       "      <td>No</td>\n",
       "      <td>...</td>\n",
       "      <td>No</td>\n",
       "      <td>No</td>\n",
       "      <td>No</td>\n",
       "      <td>No</td>\n",
       "      <td>Up</td>\n",
       "      <td>No</td>\n",
       "      <td>No</td>\n",
       "      <td>No</td>\n",
       "      <td>No</td>\n",
       "      <td>No</td>\n",
       "    </tr>\n",
       "    <tr>\n",
       "      <th>4</th>\n",
       "      <td>None</td>\n",
       "      <td>No</td>\n",
       "      <td>No</td>\n",
       "      <td>No</td>\n",
       "      <td>No</td>\n",
       "      <td>No</td>\n",
       "      <td>No</td>\n",
       "      <td>Steady</td>\n",
       "      <td>No</td>\n",
       "      <td>No</td>\n",
       "      <td>...</td>\n",
       "      <td>No</td>\n",
       "      <td>No</td>\n",
       "      <td>No</td>\n",
       "      <td>No</td>\n",
       "      <td>Steady</td>\n",
       "      <td>No</td>\n",
       "      <td>No</td>\n",
       "      <td>No</td>\n",
       "      <td>No</td>\n",
       "      <td>No</td>\n",
       "    </tr>\n",
       "  </tbody>\n",
       "</table>\n",
       "<p>5 rows × 24 columns</p>\n",
       "</div>"
      ],
      "text/plain": [
       "  A1Cresult metformin repaglinide nateglinide chlorpropamide glimepiride  \\\n",
       "0      None        No          No          No             No          No   \n",
       "1      None        No          No          No             No          No   \n",
       "2      None        No          No          No             No          No   \n",
       "3      None        No          No          No             No          No   \n",
       "4      None        No          No          No             No          No   \n",
       "\n",
       "  acetohexamide glipizide glyburide tolbutamide          ...            \\\n",
       "0            No        No        No          No          ...             \n",
       "1            No        No        No          No          ...             \n",
       "2            No    Steady        No          No          ...             \n",
       "3            No        No        No          No          ...             \n",
       "4            No    Steady        No          No          ...             \n",
       "\n",
       "  troglitazone tolazamide examide citoglipton insulin glyburide-metformin  \\\n",
       "0           No         No      No          No      No                  No   \n",
       "1           No         No      No          No      Up                  No   \n",
       "2           No         No      No          No      No                  No   \n",
       "3           No         No      No          No      Up                  No   \n",
       "4           No         No      No          No  Steady                  No   \n",
       "\n",
       "  glipizide-metformin glimepiride-pioglitazone metformin-rosiglitazone  \\\n",
       "0                  No                       No                      No   \n",
       "1                  No                       No                      No   \n",
       "2                  No                       No                      No   \n",
       "3                  No                       No                      No   \n",
       "4                  No                       No                      No   \n",
       "\n",
       "  metformin-pioglitazone  \n",
       "0                     No  \n",
       "1                     No  \n",
       "2                     No  \n",
       "3                     No  \n",
       "4                     No  \n",
       "\n",
       "[5 rows x 24 columns]"
      ]
     },
     "execution_count": 118,
     "metadata": {},
     "output_type": "execute_result"
    }
   ],
   "source": [
    "medications.head()"
   ]
  },
  {
   "cell_type": "code",
   "execution_count": 119,
   "metadata": {},
   "outputs": [
    {
     "name": "stdout",
     "output_type": "stream",
     "text": [
      "<class 'pandas.core.frame.DataFrame'>\n",
      "Int64Index: 97987 entries, 0 to 101765\n",
      "Data columns (total 22 columns):\n",
      "race                        97987 non-null object\n",
      "gender                      97987 non-null object\n",
      "age                         97987 non-null object\n",
      "admission_type_id           97987 non-null int64\n",
      "discharge_disposition_id    97987 non-null int64\n",
      "admission_source_id         97987 non-null int64\n",
      "time_in_hospital            97987 non-null int64\n",
      "medical_specialty           97987 non-null object\n",
      "num_lab_procedures          97987 non-null int64\n",
      "num_procedures              97987 non-null int64\n",
      "num_medications             97987 non-null int64\n",
      "number_outpatient           97987 non-null int64\n",
      "number_emergency            97987 non-null int64\n",
      "number_inpatient            97987 non-null int64\n",
      "diag_1                      97987 non-null object\n",
      "diag_2                      97987 non-null object\n",
      "diag_3                      97987 non-null object\n",
      "number_diagnoses            97987 non-null int64\n",
      "max_glu_serum               97987 non-null object\n",
      "change                      97987 non-null object\n",
      "diabetesMed                 97987 non-null object\n",
      "readmitted                  97987 non-null object\n",
      "dtypes: int64(11), object(11)\n",
      "memory usage: 17.2+ MB\n"
     ]
    }
   ],
   "source": [
    "# Dropping medication columns to perhaps come back to later\n",
    "data.drop(columns=medications.columns, inplace=True)\n",
    "data.info()"
   ]
  },
  {
   "cell_type": "code",
   "execution_count": 120,
   "metadata": {},
   "outputs": [
    {
     "data": {
      "text/plain": [
       "1    75274\n",
       "0    22713\n",
       "Name: diabetesMed, dtype: int64"
      ]
     },
     "execution_count": 120,
     "metadata": {},
     "output_type": "execute_result"
    }
   ],
   "source": [
    "data.diabetesMed.replace('Yes', 1, inplace=True)\n",
    "data.diabetesMed.replace('No', 0, inplace=True)\n",
    "data.diabetesMed.value_counts()"
   ]
  },
  {
   "cell_type": "code",
   "execution_count": 121,
   "metadata": {
    "scrolled": false
   },
   "outputs": [
    {
     "data": {
      "text/plain": [
       "0    52885\n",
       "1    45102\n",
       "Name: change, dtype: int64"
      ]
     },
     "execution_count": 121,
     "metadata": {},
     "output_type": "execute_result"
    }
   ],
   "source": [
    "data.change.replace('No', 0, inplace=True)\n",
    "data.change.replace('Ch', 1, inplace=True)\n",
    "data.change.value_counts()"
   ]
  },
  {
   "cell_type": "code",
   "execution_count": 122,
   "metadata": {},
   "outputs": [],
   "source": [
    "# Drop diag_1, diag_2, diag_3 for the moment\n",
    "data.drop(columns=['diag_1', 'diag_2', 'diag_3'], inplace=True)"
   ]
  },
  {
   "cell_type": "code",
   "execution_count": 123,
   "metadata": {
    "scrolled": true
   },
   "outputs": [
    {
     "name": "stdout",
     "output_type": "stream",
     "text": [
      "<class 'pandas.core.frame.DataFrame'>\n",
      "Int64Index: 97987 entries, 0 to 101765\n",
      "Data columns (total 19 columns):\n",
      "race                        97987 non-null object\n",
      "gender                      97987 non-null object\n",
      "age                         97987 non-null object\n",
      "admission_type_id           97987 non-null int64\n",
      "discharge_disposition_id    97987 non-null int64\n",
      "admission_source_id         97987 non-null int64\n",
      "time_in_hospital            97987 non-null int64\n",
      "medical_specialty           97987 non-null object\n",
      "num_lab_procedures          97987 non-null int64\n",
      "num_procedures              97987 non-null int64\n",
      "num_medications             97987 non-null int64\n",
      "number_outpatient           97987 non-null int64\n",
      "number_emergency            97987 non-null int64\n",
      "number_inpatient            97987 non-null int64\n",
      "number_diagnoses            97987 non-null int64\n",
      "max_glu_serum               97987 non-null object\n",
      "change                      97987 non-null int64\n",
      "diabetesMed                 97987 non-null int64\n",
      "readmitted                  97987 non-null object\n",
      "dtypes: int64(13), object(6)\n",
      "memory usage: 15.0+ MB\n"
     ]
    }
   ],
   "source": [
    "data.info()"
   ]
  },
  {
   "cell_type": "markdown",
   "metadata": {},
   "source": [
    "# 3. Preprocessing"
   ]
  },
  {
   "cell_type": "markdown",
   "metadata": {},
   "source": [
    "## Define Target and Feature Variables"
   ]
  },
  {
   "cell_type": "code",
   "execution_count": 124,
   "metadata": {},
   "outputs": [],
   "source": [
    "target = data.readmitted\n",
    "features = data.drop(columns='readmitted')"
   ]
  },
  {
   "cell_type": "markdown",
   "metadata": {},
   "source": [
    "#### Make Dummies for Features"
   ]
  },
  {
   "cell_type": "code",
   "execution_count": 125,
   "metadata": {},
   "outputs": [
    {
     "data": {
      "text/html": [
       "<div>\n",
       "<style scoped>\n",
       "    .dataframe tbody tr th:only-of-type {\n",
       "        vertical-align: middle;\n",
       "    }\n",
       "\n",
       "    .dataframe tbody tr th {\n",
       "        vertical-align: top;\n",
       "    }\n",
       "\n",
       "    .dataframe thead th {\n",
       "        text-align: right;\n",
       "    }\n",
       "</style>\n",
       "<table border=\"1\" class=\"dataframe\">\n",
       "  <thead>\n",
       "    <tr style=\"text-align: right;\">\n",
       "      <th></th>\n",
       "      <th>admission_type_id</th>\n",
       "      <th>discharge_disposition_id</th>\n",
       "      <th>admission_source_id</th>\n",
       "      <th>time_in_hospital</th>\n",
       "      <th>num_lab_procedures</th>\n",
       "      <th>num_procedures</th>\n",
       "      <th>num_medications</th>\n",
       "      <th>number_outpatient</th>\n",
       "      <th>number_emergency</th>\n",
       "      <th>number_inpatient</th>\n",
       "      <th>...</th>\n",
       "      <th>medical_specialty_Surgery-Plastic</th>\n",
       "      <th>medical_specialty_Surgery-PlasticwithinHeadandNeck</th>\n",
       "      <th>medical_specialty_Surgery-Thoracic</th>\n",
       "      <th>medical_specialty_Surgery-Vascular</th>\n",
       "      <th>medical_specialty_SurgicalSpecialty</th>\n",
       "      <th>medical_specialty_Urology</th>\n",
       "      <th>max_glu_serum_&gt;200</th>\n",
       "      <th>max_glu_serum_&gt;300</th>\n",
       "      <th>max_glu_serum_None</th>\n",
       "      <th>max_glu_serum_Norm</th>\n",
       "    </tr>\n",
       "  </thead>\n",
       "  <tbody>\n",
       "    <tr>\n",
       "      <th>0</th>\n",
       "      <td>6</td>\n",
       "      <td>25</td>\n",
       "      <td>1</td>\n",
       "      <td>1</td>\n",
       "      <td>41</td>\n",
       "      <td>0</td>\n",
       "      <td>1</td>\n",
       "      <td>0</td>\n",
       "      <td>0</td>\n",
       "      <td>0</td>\n",
       "      <td>...</td>\n",
       "      <td>0</td>\n",
       "      <td>0</td>\n",
       "      <td>0</td>\n",
       "      <td>0</td>\n",
       "      <td>0</td>\n",
       "      <td>0</td>\n",
       "      <td>0</td>\n",
       "      <td>0</td>\n",
       "      <td>1</td>\n",
       "      <td>0</td>\n",
       "    </tr>\n",
       "    <tr>\n",
       "      <th>1</th>\n",
       "      <td>1</td>\n",
       "      <td>1</td>\n",
       "      <td>7</td>\n",
       "      <td>3</td>\n",
       "      <td>59</td>\n",
       "      <td>0</td>\n",
       "      <td>18</td>\n",
       "      <td>0</td>\n",
       "      <td>0</td>\n",
       "      <td>0</td>\n",
       "      <td>...</td>\n",
       "      <td>0</td>\n",
       "      <td>0</td>\n",
       "      <td>0</td>\n",
       "      <td>0</td>\n",
       "      <td>0</td>\n",
       "      <td>0</td>\n",
       "      <td>0</td>\n",
       "      <td>0</td>\n",
       "      <td>1</td>\n",
       "      <td>0</td>\n",
       "    </tr>\n",
       "    <tr>\n",
       "      <th>2</th>\n",
       "      <td>1</td>\n",
       "      <td>1</td>\n",
       "      <td>7</td>\n",
       "      <td>2</td>\n",
       "      <td>11</td>\n",
       "      <td>5</td>\n",
       "      <td>13</td>\n",
       "      <td>2</td>\n",
       "      <td>0</td>\n",
       "      <td>1</td>\n",
       "      <td>...</td>\n",
       "      <td>0</td>\n",
       "      <td>0</td>\n",
       "      <td>0</td>\n",
       "      <td>0</td>\n",
       "      <td>0</td>\n",
       "      <td>0</td>\n",
       "      <td>0</td>\n",
       "      <td>0</td>\n",
       "      <td>1</td>\n",
       "      <td>0</td>\n",
       "    </tr>\n",
       "    <tr>\n",
       "      <th>3</th>\n",
       "      <td>1</td>\n",
       "      <td>1</td>\n",
       "      <td>7</td>\n",
       "      <td>2</td>\n",
       "      <td>44</td>\n",
       "      <td>1</td>\n",
       "      <td>16</td>\n",
       "      <td>0</td>\n",
       "      <td>0</td>\n",
       "      <td>0</td>\n",
       "      <td>...</td>\n",
       "      <td>0</td>\n",
       "      <td>0</td>\n",
       "      <td>0</td>\n",
       "      <td>0</td>\n",
       "      <td>0</td>\n",
       "      <td>0</td>\n",
       "      <td>0</td>\n",
       "      <td>0</td>\n",
       "      <td>1</td>\n",
       "      <td>0</td>\n",
       "    </tr>\n",
       "    <tr>\n",
       "      <th>4</th>\n",
       "      <td>1</td>\n",
       "      <td>1</td>\n",
       "      <td>7</td>\n",
       "      <td>1</td>\n",
       "      <td>51</td>\n",
       "      <td>0</td>\n",
       "      <td>8</td>\n",
       "      <td>0</td>\n",
       "      <td>0</td>\n",
       "      <td>0</td>\n",
       "      <td>...</td>\n",
       "      <td>0</td>\n",
       "      <td>0</td>\n",
       "      <td>0</td>\n",
       "      <td>0</td>\n",
       "      <td>0</td>\n",
       "      <td>0</td>\n",
       "      <td>0</td>\n",
       "      <td>0</td>\n",
       "      <td>1</td>\n",
       "      <td>0</td>\n",
       "    </tr>\n",
       "  </tbody>\n",
       "</table>\n",
       "<p>5 rows × 106 columns</p>\n",
       "</div>"
      ],
      "text/plain": [
       "   admission_type_id  discharge_disposition_id  admission_source_id  \\\n",
       "0                  6                        25                    1   \n",
       "1                  1                         1                    7   \n",
       "2                  1                         1                    7   \n",
       "3                  1                         1                    7   \n",
       "4                  1                         1                    7   \n",
       "\n",
       "   time_in_hospital  num_lab_procedures  num_procedures  num_medications  \\\n",
       "0                 1                  41               0                1   \n",
       "1                 3                  59               0               18   \n",
       "2                 2                  11               5               13   \n",
       "3                 2                  44               1               16   \n",
       "4                 1                  51               0                8   \n",
       "\n",
       "   number_outpatient  number_emergency  number_inpatient         ...          \\\n",
       "0                  0                 0                 0         ...           \n",
       "1                  0                 0                 0         ...           \n",
       "2                  2                 0                 1         ...           \n",
       "3                  0                 0                 0         ...           \n",
       "4                  0                 0                 0         ...           \n",
       "\n",
       "   medical_specialty_Surgery-Plastic  \\\n",
       "0                                  0   \n",
       "1                                  0   \n",
       "2                                  0   \n",
       "3                                  0   \n",
       "4                                  0   \n",
       "\n",
       "   medical_specialty_Surgery-PlasticwithinHeadandNeck  \\\n",
       "0                                                  0    \n",
       "1                                                  0    \n",
       "2                                                  0    \n",
       "3                                                  0    \n",
       "4                                                  0    \n",
       "\n",
       "   medical_specialty_Surgery-Thoracic  medical_specialty_Surgery-Vascular  \\\n",
       "0                                   0                                   0   \n",
       "1                                   0                                   0   \n",
       "2                                   0                                   0   \n",
       "3                                   0                                   0   \n",
       "4                                   0                                   0   \n",
       "\n",
       "   medical_specialty_SurgicalSpecialty  medical_specialty_Urology  \\\n",
       "0                                    0                          0   \n",
       "1                                    0                          0   \n",
       "2                                    0                          0   \n",
       "3                                    0                          0   \n",
       "4                                    0                          0   \n",
       "\n",
       "   max_glu_serum_>200  max_glu_serum_>300  max_glu_serum_None  \\\n",
       "0                   0                   0                   1   \n",
       "1                   0                   0                   1   \n",
       "2                   0                   0                   1   \n",
       "3                   0                   0                   1   \n",
       "4                   0                   0                   1   \n",
       "\n",
       "   max_glu_serum_Norm  \n",
       "0                   0  \n",
       "1                   0  \n",
       "2                   0  \n",
       "3                   0  \n",
       "4                   0  \n",
       "\n",
       "[5 rows x 106 columns]"
      ]
     },
     "execution_count": 125,
     "metadata": {},
     "output_type": "execute_result"
    }
   ],
   "source": [
    "features = pd.get_dummies(features)\n",
    "features.head()"
   ]
  },
  {
   "cell_type": "code",
   "execution_count": 126,
   "metadata": {},
   "outputs": [],
   "source": [
    "scaler = StandardScaler()\n",
    "scaled_features = scaler.fit_transform(features)"
   ]
  },
  {
   "cell_type": "code",
   "execution_count": 127,
   "metadata": {},
   "outputs": [
    {
     "data": {
      "text/html": [
       "<div>\n",
       "<style scoped>\n",
       "    .dataframe tbody tr th:only-of-type {\n",
       "        vertical-align: middle;\n",
       "    }\n",
       "\n",
       "    .dataframe tbody tr th {\n",
       "        vertical-align: top;\n",
       "    }\n",
       "\n",
       "    .dataframe thead th {\n",
       "        text-align: right;\n",
       "    }\n",
       "</style>\n",
       "<table border=\"1\" class=\"dataframe\">\n",
       "  <thead>\n",
       "    <tr style=\"text-align: right;\">\n",
       "      <th></th>\n",
       "      <th>admission_type_id</th>\n",
       "      <th>discharge_disposition_id</th>\n",
       "      <th>admission_source_id</th>\n",
       "      <th>time_in_hospital</th>\n",
       "      <th>num_lab_procedures</th>\n",
       "      <th>num_procedures</th>\n",
       "      <th>num_medications</th>\n",
       "      <th>number_outpatient</th>\n",
       "      <th>number_emergency</th>\n",
       "      <th>number_inpatient</th>\n",
       "      <th>...</th>\n",
       "      <th>medical_specialty_Surgery-Plastic</th>\n",
       "      <th>medical_specialty_Surgery-PlasticwithinHeadandNeck</th>\n",
       "      <th>medical_specialty_Surgery-Thoracic</th>\n",
       "      <th>medical_specialty_Surgery-Vascular</th>\n",
       "      <th>medical_specialty_SurgicalSpecialty</th>\n",
       "      <th>medical_specialty_Urology</th>\n",
       "      <th>max_glu_serum_&gt;200</th>\n",
       "      <th>max_glu_serum_&gt;300</th>\n",
       "      <th>max_glu_serum_None</th>\n",
       "      <th>max_glu_serum_Norm</th>\n",
       "    </tr>\n",
       "  </thead>\n",
       "  <tbody>\n",
       "    <tr>\n",
       "      <th>0</th>\n",
       "      <td>2.740623</td>\n",
       "      <td>4.000630</td>\n",
       "      <td>-1.170204</td>\n",
       "      <td>-1.138710</td>\n",
       "      <td>-0.105086</td>\n",
       "      <td>-0.78615</td>\n",
       "      <td>-1.853242</td>\n",
       "      <td>-0.292645</td>\n",
       "      <td>-0.214059</td>\n",
       "      <td>-0.506680</td>\n",
       "      <td>...</td>\n",
       "      <td>-0.019954</td>\n",
       "      <td>-0.003195</td>\n",
       "      <td>-0.032281</td>\n",
       "      <td>-0.073745</td>\n",
       "      <td>-0.01779</td>\n",
       "      <td>-0.082223</td>\n",
       "      <td>-0.122256</td>\n",
       "      <td>-0.113073</td>\n",
       "      <td>0.237213</td>\n",
       "      <td>-0.163131</td>\n",
       "    </tr>\n",
       "    <tr>\n",
       "      <th>1</th>\n",
       "      <td>-0.707094</td>\n",
       "      <td>-0.516886</td>\n",
       "      <td>0.301310</td>\n",
       "      <td>-0.468947</td>\n",
       "      <td>0.810039</td>\n",
       "      <td>-0.78615</td>\n",
       "      <td>0.241579</td>\n",
       "      <td>-0.292645</td>\n",
       "      <td>-0.214059</td>\n",
       "      <td>-0.506680</td>\n",
       "      <td>...</td>\n",
       "      <td>-0.019954</td>\n",
       "      <td>-0.003195</td>\n",
       "      <td>-0.032281</td>\n",
       "      <td>-0.073745</td>\n",
       "      <td>-0.01779</td>\n",
       "      <td>-0.082223</td>\n",
       "      <td>-0.122256</td>\n",
       "      <td>-0.113073</td>\n",
       "      <td>0.237213</td>\n",
       "      <td>-0.163131</td>\n",
       "    </tr>\n",
       "    <tr>\n",
       "      <th>2</th>\n",
       "      <td>-0.707094</td>\n",
       "      <td>-0.516886</td>\n",
       "      <td>0.301310</td>\n",
       "      <td>-0.803828</td>\n",
       "      <td>-1.630296</td>\n",
       "      <td>2.15245</td>\n",
       "      <td>-0.374545</td>\n",
       "      <td>1.267497</td>\n",
       "      <td>-0.214059</td>\n",
       "      <td>0.277649</td>\n",
       "      <td>...</td>\n",
       "      <td>-0.019954</td>\n",
       "      <td>-0.003195</td>\n",
       "      <td>-0.032281</td>\n",
       "      <td>-0.073745</td>\n",
       "      <td>-0.01779</td>\n",
       "      <td>-0.082223</td>\n",
       "      <td>-0.122256</td>\n",
       "      <td>-0.113073</td>\n",
       "      <td>0.237213</td>\n",
       "      <td>-0.163131</td>\n",
       "    </tr>\n",
       "    <tr>\n",
       "      <th>3</th>\n",
       "      <td>-0.707094</td>\n",
       "      <td>-0.516886</td>\n",
       "      <td>0.301310</td>\n",
       "      <td>-0.803828</td>\n",
       "      <td>0.047435</td>\n",
       "      <td>-0.19843</td>\n",
       "      <td>-0.004871</td>\n",
       "      <td>-0.292645</td>\n",
       "      <td>-0.214059</td>\n",
       "      <td>-0.506680</td>\n",
       "      <td>...</td>\n",
       "      <td>-0.019954</td>\n",
       "      <td>-0.003195</td>\n",
       "      <td>-0.032281</td>\n",
       "      <td>-0.073745</td>\n",
       "      <td>-0.01779</td>\n",
       "      <td>-0.082223</td>\n",
       "      <td>-0.122256</td>\n",
       "      <td>-0.113073</td>\n",
       "      <td>0.237213</td>\n",
       "      <td>-0.163131</td>\n",
       "    </tr>\n",
       "    <tr>\n",
       "      <th>4</th>\n",
       "      <td>-0.707094</td>\n",
       "      <td>-0.516886</td>\n",
       "      <td>0.301310</td>\n",
       "      <td>-1.138710</td>\n",
       "      <td>0.403317</td>\n",
       "      <td>-0.78615</td>\n",
       "      <td>-0.990669</td>\n",
       "      <td>-0.292645</td>\n",
       "      <td>-0.214059</td>\n",
       "      <td>-0.506680</td>\n",
       "      <td>...</td>\n",
       "      <td>-0.019954</td>\n",
       "      <td>-0.003195</td>\n",
       "      <td>-0.032281</td>\n",
       "      <td>-0.073745</td>\n",
       "      <td>-0.01779</td>\n",
       "      <td>-0.082223</td>\n",
       "      <td>-0.122256</td>\n",
       "      <td>-0.113073</td>\n",
       "      <td>0.237213</td>\n",
       "      <td>-0.163131</td>\n",
       "    </tr>\n",
       "  </tbody>\n",
       "</table>\n",
       "<p>5 rows × 106 columns</p>\n",
       "</div>"
      ],
      "text/plain": [
       "   admission_type_id  discharge_disposition_id  admission_source_id  \\\n",
       "0           2.740623                  4.000630            -1.170204   \n",
       "1          -0.707094                 -0.516886             0.301310   \n",
       "2          -0.707094                 -0.516886             0.301310   \n",
       "3          -0.707094                 -0.516886             0.301310   \n",
       "4          -0.707094                 -0.516886             0.301310   \n",
       "\n",
       "   time_in_hospital  num_lab_procedures  num_procedures  num_medications  \\\n",
       "0         -1.138710           -0.105086        -0.78615        -1.853242   \n",
       "1         -0.468947            0.810039        -0.78615         0.241579   \n",
       "2         -0.803828           -1.630296         2.15245        -0.374545   \n",
       "3         -0.803828            0.047435        -0.19843        -0.004871   \n",
       "4         -1.138710            0.403317        -0.78615        -0.990669   \n",
       "\n",
       "   number_outpatient  number_emergency  number_inpatient         ...          \\\n",
       "0          -0.292645         -0.214059         -0.506680         ...           \n",
       "1          -0.292645         -0.214059         -0.506680         ...           \n",
       "2           1.267497         -0.214059          0.277649         ...           \n",
       "3          -0.292645         -0.214059         -0.506680         ...           \n",
       "4          -0.292645         -0.214059         -0.506680         ...           \n",
       "\n",
       "   medical_specialty_Surgery-Plastic  \\\n",
       "0                          -0.019954   \n",
       "1                          -0.019954   \n",
       "2                          -0.019954   \n",
       "3                          -0.019954   \n",
       "4                          -0.019954   \n",
       "\n",
       "   medical_specialty_Surgery-PlasticwithinHeadandNeck  \\\n",
       "0                                          -0.003195    \n",
       "1                                          -0.003195    \n",
       "2                                          -0.003195    \n",
       "3                                          -0.003195    \n",
       "4                                          -0.003195    \n",
       "\n",
       "   medical_specialty_Surgery-Thoracic  medical_specialty_Surgery-Vascular  \\\n",
       "0                           -0.032281                           -0.073745   \n",
       "1                           -0.032281                           -0.073745   \n",
       "2                           -0.032281                           -0.073745   \n",
       "3                           -0.032281                           -0.073745   \n",
       "4                           -0.032281                           -0.073745   \n",
       "\n",
       "   medical_specialty_SurgicalSpecialty  medical_specialty_Urology  \\\n",
       "0                             -0.01779                  -0.082223   \n",
       "1                             -0.01779                  -0.082223   \n",
       "2                             -0.01779                  -0.082223   \n",
       "3                             -0.01779                  -0.082223   \n",
       "4                             -0.01779                  -0.082223   \n",
       "\n",
       "   max_glu_serum_>200  max_glu_serum_>300  max_glu_serum_None  \\\n",
       "0           -0.122256           -0.113073            0.237213   \n",
       "1           -0.122256           -0.113073            0.237213   \n",
       "2           -0.122256           -0.113073            0.237213   \n",
       "3           -0.122256           -0.113073            0.237213   \n",
       "4           -0.122256           -0.113073            0.237213   \n",
       "\n",
       "   max_glu_serum_Norm  \n",
       "0           -0.163131  \n",
       "1           -0.163131  \n",
       "2           -0.163131  \n",
       "3           -0.163131  \n",
       "4           -0.163131  \n",
       "\n",
       "[5 rows x 106 columns]"
      ]
     },
     "execution_count": 127,
     "metadata": {},
     "output_type": "execute_result"
    }
   ],
   "source": [
    "df = pd.DataFrame(scaled_features, index=features.index, columns=features.columns)\n",
    "df.head()"
   ]
  },
  {
   "cell_type": "code",
   "execution_count": 128,
   "metadata": {
    "scrolled": false
   },
   "outputs": [
    {
     "name": "stdout",
     "output_type": "stream",
     "text": [
      "NO     52402\n",
      ">30    34561\n",
      "<30    11024\n",
      "Name: readmitted, dtype: int64\n"
     ]
    },
    {
     "data": {
      "image/png": "[encoded data removed]",
      "text/plain": [
       "<Figure size 432x288 with 1 Axes>"
      ]
     },
     "metadata": {
      "needs_background": "light"
     },
     "output_type": "display_data"
    }
   ],
   "source": [
    "print(target.value_counts())\n",
    "target.value_counts().plot(kind='bar')\n",
    "plt.title('Readmitted Patients')\n",
    "plt.xlabel('Length of Time to Readmittance')\n",
    "plt.xticks(rotation='horizontal')\n",
    "plt.ylabel('Number of Patients');"
   ]
  },
  {
   "cell_type": "code",
   "execution_count": 129,
   "metadata": {},
   "outputs": [
    {
     "data": {
      "text/plain": [
       "NO     52402\n",
       ">30    34561\n",
       "<30    11024\n",
       "Name: readmitted, dtype: int64"
      ]
     },
     "execution_count": 129,
     "metadata": {},
     "output_type": "execute_result"
    }
   ],
   "source": [
    "data.readmitted.value_counts()"
   ]
  },
  {
   "cell_type": "markdown",
   "metadata": {},
   "source": [
    "#### Change Values in Target Column to Numeric"
   ]
  },
  {
   "cell_type": "code",
   "execution_count": 130,
   "metadata": {
    "scrolled": false
   },
   "outputs": [
    {
     "data": {
      "text/plain": [
       "0    52402\n",
       "1    45585\n",
       "Name: readmitted, dtype: int64"
      ]
     },
     "execution_count": 130,
     "metadata": {},
     "output_type": "execute_result"
    }
   ],
   "source": [
    "target = target.replace('NO', 0)\n",
    "target = target.replace('>30', 1)\n",
    "target = target.replace('<30', 1)\n",
    "target.value_counts()"
   ]
  },
  {
   "cell_type": "markdown",
   "metadata": {},
   "source": [
    "# 4. Modeling:\n",
    "- Feature Importance Visualization\n",
    "- Visualize Effect of Different Hyperparameter Values\n",
    "- Logistic Regression\n",
    "- Grid Search\n",
    "    - Random Forest\n",
    "    - AdaBoost Classifier\n",
    "    - Decision Tree\n",
    "- Model Comparison\n",
    "- Refit Decision Tree\n",
    "- Violin Plots"
   ]
  },
  {
   "cell_type": "code",
   "execution_count": 131,
   "metadata": {},
   "outputs": [
    {
     "name": "stdout",
     "output_type": "stream",
     "text": [
      "(97987, 106) (97987,)\n"
     ]
    }
   ],
   "source": [
    "X = features\n",
    "y = target\n",
    "print(X.shape, y.shape)"
   ]
  },
  {
   "cell_type": "markdown",
   "metadata": {},
   "source": [
    "# Import cross_val"
   ]
  },
  {
   "cell_type": "markdown",
   "metadata": {},
   "source": [
    "## Train-Test-Split"
   ]
  },
  {
   "cell_type": "code",
   "execution_count": 132,
   "metadata": {},
   "outputs": [],
   "source": [
    "X_train, X_test, y_train, y_test = train_test_split(X, y, random_state=25)"
   ]
  },
  {
   "cell_type": "code",
   "execution_count": 133,
   "metadata": {},
   "outputs": [
    {
     "name": "stdout",
     "output_type": "stream",
     "text": [
      "(73490, 106) (24497, 106)\n",
      "-------------------------\n",
      "(73490,) (24497,)\n"
     ]
    }
   ],
   "source": [
    "print(X_train.shape, X_test.shape)\n",
    "print('-'*25)\n",
    "print(y_train.shape, y_test.shape)"
   ]
  },
  {
   "cell_type": "code",
   "execution_count": 134,
   "metadata": {},
   "outputs": [
    {
     "data": {
      "text/plain": [
       "DecisionTreeClassifier(class_weight=None, criterion='gini', max_depth=None,\n",
       "            max_features=None, max_leaf_nodes=None,\n",
       "            min_impurity_decrease=0.0, min_impurity_split=None,\n",
       "            min_samples_leaf=1, min_samples_split=2,\n",
       "            min_weight_fraction_leaf=0.0, presort=False, random_state=25,\n",
       "            splitter='best')"
      ]
     },
     "execution_count": 134,
     "metadata": {},
     "output_type": "execute_result"
    }
   ],
   "source": [
    "# Decision Tree Classifier\n",
    "clf = DecisionTreeClassifier(random_state=25)\n",
    "clf.fit(X_train, y_train)"
   ]
  },
  {
   "cell_type": "code",
   "execution_count": 135,
   "metadata": {},
   "outputs": [],
   "source": [
    "# RECALL: TP / (TP+FN)\n",
    "# PRECISION: TP / (TP+FP)\n",
    "# F1 SCORE: (2*Prec*Recall) / (Prec + Recall)\n",
    "# ACCURACY: (TP + TN) / (TP + FP + TN + FN)"
   ]
  },
  {
   "cell_type": "code",
   "execution_count": 136,
   "metadata": {},
   "outputs": [],
   "source": [
    "# Maximizing RECALL is the same as minimizing FALSE NEGATIVES"
   ]
  },
  {
   "cell_type": "code",
   "execution_count": 137,
   "metadata": {},
   "outputs": [],
   "source": [
    "# Maximizing PRECISION is the same as minimizing FALSE POSITIVES"
   ]
  },
  {
   "cell_type": "code",
   "execution_count": 138,
   "metadata": {},
   "outputs": [],
   "source": [
    "# Maximizing F1 SCORE is the same as maximizing PRECISION & RECALL (Minimizing FALSE POSITIVE & FALSE NEGATIVE)"
   ]
  },
  {
   "cell_type": "code",
   "execution_count": 139,
   "metadata": {},
   "outputs": [],
   "source": [
    "# Grid Search can choose what score you want to maximize (precision/recall)"
   ]
  },
  {
   "cell_type": "code",
   "execution_count": 140,
   "metadata": {},
   "outputs": [],
   "source": [
    "# WE WANT TO MINIMIZE FALSE NEGATIVES -- This way hospitals won't be expecting fewer number of patients...\n",
    "# Which means if the hospital is staffed for 100 patients daily, but 250 show up, hospital will be understaffed...\n",
    "# As opposed to being staffed for 250 and having 100 patients daily\n",
    "# WE NEED TO MAXIMIZE RECALL!!!"
   ]
  },
  {
   "cell_type": "code",
   "execution_count": 141,
   "metadata": {},
   "outputs": [],
   "source": [
    "y_preds = clf.predict(X_test)"
   ]
  },
  {
   "cell_type": "code",
   "execution_count": 142,
   "metadata": {
    "scrolled": true
   },
   "outputs": [
    {
     "data": {
      "text/plain": [
       "0.5657427440094706"
      ]
     },
     "execution_count": 142,
     "metadata": {},
     "output_type": "execute_result"
    }
   ],
   "source": [
    "accuracy_score(y_test, y_preds)"
   ]
  },
  {
   "cell_type": "code",
   "execution_count": 143,
   "metadata": {},
   "outputs": [
    {
     "data": {
      "text/plain": [
       "0.5269785745518146"
      ]
     },
     "execution_count": 143,
     "metadata": {},
     "output_type": "execute_result"
    }
   ],
   "source": [
    "recall_score(y_test, y_preds)"
   ]
  },
  {
   "cell_type": "code",
   "execution_count": 144,
   "metadata": {},
   "outputs": [
    {
     "name": "stdout",
     "output_type": "stream",
     "text": [
      "[[7833 5229]\n",
      " [5409 6026]]\n",
      "              precision    recall  f1-score   support\n",
      "\n",
      "           0       0.59      0.60      0.60     13062\n",
      "           1       0.54      0.53      0.53     11435\n",
      "\n",
      "   micro avg       0.57      0.57      0.57     24497\n",
      "   macro avg       0.56      0.56      0.56     24497\n",
      "weighted avg       0.57      0.57      0.57     24497\n",
      "\n"
     ]
    }
   ],
   "source": [
    "print(confusion_matrix(y_test, y_preds))\n",
    "print(classification_report(y_test, y_preds))"
   ]
  },
  {
   "cell_type": "code",
   "execution_count": 145,
   "metadata": {},
   "outputs": [],
   "source": [
    "def plot_feature_importances(model, figsize=(12,12)):\n",
    "    \n",
    "    \"\"\"Visualize feature importance of selected model as determined by feature_importances_ method.\"\"\"\n",
    "    \n",
    "    n_features = X_train.shape[1]\n",
    "    plt.figure(figsize=figsize)\n",
    "    plt.barh(range(n_features), model.feature_importances_, align='center') \n",
    "    plt.yticks(np.arange(n_features), X_train.columns.values) \n",
    "    plt.xlabel(\"Feature Importance\")\n",
    "    plt.ylabel(\"Feature\")"
   ]
  },
  {
   "cell_type": "code",
   "execution_count": 146,
   "metadata": {},
   "outputs": [
    {
     "data": {
      "image/png": "[encoded data removed]",
      "text/plain": [
       "<Figure size 864x1584 with 1 Axes>"
      ]
     },
     "metadata": {
      "needs_background": "light"
     },
     "output_type": "display_data"
    }
   ],
   "source": [
    "plot_feature_importances(clf, figsize=(12, 22))"
   ]
  },
  {
   "cell_type": "code",
   "execution_count": null,
   "metadata": {},
   "outputs": [
    {
     "data": {
      "image/png": "[encoded data removed]",
      "text/plain": [
       "<Figure size 720x576 with 1 Axes>"
      ]
     },
     "metadata": {
      "needs_background": "light"
     },
     "output_type": "display_data"
    }
   ],
   "source": [
    "# Visualize effect of different max_depths on AUC scores\n",
    "\n",
    "max_depths = np.linspace(1,107,107,endpoint=True)\n",
    "train_auc = []\n",
    "test_auc = []\n",
    "\n",
    "for depth in max_depths:\n",
    "    \n",
    "    clf = RandomForestClassifier(max_depth=depth)\n",
    "    clf.fit(X_train, y_train)\n",
    "    train_pred = clf.predict(X_train)\n",
    "    fpr, tpr, thresh = roc_curve(y_train, train_pred)\n",
    "    roc_auc = auc(fpr, tpr)\n",
    "    train_auc.append(roc_auc)\n",
    "    \n",
    "    test_pred = clf.predict(X_test)\n",
    "    fpr, tpr, thresh = roc_curve(y_test, test_pred)\n",
    "    roc_auc = auc(fpr, tpr)\n",
    "    test_auc.append(roc_auc)\n",
    "\n",
    "plt.figure(figsize=(10,8))\n",
    "plt.plot(max_depths, train_auc, label='Train AUC')\n",
    "plt.plot(max_depths, test_auc, label='Test AUC')\n",
    "plt.xlabel('Tree Depth')\n",
    "plt.ylabel('AUC Scores')\n",
    "plt.legend(loc='best')\n",
    "plt.show();"
   ]
  },
  {
   "cell_type": "markdown",
   "metadata": {},
   "source": [
    "## Restore data to pre-dummies columns and remove medical specialty column"
   ]
  },
  {
   "cell_type": "code",
   "execution_count": 147,
   "metadata": {
    "scrolled": true
   },
   "outputs": [
    {
     "name": "stdout",
     "output_type": "stream",
     "text": [
      "<class 'pandas.core.frame.DataFrame'>\n",
      "Int64Index: 97987 entries, 0 to 101765\n",
      "Data columns (total 19 columns):\n",
      "race                        97987 non-null object\n",
      "gender                      97987 non-null object\n",
      "age                         97987 non-null object\n",
      "admission_type_id           97987 non-null int64\n",
      "discharge_disposition_id    97987 non-null int64\n",
      "admission_source_id         97987 non-null int64\n",
      "time_in_hospital            97987 non-null int64\n",
      "medical_specialty           97987 non-null object\n",
      "num_lab_procedures          97987 non-null int64\n",
      "num_procedures              97987 non-null int64\n",
      "num_medications             97987 non-null int64\n",
      "number_outpatient           97987 non-null int64\n",
      "number_emergency            97987 non-null int64\n",
      "number_inpatient            97987 non-null int64\n",
      "number_diagnoses            97987 non-null int64\n",
      "max_glu_serum               97987 non-null object\n",
      "change                      97987 non-null int64\n",
      "diabetesMed                 97987 non-null int64\n",
      "readmitted                  97987 non-null object\n",
      "dtypes: int64(13), object(6)\n",
      "memory usage: 15.0+ MB\n"
     ]
    }
   ],
   "source": [
    "data.info()"
   ]
  },
  {
   "cell_type": "code",
   "execution_count": 148,
   "metadata": {},
   "outputs": [
    {
     "name": "stdout",
     "output_type": "stream",
     "text": [
      "<class 'pandas.core.frame.DataFrame'>\n",
      "Int64Index: 97987 entries, 0 to 101765\n",
      "Data columns (total 18 columns):\n",
      "race                        97987 non-null object\n",
      "gender                      97987 non-null object\n",
      "age                         97987 non-null object\n",
      "admission_type_id           97987 non-null int64\n",
      "discharge_disposition_id    97987 non-null int64\n",
      "admission_source_id         97987 non-null int64\n",
      "time_in_hospital            97987 non-null int64\n",
      "num_lab_procedures          97987 non-null int64\n",
      "num_procedures              97987 non-null int64\n",
      "num_medications             97987 non-null int64\n",
      "number_outpatient           97987 non-null int64\n",
      "number_emergency            97987 non-null int64\n",
      "number_inpatient            97987 non-null int64\n",
      "number_diagnoses            97987 non-null int64\n",
      "max_glu_serum               97987 non-null object\n",
      "change                      97987 non-null int64\n",
      "diabetesMed                 97987 non-null int64\n",
      "readmitted                  97987 non-null object\n",
      "dtypes: int64(13), object(5)\n",
      "memory usage: 14.2+ MB\n"
     ]
    }
   ],
   "source": [
    "data.drop(columns='medical_specialty', inplace=True)\n",
    "data.info()"
   ]
  },
  {
   "cell_type": "code",
   "execution_count": 149,
   "metadata": {
    "scrolled": true
   },
   "outputs": [
    {
     "name": "stdout",
     "output_type": "stream",
     "text": [
      "(97987,) (97987, 17)\n"
     ]
    }
   ],
   "source": [
    "target_a = data.readmitted\n",
    "features_a = data.drop(columns='readmitted')\n",
    "print(target_a.shape, features_a.shape)"
   ]
  },
  {
   "cell_type": "code",
   "execution_count": 150,
   "metadata": {},
   "outputs": [
    {
     "data": {
      "text/plain": [
       "NO     52402\n",
       ">30    34561\n",
       "<30    11024\n",
       "Name: readmitted, dtype: int64"
      ]
     },
     "execution_count": 150,
     "metadata": {},
     "output_type": "execute_result"
    }
   ],
   "source": [
    "target_a.value_counts()"
   ]
  },
  {
   "cell_type": "code",
   "execution_count": 151,
   "metadata": {},
   "outputs": [
    {
     "data": {
      "text/plain": [
       "0    52402\n",
       "1    45585\n",
       "Name: readmitted, dtype: int64"
      ]
     },
     "execution_count": 151,
     "metadata": {},
     "output_type": "execute_result"
    }
   ],
   "source": [
    "target_a = target_a.replace('NO', 0)\n",
    "target_a = target_a.replace('>30', 1)\n",
    "target_a = target_a.replace('<30', 1)\n",
    "target_a.value_counts()"
   ]
  },
  {
   "cell_type": "code",
   "execution_count": 152,
   "metadata": {},
   "outputs": [
    {
     "data": {
      "text/html": [
       "<div>\n",
       "<style scoped>\n",
       "    .dataframe tbody tr th:only-of-type {\n",
       "        vertical-align: middle;\n",
       "    }\n",
       "\n",
       "    .dataframe tbody tr th {\n",
       "        vertical-align: top;\n",
       "    }\n",
       "\n",
       "    .dataframe thead th {\n",
       "        text-align: right;\n",
       "    }\n",
       "</style>\n",
       "<table border=\"1\" class=\"dataframe\">\n",
       "  <thead>\n",
       "    <tr style=\"text-align: right;\">\n",
       "      <th></th>\n",
       "      <th>admission_type_id</th>\n",
       "      <th>discharge_disposition_id</th>\n",
       "      <th>admission_source_id</th>\n",
       "      <th>time_in_hospital</th>\n",
       "      <th>num_lab_procedures</th>\n",
       "      <th>num_procedures</th>\n",
       "      <th>num_medications</th>\n",
       "      <th>number_outpatient</th>\n",
       "      <th>number_emergency</th>\n",
       "      <th>number_inpatient</th>\n",
       "      <th>...</th>\n",
       "      <th>age_[40-50)</th>\n",
       "      <th>age_[50-60)</th>\n",
       "      <th>age_[60-70)</th>\n",
       "      <th>age_[70-80)</th>\n",
       "      <th>age_[80-90)</th>\n",
       "      <th>age_[90-100)</th>\n",
       "      <th>max_glu_serum_&gt;200</th>\n",
       "      <th>max_glu_serum_&gt;300</th>\n",
       "      <th>max_glu_serum_None</th>\n",
       "      <th>max_glu_serum_Norm</th>\n",
       "    </tr>\n",
       "  </thead>\n",
       "  <tbody>\n",
       "    <tr>\n",
       "      <th>0</th>\n",
       "      <td>6</td>\n",
       "      <td>25</td>\n",
       "      <td>1</td>\n",
       "      <td>1</td>\n",
       "      <td>41</td>\n",
       "      <td>0</td>\n",
       "      <td>1</td>\n",
       "      <td>0</td>\n",
       "      <td>0</td>\n",
       "      <td>0</td>\n",
       "      <td>...</td>\n",
       "      <td>0</td>\n",
       "      <td>0</td>\n",
       "      <td>0</td>\n",
       "      <td>0</td>\n",
       "      <td>0</td>\n",
       "      <td>0</td>\n",
       "      <td>0</td>\n",
       "      <td>0</td>\n",
       "      <td>1</td>\n",
       "      <td>0</td>\n",
       "    </tr>\n",
       "    <tr>\n",
       "      <th>1</th>\n",
       "      <td>1</td>\n",
       "      <td>1</td>\n",
       "      <td>7</td>\n",
       "      <td>3</td>\n",
       "      <td>59</td>\n",
       "      <td>0</td>\n",
       "      <td>18</td>\n",
       "      <td>0</td>\n",
       "      <td>0</td>\n",
       "      <td>0</td>\n",
       "      <td>...</td>\n",
       "      <td>0</td>\n",
       "      <td>0</td>\n",
       "      <td>0</td>\n",
       "      <td>0</td>\n",
       "      <td>0</td>\n",
       "      <td>0</td>\n",
       "      <td>0</td>\n",
       "      <td>0</td>\n",
       "      <td>1</td>\n",
       "      <td>0</td>\n",
       "    </tr>\n",
       "    <tr>\n",
       "      <th>2</th>\n",
       "      <td>1</td>\n",
       "      <td>1</td>\n",
       "      <td>7</td>\n",
       "      <td>2</td>\n",
       "      <td>11</td>\n",
       "      <td>5</td>\n",
       "      <td>13</td>\n",
       "      <td>2</td>\n",
       "      <td>0</td>\n",
       "      <td>1</td>\n",
       "      <td>...</td>\n",
       "      <td>0</td>\n",
       "      <td>0</td>\n",
       "      <td>0</td>\n",
       "      <td>0</td>\n",
       "      <td>0</td>\n",
       "      <td>0</td>\n",
       "      <td>0</td>\n",
       "      <td>0</td>\n",
       "      <td>1</td>\n",
       "      <td>0</td>\n",
       "    </tr>\n",
       "    <tr>\n",
       "      <th>3</th>\n",
       "      <td>1</td>\n",
       "      <td>1</td>\n",
       "      <td>7</td>\n",
       "      <td>2</td>\n",
       "      <td>44</td>\n",
       "      <td>1</td>\n",
       "      <td>16</td>\n",
       "      <td>0</td>\n",
       "      <td>0</td>\n",
       "      <td>0</td>\n",
       "      <td>...</td>\n",
       "      <td>0</td>\n",
       "      <td>0</td>\n",
       "      <td>0</td>\n",
       "      <td>0</td>\n",
       "      <td>0</td>\n",
       "      <td>0</td>\n",
       "      <td>0</td>\n",
       "      <td>0</td>\n",
       "      <td>1</td>\n",
       "      <td>0</td>\n",
       "    </tr>\n",
       "    <tr>\n",
       "      <th>4</th>\n",
       "      <td>1</td>\n",
       "      <td>1</td>\n",
       "      <td>7</td>\n",
       "      <td>1</td>\n",
       "      <td>51</td>\n",
       "      <td>0</td>\n",
       "      <td>8</td>\n",
       "      <td>0</td>\n",
       "      <td>0</td>\n",
       "      <td>0</td>\n",
       "      <td>...</td>\n",
       "      <td>1</td>\n",
       "      <td>0</td>\n",
       "      <td>0</td>\n",
       "      <td>0</td>\n",
       "      <td>0</td>\n",
       "      <td>0</td>\n",
       "      <td>0</td>\n",
       "      <td>0</td>\n",
       "      <td>1</td>\n",
       "      <td>0</td>\n",
       "    </tr>\n",
       "  </tbody>\n",
       "</table>\n",
       "<p>5 rows × 33 columns</p>\n",
       "</div>"
      ],
      "text/plain": [
       "   admission_type_id  discharge_disposition_id  admission_source_id  \\\n",
       "0                  6                        25                    1   \n",
       "1                  1                         1                    7   \n",
       "2                  1                         1                    7   \n",
       "3                  1                         1                    7   \n",
       "4                  1                         1                    7   \n",
       "\n",
       "   time_in_hospital  num_lab_procedures  num_procedures  num_medications  \\\n",
       "0                 1                  41               0                1   \n",
       "1                 3                  59               0               18   \n",
       "2                 2                  11               5               13   \n",
       "3                 2                  44               1               16   \n",
       "4                 1                  51               0                8   \n",
       "\n",
       "   number_outpatient  number_emergency  number_inpatient         ...          \\\n",
       "0                  0                 0                 0         ...           \n",
       "1                  0                 0                 0         ...           \n",
       "2                  2                 0                 1         ...           \n",
       "3                  0                 0                 0         ...           \n",
       "4                  0                 0                 0         ...           \n",
       "\n",
       "   age_[40-50)  age_[50-60)  age_[60-70)  age_[70-80)  age_[80-90)  \\\n",
       "0            0            0            0            0            0   \n",
       "1            0            0            0            0            0   \n",
       "2            0            0            0            0            0   \n",
       "3            0            0            0            0            0   \n",
       "4            1            0            0            0            0   \n",
       "\n",
       "   age_[90-100)  max_glu_serum_>200  max_glu_serum_>300  max_glu_serum_None  \\\n",
       "0             0                   0                   0                   1   \n",
       "1             0                   0                   0                   1   \n",
       "2             0                   0                   0                   1   \n",
       "3             0                   0                   0                   1   \n",
       "4             0                   0                   0                   1   \n",
       "\n",
       "   max_glu_serum_Norm  \n",
       "0                   0  \n",
       "1                   0  \n",
       "2                   0  \n",
       "3                   0  \n",
       "4                   0  \n",
       "\n",
       "[5 rows x 33 columns]"
      ]
     },
     "execution_count": 152,
     "metadata": {},
     "output_type": "execute_result"
    }
   ],
   "source": [
    "features_a = pd.get_dummies(features_a)\n",
    "features_a.head()"
   ]
  },
  {
   "cell_type": "code",
   "execution_count": 153,
   "metadata": {},
   "outputs": [],
   "source": [
    "scaler = StandardScaler()\n",
    "scaled_features_a = scaler.fit_transform(features_a)"
   ]
  },
  {
   "cell_type": "code",
   "execution_count": 154,
   "metadata": {},
   "outputs": [
    {
     "data": {
      "text/html": [
       "<div>\n",
       "<style scoped>\n",
       "    .dataframe tbody tr th:only-of-type {\n",
       "        vertical-align: middle;\n",
       "    }\n",
       "\n",
       "    .dataframe tbody tr th {\n",
       "        vertical-align: top;\n",
       "    }\n",
       "\n",
       "    .dataframe thead th {\n",
       "        text-align: right;\n",
       "    }\n",
       "</style>\n",
       "<table border=\"1\" class=\"dataframe\">\n",
       "  <thead>\n",
       "    <tr style=\"text-align: right;\">\n",
       "      <th></th>\n",
       "      <th>admission_type_id</th>\n",
       "      <th>discharge_disposition_id</th>\n",
       "      <th>admission_source_id</th>\n",
       "      <th>time_in_hospital</th>\n",
       "      <th>num_lab_procedures</th>\n",
       "      <th>num_procedures</th>\n",
       "      <th>num_medications</th>\n",
       "      <th>number_outpatient</th>\n",
       "      <th>number_emergency</th>\n",
       "      <th>number_inpatient</th>\n",
       "      <th>...</th>\n",
       "      <th>age_[40-50)</th>\n",
       "      <th>age_[50-60)</th>\n",
       "      <th>age_[60-70)</th>\n",
       "      <th>age_[70-80)</th>\n",
       "      <th>age_[80-90)</th>\n",
       "      <th>age_[90-100)</th>\n",
       "      <th>max_glu_serum_&gt;200</th>\n",
       "      <th>max_glu_serum_&gt;300</th>\n",
       "      <th>max_glu_serum_None</th>\n",
       "      <th>max_glu_serum_Norm</th>\n",
       "    </tr>\n",
       "  </thead>\n",
       "  <tbody>\n",
       "    <tr>\n",
       "      <th>0</th>\n",
       "      <td>2.740623</td>\n",
       "      <td>4.000630</td>\n",
       "      <td>-1.170204</td>\n",
       "      <td>-1.138710</td>\n",
       "      <td>-0.105086</td>\n",
       "      <td>-0.78615</td>\n",
       "      <td>-1.853242</td>\n",
       "      <td>-0.292645</td>\n",
       "      <td>-0.214059</td>\n",
       "      <td>-0.506680</td>\n",
       "      <td>...</td>\n",
       "      <td>-0.323960</td>\n",
       "      <td>-0.451394</td>\n",
       "      <td>-0.531351</td>\n",
       "      <td>-0.587505</td>\n",
       "      <td>-0.452442</td>\n",
       "      <td>-0.168331</td>\n",
       "      <td>-0.122256</td>\n",
       "      <td>-0.113073</td>\n",
       "      <td>0.237213</td>\n",
       "      <td>-0.163131</td>\n",
       "    </tr>\n",
       "    <tr>\n",
       "      <th>1</th>\n",
       "      <td>-0.707094</td>\n",
       "      <td>-0.516886</td>\n",
       "      <td>0.301310</td>\n",
       "      <td>-0.468947</td>\n",
       "      <td>0.810039</td>\n",
       "      <td>-0.78615</td>\n",
       "      <td>0.241579</td>\n",
       "      <td>-0.292645</td>\n",
       "      <td>-0.214059</td>\n",
       "      <td>-0.506680</td>\n",
       "      <td>...</td>\n",
       "      <td>-0.323960</td>\n",
       "      <td>-0.451394</td>\n",
       "      <td>-0.531351</td>\n",
       "      <td>-0.587505</td>\n",
       "      <td>-0.452442</td>\n",
       "      <td>-0.168331</td>\n",
       "      <td>-0.122256</td>\n",
       "      <td>-0.113073</td>\n",
       "      <td>0.237213</td>\n",
       "      <td>-0.163131</td>\n",
       "    </tr>\n",
       "    <tr>\n",
       "      <th>2</th>\n",
       "      <td>-0.707094</td>\n",
       "      <td>-0.516886</td>\n",
       "      <td>0.301310</td>\n",
       "      <td>-0.803828</td>\n",
       "      <td>-1.630296</td>\n",
       "      <td>2.15245</td>\n",
       "      <td>-0.374545</td>\n",
       "      <td>1.267497</td>\n",
       "      <td>-0.214059</td>\n",
       "      <td>0.277649</td>\n",
       "      <td>...</td>\n",
       "      <td>-0.323960</td>\n",
       "      <td>-0.451394</td>\n",
       "      <td>-0.531351</td>\n",
       "      <td>-0.587505</td>\n",
       "      <td>-0.452442</td>\n",
       "      <td>-0.168331</td>\n",
       "      <td>-0.122256</td>\n",
       "      <td>-0.113073</td>\n",
       "      <td>0.237213</td>\n",
       "      <td>-0.163131</td>\n",
       "    </tr>\n",
       "    <tr>\n",
       "      <th>3</th>\n",
       "      <td>-0.707094</td>\n",
       "      <td>-0.516886</td>\n",
       "      <td>0.301310</td>\n",
       "      <td>-0.803828</td>\n",
       "      <td>0.047435</td>\n",
       "      <td>-0.19843</td>\n",
       "      <td>-0.004871</td>\n",
       "      <td>-0.292645</td>\n",
       "      <td>-0.214059</td>\n",
       "      <td>-0.506680</td>\n",
       "      <td>...</td>\n",
       "      <td>-0.323960</td>\n",
       "      <td>-0.451394</td>\n",
       "      <td>-0.531351</td>\n",
       "      <td>-0.587505</td>\n",
       "      <td>-0.452442</td>\n",
       "      <td>-0.168331</td>\n",
       "      <td>-0.122256</td>\n",
       "      <td>-0.113073</td>\n",
       "      <td>0.237213</td>\n",
       "      <td>-0.163131</td>\n",
       "    </tr>\n",
       "    <tr>\n",
       "      <th>4</th>\n",
       "      <td>-0.707094</td>\n",
       "      <td>-0.516886</td>\n",
       "      <td>0.301310</td>\n",
       "      <td>-1.138710</td>\n",
       "      <td>0.403317</td>\n",
       "      <td>-0.78615</td>\n",
       "      <td>-0.990669</td>\n",
       "      <td>-0.292645</td>\n",
       "      <td>-0.214059</td>\n",
       "      <td>-0.506680</td>\n",
       "      <td>...</td>\n",
       "      <td>3.086796</td>\n",
       "      <td>-0.451394</td>\n",
       "      <td>-0.531351</td>\n",
       "      <td>-0.587505</td>\n",
       "      <td>-0.452442</td>\n",
       "      <td>-0.168331</td>\n",
       "      <td>-0.122256</td>\n",
       "      <td>-0.113073</td>\n",
       "      <td>0.237213</td>\n",
       "      <td>-0.163131</td>\n",
       "    </tr>\n",
       "  </tbody>\n",
       "</table>\n",
       "<p>5 rows × 33 columns</p>\n",
       "</div>"
      ],
      "text/plain": [
       "   admission_type_id  discharge_disposition_id  admission_source_id  \\\n",
       "0           2.740623                  4.000630            -1.170204   \n",
       "1          -0.707094                 -0.516886             0.301310   \n",
       "2          -0.707094                 -0.516886             0.301310   \n",
       "3          -0.707094                 -0.516886             0.301310   \n",
       "4          -0.707094                 -0.516886             0.301310   \n",
       "\n",
       "   time_in_hospital  num_lab_procedures  num_procedures  num_medications  \\\n",
       "0         -1.138710           -0.105086        -0.78615        -1.853242   \n",
       "1         -0.468947            0.810039        -0.78615         0.241579   \n",
       "2         -0.803828           -1.630296         2.15245        -0.374545   \n",
       "3         -0.803828            0.047435        -0.19843        -0.004871   \n",
       "4         -1.138710            0.403317        -0.78615        -0.990669   \n",
       "\n",
       "   number_outpatient  number_emergency  number_inpatient         ...          \\\n",
       "0          -0.292645         -0.214059         -0.506680         ...           \n",
       "1          -0.292645         -0.214059         -0.506680         ...           \n",
       "2           1.267497         -0.214059          0.277649         ...           \n",
       "3          -0.292645         -0.214059         -0.506680         ...           \n",
       "4          -0.292645         -0.214059         -0.506680         ...           \n",
       "\n",
       "   age_[40-50)  age_[50-60)  age_[60-70)  age_[70-80)  age_[80-90)  \\\n",
       "0    -0.323960    -0.451394    -0.531351    -0.587505    -0.452442   \n",
       "1    -0.323960    -0.451394    -0.531351    -0.587505    -0.452442   \n",
       "2    -0.323960    -0.451394    -0.531351    -0.587505    -0.452442   \n",
       "3    -0.323960    -0.451394    -0.531351    -0.587505    -0.452442   \n",
       "4     3.086796    -0.451394    -0.531351    -0.587505    -0.452442   \n",
       "\n",
       "   age_[90-100)  max_glu_serum_>200  max_glu_serum_>300  max_glu_serum_None  \\\n",
       "0     -0.168331           -0.122256           -0.113073            0.237213   \n",
       "1     -0.168331           -0.122256           -0.113073            0.237213   \n",
       "2     -0.168331           -0.122256           -0.113073            0.237213   \n",
       "3     -0.168331           -0.122256           -0.113073            0.237213   \n",
       "4     -0.168331           -0.122256           -0.113073            0.237213   \n",
       "\n",
       "   max_glu_serum_Norm  \n",
       "0           -0.163131  \n",
       "1           -0.163131  \n",
       "2           -0.163131  \n",
       "3           -0.163131  \n",
       "4           -0.163131  \n",
       "\n",
       "[5 rows x 33 columns]"
      ]
     },
     "execution_count": 154,
     "metadata": {},
     "output_type": "execute_result"
    }
   ],
   "source": [
    "df1 = pd.DataFrame(scaled_features_a, index=features_a.index, columns=features_a.columns)\n",
    "df1.head()"
   ]
  },
  {
   "cell_type": "code",
   "execution_count": 155,
   "metadata": {
    "scrolled": true
   },
   "outputs": [
    {
     "name": "stdout",
     "output_type": "stream",
     "text": [
      "0    52402\n",
      "1    45585\n",
      "Name: readmitted, dtype: int64\n"
     ]
    },
    {
     "data": {
      "image/png": "[encoded data removed]",
      "text/plain": [
       "<Figure size 432x288 with 1 Axes>"
      ]
     },
     "metadata": {
      "needs_background": "light"
     },
     "output_type": "display_data"
    }
   ],
   "source": [
    "print(target_a.value_counts())\n",
    "target_a.value_counts().plot(kind='bar')\n",
    "plt.title('Readmitted Patients')\n",
    "plt.xlabel('Length of Time to Readmittance')\n",
    "plt.xticks(rotation='horizontal')\n",
    "plt.ylabel('Number of Patients');"
   ]
  },
  {
   "cell_type": "code",
   "execution_count": 156,
   "metadata": {},
   "outputs": [],
   "source": [
    "X1 = features_a\n",
    "y1 = target_a"
   ]
  },
  {
   "cell_type": "code",
   "execution_count": 157,
   "metadata": {},
   "outputs": [],
   "source": [
    "X1_train, X1_test, y1_train, y1_test = train_test_split(X1, y1, random_state=25)"
   ]
  },
  {
   "cell_type": "code",
   "execution_count": 158,
   "metadata": {},
   "outputs": [
    {
     "name": "stdout",
     "output_type": "stream",
     "text": [
      "(73490, 33) (24497, 33)\n",
      "-------------------------\n",
      "(73490,) (24497,)\n"
     ]
    }
   ],
   "source": [
    "print(X1_train.shape, X1_test.shape)\n",
    "print('-'*25)\n",
    "print(y1_train.shape, y1_test.shape)"
   ]
  },
  {
   "cell_type": "code",
   "execution_count": 159,
   "metadata": {
    "scrolled": false
   },
   "outputs": [
    {
     "data": {
      "text/plain": [
       "DecisionTreeClassifier(class_weight=None, criterion='gini', max_depth=None,\n",
       "            max_features=None, max_leaf_nodes=None,\n",
       "            min_impurity_decrease=0.0, min_impurity_split=None,\n",
       "            min_samples_leaf=1, min_samples_split=2,\n",
       "            min_weight_fraction_leaf=0.0, presort=False, random_state=25,\n",
       "            splitter='best')"
      ]
     },
     "execution_count": 159,
     "metadata": {},
     "output_type": "execute_result"
    }
   ],
   "source": [
    "# Decision Tree Classifier\n",
    "clf1 = DecisionTreeClassifier(random_state=25)\n",
    "clf1.fit(X1_train, y1_train)"
   ]
  },
  {
   "cell_type": "code",
   "execution_count": 160,
   "metadata": {},
   "outputs": [],
   "source": [
    "y1_preds = clf1.predict(X1_test)"
   ]
  },
  {
   "cell_type": "code",
   "execution_count": 161,
   "metadata": {
    "scrolled": true
   },
   "outputs": [
    {
     "data": {
      "text/plain": [
       "0.5657427440094706"
      ]
     },
     "execution_count": 161,
     "metadata": {},
     "output_type": "execute_result"
    }
   ],
   "source": [
    "accuracy_score(y1_test, y1_preds)"
   ]
  },
  {
   "cell_type": "code",
   "execution_count": 162,
   "metadata": {},
   "outputs": [
    {
     "data": {
      "text/plain": [
       "0.5280279842588544"
      ]
     },
     "execution_count": 162,
     "metadata": {},
     "output_type": "execute_result"
    }
   ],
   "source": [
    "recall_score(y1_test, y1_preds)"
   ]
  },
  {
   "cell_type": "code",
   "execution_count": 163,
   "metadata": {
    "scrolled": true
   },
   "outputs": [
    {
     "name": "stdout",
     "output_type": "stream",
     "text": [
      "[[7821 5241]\n",
      " [5397 6038]]\n",
      "              precision    recall  f1-score   support\n",
      "\n",
      "           0       0.59      0.60      0.60     13062\n",
      "           1       0.54      0.53      0.53     11435\n",
      "\n",
      "   micro avg       0.57      0.57      0.57     24497\n",
      "   macro avg       0.56      0.56      0.56     24497\n",
      "weighted avg       0.57      0.57      0.57     24497\n",
      "\n"
     ]
    }
   ],
   "source": [
    "print(confusion_matrix(y1_test, y1_preds))\n",
    "print(classification_report(y1_test, y1_preds))"
   ]
  },
  {
   "cell_type": "code",
   "execution_count": 164,
   "metadata": {},
   "outputs": [],
   "source": [
    "def plot_feature_importances1(model, figsize=(12,12)):\n",
    "    \n",
    "    \"\"\"Visualize feature importance of selected model as determined by feature_importances_ method.\"\"\"\n",
    "    \n",
    "    n_features = X1_train.shape[1]\n",
    "    plt.figure(figsize=figsize)\n",
    "    plt.barh(range(n_features), model.feature_importances_, align='center') \n",
    "    plt.yticks(np.arange(n_features), X1_train.columns.values) \n",
    "    plt.xlabel(\"Feature Importance\")\n",
    "    plt.ylabel(\"Feature\")"
   ]
  },
  {
   "cell_type": "code",
   "execution_count": 165,
   "metadata": {},
   "outputs": [
    {
     "data": {
      "image/png": "[encoded data removed]",
      "text/plain": [
       "<Figure size 864x864 with 1 Axes>"
      ]
     },
     "metadata": {
      "needs_background": "light"
     },
     "output_type": "display_data"
    }
   ],
   "source": [
    "plot_feature_importances1(clf1)"
   ]
  },
  {
   "cell_type": "code",
   "execution_count": 70,
   "metadata": {},
   "outputs": [
    {
     "data": {
      "image/png": "[encoded data removed]",
      "text/plain": [
       "<Figure size 720x576 with 1 Axes>"
      ]
     },
     "metadata": {
      "needs_background": "light"
     },
     "output_type": "display_data"
    }
   ],
   "source": [
    "# Visualize effect of different max_depths on AUC scores\n",
    "\n",
    "max_depths = np.linspace(1,34,34,endpoint=True)\n",
    "train_auc = []\n",
    "test_auc = []\n",
    "\n",
    "for depth in max_depths:\n",
    "    \n",
    "    clf = RandomForestClassifier(max_depth=depth)\n",
    "    clf.fit(X1_train, y1_train)\n",
    "    train_pred = clf.predict(X1_train)\n",
    "    fpr, tpr, thresh = roc_curve(y1_train, train_pred)\n",
    "    roc_auc = auc(fpr, tpr)\n",
    "    train_auc.append(roc_auc)\n",
    "    \n",
    "    test_pred = clf.predict(X1_test)\n",
    "    fpr, tpr, thresh = roc_curve(y1_test, test_pred)\n",
    "    roc_auc = auc(fpr, tpr)\n",
    "    test_auc.append(roc_auc)\n",
    "\n",
    "plt.figure(figsize=(10,8))\n",
    "plt.plot(max_depths, train_auc, label='Train AUC')\n",
    "plt.plot(max_depths, test_auc, label='Test AUC')\n",
    "plt.xlabel('Tree Depth')\n",
    "plt.ylabel('AUC Scores')\n",
    "plt.legend(loc='best')\n",
    "plt.show();"
   ]
  },
  {
   "cell_type": "markdown",
   "metadata": {},
   "source": [
    "# Drop Information with Low Feature Importance"
   ]
  },
  {
   "cell_type": "code",
   "execution_count": 166,
   "metadata": {},
   "outputs": [
    {
     "name": "stdout",
     "output_type": "stream",
     "text": [
      "<class 'pandas.core.frame.DataFrame'>\n",
      "Int64Index: 97987 entries, 0 to 101765\n",
      "Data columns (total 18 columns):\n",
      "race                        97987 non-null object\n",
      "gender                      97987 non-null object\n",
      "age                         97987 non-null object\n",
      "admission_type_id           97987 non-null int64\n",
      "discharge_disposition_id    97987 non-null int64\n",
      "admission_source_id         97987 non-null int64\n",
      "time_in_hospital            97987 non-null int64\n",
      "num_lab_procedures          97987 non-null int64\n",
      "num_procedures              97987 non-null int64\n",
      "num_medications             97987 non-null int64\n",
      "number_outpatient           97987 non-null int64\n",
      "number_emergency            97987 non-null int64\n",
      "number_inpatient            97987 non-null int64\n",
      "number_diagnoses            97987 non-null int64\n",
      "max_glu_serum               97987 non-null object\n",
      "change                      97987 non-null int64\n",
      "diabetesMed                 97987 non-null int64\n",
      "readmitted                  97987 non-null object\n",
      "dtypes: int64(13), object(5)\n",
      "memory usage: 14.2+ MB\n"
     ]
    }
   ],
   "source": [
    "data.info()"
   ]
  },
  {
   "cell_type": "code",
   "execution_count": 167,
   "metadata": {
    "scrolled": true
   },
   "outputs": [
    {
     "name": "stdout",
     "output_type": "stream",
     "text": [
      "<class 'pandas.core.frame.DataFrame'>\n",
      "Int64Index: 97987 entries, 0 to 101765\n",
      "Data columns (total 14 columns):\n",
      "race                        97987 non-null object\n",
      "gender                      97987 non-null object\n",
      "age                         97987 non-null object\n",
      "admission_type_id           97987 non-null int64\n",
      "discharge_disposition_id    97987 non-null int64\n",
      "time_in_hospital            97987 non-null int64\n",
      "num_lab_procedures          97987 non-null int64\n",
      "num_procedures              97987 non-null int64\n",
      "num_medications             97987 non-null int64\n",
      "number_inpatient            97987 non-null int64\n",
      "number_diagnoses            97987 non-null int64\n",
      "change                      97987 non-null int64\n",
      "diabetesMed                 97987 non-null int64\n",
      "readmitted                  97987 non-null object\n",
      "dtypes: int64(10), object(4)\n",
      "memory usage: 11.2+ MB\n"
     ]
    }
   ],
   "source": [
    "data.drop(columns=['max_glu_serum', 'admission_source_id', 'number_outpatient', 'number_emergency'], inplace=True)\n",
    "data.info()"
   ]
  },
  {
   "cell_type": "code",
   "execution_count": 168,
   "metadata": {
    "scrolled": true
   },
   "outputs": [
    {
     "name": "stdout",
     "output_type": "stream",
     "text": [
      "(97987,) (97987, 13)\n"
     ]
    }
   ],
   "source": [
    "target_b = data.readmitted\n",
    "features_b = data.drop(columns='readmitted')\n",
    "print(target_b.shape, features_b.shape)"
   ]
  },
  {
   "cell_type": "code",
   "execution_count": 169,
   "metadata": {},
   "outputs": [
    {
     "data": {
      "text/plain": [
       "NO     52402\n",
       ">30    34561\n",
       "<30    11024\n",
       "Name: readmitted, dtype: int64"
      ]
     },
     "execution_count": 169,
     "metadata": {},
     "output_type": "execute_result"
    }
   ],
   "source": [
    "target_b.value_counts()"
   ]
  },
  {
   "cell_type": "code",
   "execution_count": 170,
   "metadata": {},
   "outputs": [
    {
     "data": {
      "text/plain": [
       "0    52402\n",
       "1    45585\n",
       "Name: readmitted, dtype: int64"
      ]
     },
     "execution_count": 170,
     "metadata": {},
     "output_type": "execute_result"
    }
   ],
   "source": [
    "target_b = target_b.replace('NO', 0)\n",
    "target_b = target_b.replace('>30', 1)\n",
    "target_b = target_b.replace('<30', 1)\n",
    "target_b.value_counts()"
   ]
  },
  {
   "cell_type": "code",
   "execution_count": 171,
   "metadata": {},
   "outputs": [
    {
     "data": {
      "text/html": [
       "<div>\n",
       "<style scoped>\n",
       "    .dataframe tbody tr th:only-of-type {\n",
       "        vertical-align: middle;\n",
       "    }\n",
       "\n",
       "    .dataframe tbody tr th {\n",
       "        vertical-align: top;\n",
       "    }\n",
       "\n",
       "    .dataframe thead th {\n",
       "        text-align: right;\n",
       "    }\n",
       "</style>\n",
       "<table border=\"1\" class=\"dataframe\">\n",
       "  <thead>\n",
       "    <tr style=\"text-align: right;\">\n",
       "      <th></th>\n",
       "      <th>admission_type_id</th>\n",
       "      <th>discharge_disposition_id</th>\n",
       "      <th>time_in_hospital</th>\n",
       "      <th>num_lab_procedures</th>\n",
       "      <th>num_procedures</th>\n",
       "      <th>num_medications</th>\n",
       "      <th>number_inpatient</th>\n",
       "      <th>number_diagnoses</th>\n",
       "      <th>change</th>\n",
       "      <th>diabetesMed</th>\n",
       "      <th>...</th>\n",
       "      <th>age_[0-10)</th>\n",
       "      <th>age_[10-20)</th>\n",
       "      <th>age_[20-30)</th>\n",
       "      <th>age_[30-40)</th>\n",
       "      <th>age_[40-50)</th>\n",
       "      <th>age_[50-60)</th>\n",
       "      <th>age_[60-70)</th>\n",
       "      <th>age_[70-80)</th>\n",
       "      <th>age_[80-90)</th>\n",
       "      <th>age_[90-100)</th>\n",
       "    </tr>\n",
       "  </thead>\n",
       "  <tbody>\n",
       "    <tr>\n",
       "      <th>0</th>\n",
       "      <td>6</td>\n",
       "      <td>25</td>\n",
       "      <td>1</td>\n",
       "      <td>41</td>\n",
       "      <td>0</td>\n",
       "      <td>1</td>\n",
       "      <td>0</td>\n",
       "      <td>1</td>\n",
       "      <td>0</td>\n",
       "      <td>0</td>\n",
       "      <td>...</td>\n",
       "      <td>1</td>\n",
       "      <td>0</td>\n",
       "      <td>0</td>\n",
       "      <td>0</td>\n",
       "      <td>0</td>\n",
       "      <td>0</td>\n",
       "      <td>0</td>\n",
       "      <td>0</td>\n",
       "      <td>0</td>\n",
       "      <td>0</td>\n",
       "    </tr>\n",
       "    <tr>\n",
       "      <th>1</th>\n",
       "      <td>1</td>\n",
       "      <td>1</td>\n",
       "      <td>3</td>\n",
       "      <td>59</td>\n",
       "      <td>0</td>\n",
       "      <td>18</td>\n",
       "      <td>0</td>\n",
       "      <td>9</td>\n",
       "      <td>1</td>\n",
       "      <td>1</td>\n",
       "      <td>...</td>\n",
       "      <td>0</td>\n",
       "      <td>1</td>\n",
       "      <td>0</td>\n",
       "      <td>0</td>\n",
       "      <td>0</td>\n",
       "      <td>0</td>\n",
       "      <td>0</td>\n",
       "      <td>0</td>\n",
       "      <td>0</td>\n",
       "      <td>0</td>\n",
       "    </tr>\n",
       "    <tr>\n",
       "      <th>2</th>\n",
       "      <td>1</td>\n",
       "      <td>1</td>\n",
       "      <td>2</td>\n",
       "      <td>11</td>\n",
       "      <td>5</td>\n",
       "      <td>13</td>\n",
       "      <td>1</td>\n",
       "      <td>6</td>\n",
       "      <td>0</td>\n",
       "      <td>1</td>\n",
       "      <td>...</td>\n",
       "      <td>0</td>\n",
       "      <td>0</td>\n",
       "      <td>1</td>\n",
       "      <td>0</td>\n",
       "      <td>0</td>\n",
       "      <td>0</td>\n",
       "      <td>0</td>\n",
       "      <td>0</td>\n",
       "      <td>0</td>\n",
       "      <td>0</td>\n",
       "    </tr>\n",
       "    <tr>\n",
       "      <th>3</th>\n",
       "      <td>1</td>\n",
       "      <td>1</td>\n",
       "      <td>2</td>\n",
       "      <td>44</td>\n",
       "      <td>1</td>\n",
       "      <td>16</td>\n",
       "      <td>0</td>\n",
       "      <td>7</td>\n",
       "      <td>1</td>\n",
       "      <td>1</td>\n",
       "      <td>...</td>\n",
       "      <td>0</td>\n",
       "      <td>0</td>\n",
       "      <td>0</td>\n",
       "      <td>1</td>\n",
       "      <td>0</td>\n",
       "      <td>0</td>\n",
       "      <td>0</td>\n",
       "      <td>0</td>\n",
       "      <td>0</td>\n",
       "      <td>0</td>\n",
       "    </tr>\n",
       "    <tr>\n",
       "      <th>4</th>\n",
       "      <td>1</td>\n",
       "      <td>1</td>\n",
       "      <td>1</td>\n",
       "      <td>51</td>\n",
       "      <td>0</td>\n",
       "      <td>8</td>\n",
       "      <td>0</td>\n",
       "      <td>5</td>\n",
       "      <td>1</td>\n",
       "      <td>1</td>\n",
       "      <td>...</td>\n",
       "      <td>0</td>\n",
       "      <td>0</td>\n",
       "      <td>0</td>\n",
       "      <td>0</td>\n",
       "      <td>1</td>\n",
       "      <td>0</td>\n",
       "      <td>0</td>\n",
       "      <td>0</td>\n",
       "      <td>0</td>\n",
       "      <td>0</td>\n",
       "    </tr>\n",
       "  </tbody>\n",
       "</table>\n",
       "<p>5 rows × 26 columns</p>\n",
       "</div>"
      ],
      "text/plain": [
       "   admission_type_id  discharge_disposition_id  time_in_hospital  \\\n",
       "0                  6                        25                 1   \n",
       "1                  1                         1                 3   \n",
       "2                  1                         1                 2   \n",
       "3                  1                         1                 2   \n",
       "4                  1                         1                 1   \n",
       "\n",
       "   num_lab_procedures  num_procedures  num_medications  number_inpatient  \\\n",
       "0                  41               0                1                 0   \n",
       "1                  59               0               18                 0   \n",
       "2                  11               5               13                 1   \n",
       "3                  44               1               16                 0   \n",
       "4                  51               0                8                 0   \n",
       "\n",
       "   number_diagnoses  change  diabetesMed      ...       age_[0-10)  \\\n",
       "0                 1       0            0      ...                1   \n",
       "1                 9       1            1      ...                0   \n",
       "2                 6       0            1      ...                0   \n",
       "3                 7       1            1      ...                0   \n",
       "4                 5       1            1      ...                0   \n",
       "\n",
       "   age_[10-20)  age_[20-30)  age_[30-40)  age_[40-50)  age_[50-60)  \\\n",
       "0            0            0            0            0            0   \n",
       "1            1            0            0            0            0   \n",
       "2            0            1            0            0            0   \n",
       "3            0            0            1            0            0   \n",
       "4            0            0            0            1            0   \n",
       "\n",
       "   age_[60-70)  age_[70-80)  age_[80-90)  age_[90-100)  \n",
       "0            0            0            0             0  \n",
       "1            0            0            0             0  \n",
       "2            0            0            0             0  \n",
       "3            0            0            0             0  \n",
       "4            0            0            0             0  \n",
       "\n",
       "[5 rows x 26 columns]"
      ]
     },
     "execution_count": 171,
     "metadata": {},
     "output_type": "execute_result"
    }
   ],
   "source": [
    "features_b = pd.get_dummies(features_b)\n",
    "features_b.head()"
   ]
  },
  {
   "cell_type": "code",
   "execution_count": 172,
   "metadata": {},
   "outputs": [],
   "source": [
    "scaler = StandardScaler()\n",
    "scaled_features_b = scaler.fit_transform(features_b)"
   ]
  },
  {
   "cell_type": "code",
   "execution_count": 173,
   "metadata": {},
   "outputs": [
    {
     "data": {
      "text/html": [
       "<div>\n",
       "<style scoped>\n",
       "    .dataframe tbody tr th:only-of-type {\n",
       "        vertical-align: middle;\n",
       "    }\n",
       "\n",
       "    .dataframe tbody tr th {\n",
       "        vertical-align: top;\n",
       "    }\n",
       "\n",
       "    .dataframe thead th {\n",
       "        text-align: right;\n",
       "    }\n",
       "</style>\n",
       "<table border=\"1\" class=\"dataframe\">\n",
       "  <thead>\n",
       "    <tr style=\"text-align: right;\">\n",
       "      <th></th>\n",
       "      <th>admission_type_id</th>\n",
       "      <th>discharge_disposition_id</th>\n",
       "      <th>time_in_hospital</th>\n",
       "      <th>num_lab_procedures</th>\n",
       "      <th>num_procedures</th>\n",
       "      <th>num_medications</th>\n",
       "      <th>number_inpatient</th>\n",
       "      <th>number_diagnoses</th>\n",
       "      <th>change</th>\n",
       "      <th>diabetesMed</th>\n",
       "      <th>...</th>\n",
       "      <th>age_[0-10)</th>\n",
       "      <th>age_[10-20)</th>\n",
       "      <th>age_[20-30)</th>\n",
       "      <th>age_[30-40)</th>\n",
       "      <th>age_[40-50)</th>\n",
       "      <th>age_[50-60)</th>\n",
       "      <th>age_[60-70)</th>\n",
       "      <th>age_[70-80)</th>\n",
       "      <th>age_[80-90)</th>\n",
       "      <th>age_[90-100)</th>\n",
       "    </tr>\n",
       "  </thead>\n",
       "  <tbody>\n",
       "    <tr>\n",
       "      <th>0</th>\n",
       "      <td>2.740623</td>\n",
       "      <td>4.000630</td>\n",
       "      <td>-1.138710</td>\n",
       "      <td>-0.105086</td>\n",
       "      <td>-0.78615</td>\n",
       "      <td>-1.853242</td>\n",
       "      <td>-0.506680</td>\n",
       "      <td>-3.348557</td>\n",
       "      <td>-0.923489</td>\n",
       "      <td>-1.820477</td>\n",
       "      <td>...</td>\n",
       "      <td>25.042400</td>\n",
       "      <td>-0.083099</td>\n",
       "      <td>-0.128184</td>\n",
       "      <td>-0.195719</td>\n",
       "      <td>-0.323960</td>\n",
       "      <td>-0.451394</td>\n",
       "      <td>-0.531351</td>\n",
       "      <td>-0.587505</td>\n",
       "      <td>-0.452442</td>\n",
       "      <td>-0.168331</td>\n",
       "    </tr>\n",
       "    <tr>\n",
       "      <th>1</th>\n",
       "      <td>-0.707094</td>\n",
       "      <td>-0.516886</td>\n",
       "      <td>-0.468947</td>\n",
       "      <td>0.810039</td>\n",
       "      <td>-0.78615</td>\n",
       "      <td>0.241579</td>\n",
       "      <td>-0.506680</td>\n",
       "      <td>0.809140</td>\n",
       "      <td>1.082850</td>\n",
       "      <td>0.549307</td>\n",
       "      <td>...</td>\n",
       "      <td>-0.039932</td>\n",
       "      <td>12.033868</td>\n",
       "      <td>-0.128184</td>\n",
       "      <td>-0.195719</td>\n",
       "      <td>-0.323960</td>\n",
       "      <td>-0.451394</td>\n",
       "      <td>-0.531351</td>\n",
       "      <td>-0.587505</td>\n",
       "      <td>-0.452442</td>\n",
       "      <td>-0.168331</td>\n",
       "    </tr>\n",
       "    <tr>\n",
       "      <th>2</th>\n",
       "      <td>-0.707094</td>\n",
       "      <td>-0.516886</td>\n",
       "      <td>-0.803828</td>\n",
       "      <td>-1.630296</td>\n",
       "      <td>2.15245</td>\n",
       "      <td>-0.374545</td>\n",
       "      <td>0.277649</td>\n",
       "      <td>-0.749996</td>\n",
       "      <td>-0.923489</td>\n",
       "      <td>0.549307</td>\n",
       "      <td>...</td>\n",
       "      <td>-0.039932</td>\n",
       "      <td>-0.083099</td>\n",
       "      <td>7.801313</td>\n",
       "      <td>-0.195719</td>\n",
       "      <td>-0.323960</td>\n",
       "      <td>-0.451394</td>\n",
       "      <td>-0.531351</td>\n",
       "      <td>-0.587505</td>\n",
       "      <td>-0.452442</td>\n",
       "      <td>-0.168331</td>\n",
       "    </tr>\n",
       "    <tr>\n",
       "      <th>3</th>\n",
       "      <td>-0.707094</td>\n",
       "      <td>-0.516886</td>\n",
       "      <td>-0.803828</td>\n",
       "      <td>0.047435</td>\n",
       "      <td>-0.19843</td>\n",
       "      <td>-0.004871</td>\n",
       "      <td>-0.506680</td>\n",
       "      <td>-0.230284</td>\n",
       "      <td>1.082850</td>\n",
       "      <td>0.549307</td>\n",
       "      <td>...</td>\n",
       "      <td>-0.039932</td>\n",
       "      <td>-0.083099</td>\n",
       "      <td>-0.128184</td>\n",
       "      <td>5.109371</td>\n",
       "      <td>-0.323960</td>\n",
       "      <td>-0.451394</td>\n",
       "      <td>-0.531351</td>\n",
       "      <td>-0.587505</td>\n",
       "      <td>-0.452442</td>\n",
       "      <td>-0.168331</td>\n",
       "    </tr>\n",
       "    <tr>\n",
       "      <th>4</th>\n",
       "      <td>-0.707094</td>\n",
       "      <td>-0.516886</td>\n",
       "      <td>-1.138710</td>\n",
       "      <td>0.403317</td>\n",
       "      <td>-0.78615</td>\n",
       "      <td>-0.990669</td>\n",
       "      <td>-0.506680</td>\n",
       "      <td>-1.269709</td>\n",
       "      <td>1.082850</td>\n",
       "      <td>0.549307</td>\n",
       "      <td>...</td>\n",
       "      <td>-0.039932</td>\n",
       "      <td>-0.083099</td>\n",
       "      <td>-0.128184</td>\n",
       "      <td>-0.195719</td>\n",
       "      <td>3.086796</td>\n",
       "      <td>-0.451394</td>\n",
       "      <td>-0.531351</td>\n",
       "      <td>-0.587505</td>\n",
       "      <td>-0.452442</td>\n",
       "      <td>-0.168331</td>\n",
       "    </tr>\n",
       "  </tbody>\n",
       "</table>\n",
       "<p>5 rows × 26 columns</p>\n",
       "</div>"
      ],
      "text/plain": [
       "   admission_type_id  discharge_disposition_id  time_in_hospital  \\\n",
       "0           2.740623                  4.000630         -1.138710   \n",
       "1          -0.707094                 -0.516886         -0.468947   \n",
       "2          -0.707094                 -0.516886         -0.803828   \n",
       "3          -0.707094                 -0.516886         -0.803828   \n",
       "4          -0.707094                 -0.516886         -1.138710   \n",
       "\n",
       "   num_lab_procedures  num_procedures  num_medications  number_inpatient  \\\n",
       "0           -0.105086        -0.78615        -1.853242         -0.506680   \n",
       "1            0.810039        -0.78615         0.241579         -0.506680   \n",
       "2           -1.630296         2.15245        -0.374545          0.277649   \n",
       "3            0.047435        -0.19843        -0.004871         -0.506680   \n",
       "4            0.403317        -0.78615        -0.990669         -0.506680   \n",
       "\n",
       "   number_diagnoses    change  diabetesMed      ...       age_[0-10)  \\\n",
       "0         -3.348557 -0.923489    -1.820477      ...        25.042400   \n",
       "1          0.809140  1.082850     0.549307      ...        -0.039932   \n",
       "2         -0.749996 -0.923489     0.549307      ...        -0.039932   \n",
       "3         -0.230284  1.082850     0.549307      ...        -0.039932   \n",
       "4         -1.269709  1.082850     0.549307      ...        -0.039932   \n",
       "\n",
       "   age_[10-20)  age_[20-30)  age_[30-40)  age_[40-50)  age_[50-60)  \\\n",
       "0    -0.083099    -0.128184    -0.195719    -0.323960    -0.451394   \n",
       "1    12.033868    -0.128184    -0.195719    -0.323960    -0.451394   \n",
       "2    -0.083099     7.801313    -0.195719    -0.323960    -0.451394   \n",
       "3    -0.083099    -0.128184     5.109371    -0.323960    -0.451394   \n",
       "4    -0.083099    -0.128184    -0.195719     3.086796    -0.451394   \n",
       "\n",
       "   age_[60-70)  age_[70-80)  age_[80-90)  age_[90-100)  \n",
       "0    -0.531351    -0.587505    -0.452442     -0.168331  \n",
       "1    -0.531351    -0.587505    -0.452442     -0.168331  \n",
       "2    -0.531351    -0.587505    -0.452442     -0.168331  \n",
       "3    -0.531351    -0.587505    -0.452442     -0.168331  \n",
       "4    -0.531351    -0.587505    -0.452442     -0.168331  \n",
       "\n",
       "[5 rows x 26 columns]"
      ]
     },
     "execution_count": 173,
     "metadata": {},
     "output_type": "execute_result"
    }
   ],
   "source": [
    "df2 = pd.DataFrame(scaled_features_b, index=features_b.index, columns=features_b.columns)\n",
    "df2.head()"
   ]
  },
  {
   "cell_type": "code",
   "execution_count": 174,
   "metadata": {},
   "outputs": [],
   "source": [
    "features_b = df2"
   ]
  },
  {
   "cell_type": "code",
   "execution_count": 175,
   "metadata": {
    "scrolled": true
   },
   "outputs": [
    {
     "name": "stdout",
     "output_type": "stream",
     "text": [
      "0    52402\n",
      "1    45585\n",
      "Name: readmitted, dtype: int64\n"
     ]
    },
    {
     "data": {
      "image/png": "[encoded data removed]",
      "text/plain": [
       "<Figure size 432x288 with 1 Axes>"
      ]
     },
     "metadata": {
      "needs_background": "light"
     },
     "output_type": "display_data"
    }
   ],
   "source": [
    "print(target_b.value_counts())\n",
    "target_b.value_counts().plot(kind='bar')\n",
    "plt.title('Readmitted Patients')\n",
    "plt.xlabel('Length of Time to Readmittance')\n",
    "plt.xticks(rotation='horizontal')\n",
    "plt.ylabel('Number of Patients');"
   ]
  },
  {
   "cell_type": "code",
   "execution_count": 176,
   "metadata": {},
   "outputs": [],
   "source": [
    "X2 = features_b\n",
    "y2 = target_b"
   ]
  },
  {
   "cell_type": "code",
   "execution_count": 177,
   "metadata": {},
   "outputs": [],
   "source": [
    "X2_train, X2_test, y2_train, y2_test = train_test_split(X2, y2, random_state=25)"
   ]
  },
  {
   "cell_type": "code",
   "execution_count": 178,
   "metadata": {},
   "outputs": [
    {
     "name": "stdout",
     "output_type": "stream",
     "text": [
      "(73490, 26) (24497, 26)\n",
      "-------------------------\n",
      "(73490,) (24497,)\n"
     ]
    }
   ],
   "source": [
    "print(X2_train.shape, X2_test.shape)\n",
    "print('-'*25)\n",
    "print(y2_train.shape, y2_test.shape)"
   ]
  },
  {
   "cell_type": "code",
   "execution_count": 179,
   "metadata": {
    "scrolled": false
   },
   "outputs": [
    {
     "data": {
      "text/plain": [
       "DecisionTreeClassifier(class_weight=None, criterion='gini', max_depth=None,\n",
       "            max_features=None, max_leaf_nodes=None,\n",
       "            min_impurity_decrease=0.0, min_impurity_split=None,\n",
       "            min_samples_leaf=1, min_samples_split=2,\n",
       "            min_weight_fraction_leaf=0.0, presort=False, random_state=25,\n",
       "            splitter='best')"
      ]
     },
     "execution_count": 179,
     "metadata": {},
     "output_type": "execute_result"
    }
   ],
   "source": [
    "# Decision Tree Classifier\n",
    "clf2 = DecisionTreeClassifier(random_state=25)\n",
    "clf2.fit(X2_train, y2_train)"
   ]
  },
  {
   "cell_type": "code",
   "execution_count": 180,
   "metadata": {},
   "outputs": [],
   "source": [
    "y2_preds = clf2.predict(X2_test)"
   ]
  },
  {
   "cell_type": "code",
   "execution_count": 182,
   "metadata": {
    "scrolled": true
   },
   "outputs": [
    {
     "data": {
      "text/plain": [
       "0.5552924847940565"
      ]
     },
     "execution_count": 182,
     "metadata": {},
     "output_type": "execute_result"
    }
   ],
   "source": [
    "accuracy_score(y2_test, y2_preds)"
   ]
  },
  {
   "cell_type": "code",
   "execution_count": 183,
   "metadata": {},
   "outputs": [
    {
     "data": {
      "text/plain": [
       "0.520069960647136"
      ]
     },
     "execution_count": 183,
     "metadata": {},
     "output_type": "execute_result"
    }
   ],
   "source": [
    "recall_score(y2_test, y2_preds)"
   ]
  },
  {
   "cell_type": "code",
   "execution_count": 184,
   "metadata": {
    "scrolled": true
   },
   "outputs": [
    {
     "name": "stdout",
     "output_type": "stream",
     "text": [
      "[[7656 5406]\n",
      " [5488 5947]]\n",
      "              precision    recall  f1-score   support\n",
      "\n",
      "           0       0.58      0.59      0.58     13062\n",
      "           1       0.52      0.52      0.52     11435\n",
      "\n",
      "   micro avg       0.56      0.56      0.56     24497\n",
      "   macro avg       0.55      0.55      0.55     24497\n",
      "weighted avg       0.56      0.56      0.56     24497\n",
      "\n"
     ]
    }
   ],
   "source": [
    "print(confusion_matrix(y2_test, y2_preds))\n",
    "print(classification_report(y2_test, y2_preds))"
   ]
  },
  {
   "cell_type": "code",
   "execution_count": 185,
   "metadata": {},
   "outputs": [],
   "source": [
    "def plot_feature_importances2(model, figsize=(12,12)):\n",
    "    \n",
    "    \"\"\"Visualize feature importance of selected model as determined by feature_importances_ method.\"\"\"\n",
    "    \n",
    "    n_features = X2_train.shape[1]\n",
    "    plt.figure(figsize=figsize)\n",
    "    plt.barh(range(n_features), model.feature_importances_, align='center') \n",
    "    plt.yticks(np.arange(n_features), X2_train.columns.values) \n",
    "    plt.xlabel(\"Feature Importance\")\n",
    "    plt.ylabel(\"Feature\")"
   ]
  },
  {
   "cell_type": "code",
   "execution_count": 186,
   "metadata": {},
   "outputs": [
    {
     "data": {
      "image/png": "[encoded data removed]",
      "text/plain": [
       "<Figure size 864x864 with 1 Axes>"
      ]
     },
     "metadata": {
      "needs_background": "light"
     },
     "output_type": "display_data"
    }
   ],
   "source": [
    "plot_feature_importances2(clf2)"
   ]
  },
  {
   "cell_type": "code",
   "execution_count": 189,
   "metadata": {},
   "outputs": [
    {
     "data": {
      "image/png": "[encoded data removed]",
      "text/plain": [
       "<Figure size 720x576 with 1 Axes>"
      ]
     },
     "metadata": {
      "needs_background": "light"
     },
     "output_type": "display_data"
    }
   ],
   "source": [
    "# Visualize effect of different max_depths on AUC scores\n",
    "\n",
    "max_depths = np.linspace(1,26,26,endpoint=True)\n",
    "train_auc = []\n",
    "test_auc = []\n",
    "\n",
    "for depth in max_depths:\n",
    "    \n",
    "    clf = RandomForestClassifier(max_depth=depth)\n",
    "    clf.fit(X2_train, y2_train)\n",
    "    train_pred = clf.predict(X2_train)\n",
    "    fpr, tpr, thresh = roc_curve(y2_train, train_pred)\n",
    "    roc_auc = auc(fpr, tpr)\n",
    "    train_auc.append(roc_auc)\n",
    "    \n",
    "    test_pred = clf.predict(X2_test)\n",
    "    fpr, tpr, thresh = roc_curve(y2_test, test_pred)\n",
    "    roc_auc = auc(fpr, tpr)\n",
    "    test_auc.append(roc_auc)\n",
    "\n",
    "plt.figure(figsize=(10,8))\n",
    "plt.plot(max_depths, train_auc, label='Train AUC')\n",
    "plt.plot(max_depths, test_auc, label='Test AUC')\n",
    "plt.xlabel('Tree Depth')\n",
    "plt.ylabel('AUC Scores')\n",
    "plt.legend(loc='best')\n",
    "plt.show();"
   ]
  },
  {
   "cell_type": "code",
   "execution_count": 190,
   "metadata": {},
   "outputs": [
    {
     "data": {
      "text/plain": [
       "0.5914193574723435"
      ]
     },
     "execution_count": 190,
     "metadata": {},
     "output_type": "execute_result"
    }
   ],
   "source": [
    "rafclf = RandomForestClassifier()\n",
    "rafclf.fit(X2_train, y2_train)\n",
    "rafpreds = rafclf.predict(X2_test)\n",
    "rafclf.score(X2_test, y2_test)"
   ]
  },
  {
   "cell_type": "code",
   "execution_count": 191,
   "metadata": {},
   "outputs": [
    {
     "data": {
      "text/plain": [
       "<matplotlib.axes._subplots.AxesSubplot at 0x1a16fe6e80>"
      ]
     },
     "execution_count": 191,
     "metadata": {},
     "output_type": "execute_result"
    },
    {
     "data": {
      "image/png": "[encoded data removed]",
      "text/plain": [
       "<Figure size 432x288 with 2 Axes>"
      ]
     },
     "metadata": {
      "needs_background": "light"
     },
     "output_type": "display_data"
    }
   ],
   "source": [
    "cm = confusion_matrix(y2_test, rafpreds)\n",
    "sns.heatmap(cm, annot=True, cmap=sns.color_palette('Blues'), fmt='0.16g')"
   ]
  },
  {
   "cell_type": "code",
   "execution_count": 192,
   "metadata": {},
   "outputs": [],
   "source": [
    "scores = rafclf.predict_proba(X2_test)"
   ]
  },
  {
   "cell_type": "code",
   "execution_count": 195,
   "metadata": {},
   "outputs": [
    {
     "data": {
      "text/plain": [
       "<matplotlib.legend.Legend at 0x1a16bc59b0>"
      ]
     },
     "execution_count": 195,
     "metadata": {},
     "output_type": "execute_result"
    },
    {
     "data": {
      "image/png": "[encoded data removed]",
      "text/plain": [
       "<Figure size 432x288 with 1 Axes>"
      ]
     },
     "metadata": {
      "needs_background": "light"
     },
     "output_type": "display_data"
    }
   ],
   "source": [
    "plt.hist(scores[:, 0], color='r', label='0', alpha=0.5, bins=20)\n",
    "plt.hist(scores[:, 1], color='b', label='1', alpha=0.5, bins=20)\n",
    "plt.legend()"
   ]
  },
  {
   "cell_type": "code",
   "execution_count": 196,
   "metadata": {},
   "outputs": [
    {
     "data": {
      "text/html": [
       "<div>\n",
       "<style scoped>\n",
       "    .dataframe tbody tr th:only-of-type {\n",
       "        vertical-align: middle;\n",
       "    }\n",
       "\n",
       "    .dataframe tbody tr th {\n",
       "        vertical-align: top;\n",
       "    }\n",
       "\n",
       "    .dataframe thead th {\n",
       "        text-align: right;\n",
       "    }\n",
       "</style>\n",
       "<table border=\"1\" class=\"dataframe\">\n",
       "  <thead>\n",
       "    <tr style=\"text-align: right;\">\n",
       "      <th></th>\n",
       "      <th>admission_type_id</th>\n",
       "      <th>discharge_disposition_id</th>\n",
       "      <th>time_in_hospital</th>\n",
       "      <th>num_lab_procedures</th>\n",
       "      <th>num_procedures</th>\n",
       "      <th>num_medications</th>\n",
       "      <th>number_inpatient</th>\n",
       "      <th>number_diagnoses</th>\n",
       "      <th>change</th>\n",
       "      <th>diabetesMed</th>\n",
       "      <th>...</th>\n",
       "      <th>age_[0-10)</th>\n",
       "      <th>age_[10-20)</th>\n",
       "      <th>age_[20-30)</th>\n",
       "      <th>age_[30-40)</th>\n",
       "      <th>age_[40-50)</th>\n",
       "      <th>age_[50-60)</th>\n",
       "      <th>age_[60-70)</th>\n",
       "      <th>age_[70-80)</th>\n",
       "      <th>age_[80-90)</th>\n",
       "      <th>age_[90-100)</th>\n",
       "    </tr>\n",
       "  </thead>\n",
       "  <tbody>\n",
       "    <tr>\n",
       "      <th>92240</th>\n",
       "      <td>-0.017551</td>\n",
       "      <td>-0.516886</td>\n",
       "      <td>-0.468947</td>\n",
       "      <td>-0.308448</td>\n",
       "      <td>-0.78615</td>\n",
       "      <td>-0.620994</td>\n",
       "      <td>0.277649</td>\n",
       "      <td>-0.230284</td>\n",
       "      <td>-0.923489</td>\n",
       "      <td>0.549307</td>\n",
       "      <td>...</td>\n",
       "      <td>-0.039932</td>\n",
       "      <td>-0.083099</td>\n",
       "      <td>-0.128184</td>\n",
       "      <td>-0.195719</td>\n",
       "      <td>-0.323960</td>\n",
       "      <td>2.215359</td>\n",
       "      <td>-0.531351</td>\n",
       "      <td>-0.587505</td>\n",
       "      <td>-0.452442</td>\n",
       "      <td>-0.168331</td>\n",
       "    </tr>\n",
       "    <tr>\n",
       "      <th>11161</th>\n",
       "      <td>-0.707094</td>\n",
       "      <td>-0.516886</td>\n",
       "      <td>-0.468947</td>\n",
       "      <td>0.708359</td>\n",
       "      <td>-0.19843</td>\n",
       "      <td>0.118354</td>\n",
       "      <td>-0.506680</td>\n",
       "      <td>-1.789421</td>\n",
       "      <td>1.082850</td>\n",
       "      <td>0.549307</td>\n",
       "      <td>...</td>\n",
       "      <td>-0.039932</td>\n",
       "      <td>-0.083099</td>\n",
       "      <td>-0.128184</td>\n",
       "      <td>-0.195719</td>\n",
       "      <td>3.086796</td>\n",
       "      <td>-0.451394</td>\n",
       "      <td>-0.531351</td>\n",
       "      <td>-0.587505</td>\n",
       "      <td>-0.452442</td>\n",
       "      <td>-0.168331</td>\n",
       "    </tr>\n",
       "    <tr>\n",
       "      <th>70978</th>\n",
       "      <td>-0.707094</td>\n",
       "      <td>3.812400</td>\n",
       "      <td>1.205459</td>\n",
       "      <td>0.250796</td>\n",
       "      <td>1.56473</td>\n",
       "      <td>1.966725</td>\n",
       "      <td>-0.506680</td>\n",
       "      <td>0.809140</td>\n",
       "      <td>1.082850</td>\n",
       "      <td>0.549307</td>\n",
       "      <td>...</td>\n",
       "      <td>-0.039932</td>\n",
       "      <td>-0.083099</td>\n",
       "      <td>-0.128184</td>\n",
       "      <td>-0.195719</td>\n",
       "      <td>-0.323960</td>\n",
       "      <td>-0.451394</td>\n",
       "      <td>-0.531351</td>\n",
       "      <td>-0.587505</td>\n",
       "      <td>2.210227</td>\n",
       "      <td>-0.168331</td>\n",
       "    </tr>\n",
       "    <tr>\n",
       "      <th>2902</th>\n",
       "      <td>-0.707094</td>\n",
       "      <td>-0.516886</td>\n",
       "      <td>0.870578</td>\n",
       "      <td>0.403317</td>\n",
       "      <td>-0.78615</td>\n",
       "      <td>0.611253</td>\n",
       "      <td>1.061978</td>\n",
       "      <td>0.809140</td>\n",
       "      <td>1.082850</td>\n",
       "      <td>0.549307</td>\n",
       "      <td>...</td>\n",
       "      <td>-0.039932</td>\n",
       "      <td>-0.083099</td>\n",
       "      <td>-0.128184</td>\n",
       "      <td>-0.195719</td>\n",
       "      <td>-0.323960</td>\n",
       "      <td>-0.451394</td>\n",
       "      <td>1.881994</td>\n",
       "      <td>-0.587505</td>\n",
       "      <td>-0.452442</td>\n",
       "      <td>-0.168331</td>\n",
       "    </tr>\n",
       "    <tr>\n",
       "      <th>82672</th>\n",
       "      <td>-0.707094</td>\n",
       "      <td>-0.516886</td>\n",
       "      <td>-0.468947</td>\n",
       "      <td>1.318442</td>\n",
       "      <td>-0.78615</td>\n",
       "      <td>0.364804</td>\n",
       "      <td>-0.506680</td>\n",
       "      <td>0.809140</td>\n",
       "      <td>1.082850</td>\n",
       "      <td>0.549307</td>\n",
       "      <td>...</td>\n",
       "      <td>-0.039932</td>\n",
       "      <td>-0.083099</td>\n",
       "      <td>-0.128184</td>\n",
       "      <td>-0.195719</td>\n",
       "      <td>-0.323960</td>\n",
       "      <td>-0.451394</td>\n",
       "      <td>-0.531351</td>\n",
       "      <td>1.702113</td>\n",
       "      <td>-0.452442</td>\n",
       "      <td>-0.168331</td>\n",
       "    </tr>\n",
       "  </tbody>\n",
       "</table>\n",
       "<p>5 rows × 26 columns</p>\n",
       "</div>"
      ],
      "text/plain": [
       "       admission_type_id  discharge_disposition_id  time_in_hospital  \\\n",
       "92240          -0.017551                 -0.516886         -0.468947   \n",
       "11161          -0.707094                 -0.516886         -0.468947   \n",
       "70978          -0.707094                  3.812400          1.205459   \n",
       "2902           -0.707094                 -0.516886          0.870578   \n",
       "82672          -0.707094                 -0.516886         -0.468947   \n",
       "\n",
       "       num_lab_procedures  num_procedures  num_medications  number_inpatient  \\\n",
       "92240           -0.308448        -0.78615        -0.620994          0.277649   \n",
       "11161            0.708359        -0.19843         0.118354         -0.506680   \n",
       "70978            0.250796         1.56473         1.966725         -0.506680   \n",
       "2902             0.403317        -0.78615         0.611253          1.061978   \n",
       "82672            1.318442        -0.78615         0.364804         -0.506680   \n",
       "\n",
       "       number_diagnoses    change  diabetesMed      ...       age_[0-10)  \\\n",
       "92240         -0.230284 -0.923489     0.549307      ...        -0.039932   \n",
       "11161         -1.789421  1.082850     0.549307      ...        -0.039932   \n",
       "70978          0.809140  1.082850     0.549307      ...        -0.039932   \n",
       "2902           0.809140  1.082850     0.549307      ...        -0.039932   \n",
       "82672          0.809140  1.082850     0.549307      ...        -0.039932   \n",
       "\n",
       "       age_[10-20)  age_[20-30)  age_[30-40)  age_[40-50)  age_[50-60)  \\\n",
       "92240    -0.083099    -0.128184    -0.195719    -0.323960     2.215359   \n",
       "11161    -0.083099    -0.128184    -0.195719     3.086796    -0.451394   \n",
       "70978    -0.083099    -0.128184    -0.195719    -0.323960    -0.451394   \n",
       "2902     -0.083099    -0.128184    -0.195719    -0.323960    -0.451394   \n",
       "82672    -0.083099    -0.128184    -0.195719    -0.323960    -0.451394   \n",
       "\n",
       "       age_[60-70)  age_[70-80)  age_[80-90)  age_[90-100)  \n",
       "92240    -0.531351    -0.587505    -0.452442     -0.168331  \n",
       "11161    -0.531351    -0.587505    -0.452442     -0.168331  \n",
       "70978    -0.531351    -0.587505     2.210227     -0.168331  \n",
       "2902      1.881994    -0.587505    -0.452442     -0.168331  \n",
       "82672    -0.531351     1.702113    -0.452442     -0.168331  \n",
       "\n",
       "[5 rows x 26 columns]"
      ]
     },
     "execution_count": 196,
     "metadata": {},
     "output_type": "execute_result"
    }
   ],
   "source": [
    "X2_train.head()"
   ]
  },
  {
   "cell_type": "code",
   "execution_count": 197,
   "metadata": {},
   "outputs": [
    {
     "data": {
      "text/html": [
       "<div>\n",
       "<style scoped>\n",
       "    .dataframe tbody tr th:only-of-type {\n",
       "        vertical-align: middle;\n",
       "    }\n",
       "\n",
       "    .dataframe tbody tr th {\n",
       "        vertical-align: top;\n",
       "    }\n",
       "\n",
       "    .dataframe thead th {\n",
       "        text-align: right;\n",
       "    }\n",
       "</style>\n",
       "<table border=\"1\" class=\"dataframe\">\n",
       "  <thead>\n",
       "    <tr style=\"text-align: right;\">\n",
       "      <th></th>\n",
       "      <th>admission_type_id</th>\n",
       "      <th>discharge_disposition_id</th>\n",
       "      <th>time_in_hospital</th>\n",
       "      <th>num_lab_procedures</th>\n",
       "      <th>num_procedures</th>\n",
       "      <th>num_medications</th>\n",
       "      <th>number_inpatient</th>\n",
       "      <th>number_diagnoses</th>\n",
       "      <th>change</th>\n",
       "      <th>diabetesMed</th>\n",
       "      <th>...</th>\n",
       "      <th>age_[0-10)</th>\n",
       "      <th>age_[10-20)</th>\n",
       "      <th>age_[20-30)</th>\n",
       "      <th>age_[30-40)</th>\n",
       "      <th>age_[40-50)</th>\n",
       "      <th>age_[50-60)</th>\n",
       "      <th>age_[60-70)</th>\n",
       "      <th>age_[70-80)</th>\n",
       "      <th>age_[80-90)</th>\n",
       "      <th>age_[90-100)</th>\n",
       "    </tr>\n",
       "  </thead>\n",
       "  <tbody>\n",
       "    <tr>\n",
       "      <th>0</th>\n",
       "      <td>2.740623</td>\n",
       "      <td>4.000630</td>\n",
       "      <td>-1.138710</td>\n",
       "      <td>-0.105086</td>\n",
       "      <td>-0.78615</td>\n",
       "      <td>-1.853242</td>\n",
       "      <td>-0.506680</td>\n",
       "      <td>-3.348557</td>\n",
       "      <td>-0.923489</td>\n",
       "      <td>-1.820477</td>\n",
       "      <td>...</td>\n",
       "      <td>25.042400</td>\n",
       "      <td>-0.083099</td>\n",
       "      <td>-0.128184</td>\n",
       "      <td>-0.195719</td>\n",
       "      <td>-0.323960</td>\n",
       "      <td>-0.451394</td>\n",
       "      <td>-0.531351</td>\n",
       "      <td>-0.587505</td>\n",
       "      <td>-0.452442</td>\n",
       "      <td>-0.168331</td>\n",
       "    </tr>\n",
       "    <tr>\n",
       "      <th>1</th>\n",
       "      <td>-0.707094</td>\n",
       "      <td>-0.516886</td>\n",
       "      <td>-0.468947</td>\n",
       "      <td>0.810039</td>\n",
       "      <td>-0.78615</td>\n",
       "      <td>0.241579</td>\n",
       "      <td>-0.506680</td>\n",
       "      <td>0.809140</td>\n",
       "      <td>1.082850</td>\n",
       "      <td>0.549307</td>\n",
       "      <td>...</td>\n",
       "      <td>-0.039932</td>\n",
       "      <td>12.033868</td>\n",
       "      <td>-0.128184</td>\n",
       "      <td>-0.195719</td>\n",
       "      <td>-0.323960</td>\n",
       "      <td>-0.451394</td>\n",
       "      <td>-0.531351</td>\n",
       "      <td>-0.587505</td>\n",
       "      <td>-0.452442</td>\n",
       "      <td>-0.168331</td>\n",
       "    </tr>\n",
       "    <tr>\n",
       "      <th>2</th>\n",
       "      <td>-0.707094</td>\n",
       "      <td>-0.516886</td>\n",
       "      <td>-0.803828</td>\n",
       "      <td>-1.630296</td>\n",
       "      <td>2.15245</td>\n",
       "      <td>-0.374545</td>\n",
       "      <td>0.277649</td>\n",
       "      <td>-0.749996</td>\n",
       "      <td>-0.923489</td>\n",
       "      <td>0.549307</td>\n",
       "      <td>...</td>\n",
       "      <td>-0.039932</td>\n",
       "      <td>-0.083099</td>\n",
       "      <td>7.801313</td>\n",
       "      <td>-0.195719</td>\n",
       "      <td>-0.323960</td>\n",
       "      <td>-0.451394</td>\n",
       "      <td>-0.531351</td>\n",
       "      <td>-0.587505</td>\n",
       "      <td>-0.452442</td>\n",
       "      <td>-0.168331</td>\n",
       "    </tr>\n",
       "    <tr>\n",
       "      <th>3</th>\n",
       "      <td>-0.707094</td>\n",
       "      <td>-0.516886</td>\n",
       "      <td>-0.803828</td>\n",
       "      <td>0.047435</td>\n",
       "      <td>-0.19843</td>\n",
       "      <td>-0.004871</td>\n",
       "      <td>-0.506680</td>\n",
       "      <td>-0.230284</td>\n",
       "      <td>1.082850</td>\n",
       "      <td>0.549307</td>\n",
       "      <td>...</td>\n",
       "      <td>-0.039932</td>\n",
       "      <td>-0.083099</td>\n",
       "      <td>-0.128184</td>\n",
       "      <td>5.109371</td>\n",
       "      <td>-0.323960</td>\n",
       "      <td>-0.451394</td>\n",
       "      <td>-0.531351</td>\n",
       "      <td>-0.587505</td>\n",
       "      <td>-0.452442</td>\n",
       "      <td>-0.168331</td>\n",
       "    </tr>\n",
       "    <tr>\n",
       "      <th>4</th>\n",
       "      <td>-0.707094</td>\n",
       "      <td>-0.516886</td>\n",
       "      <td>-1.138710</td>\n",
       "      <td>0.403317</td>\n",
       "      <td>-0.78615</td>\n",
       "      <td>-0.990669</td>\n",
       "      <td>-0.506680</td>\n",
       "      <td>-1.269709</td>\n",
       "      <td>1.082850</td>\n",
       "      <td>0.549307</td>\n",
       "      <td>...</td>\n",
       "      <td>-0.039932</td>\n",
       "      <td>-0.083099</td>\n",
       "      <td>-0.128184</td>\n",
       "      <td>-0.195719</td>\n",
       "      <td>3.086796</td>\n",
       "      <td>-0.451394</td>\n",
       "      <td>-0.531351</td>\n",
       "      <td>-0.587505</td>\n",
       "      <td>-0.452442</td>\n",
       "      <td>-0.168331</td>\n",
       "    </tr>\n",
       "  </tbody>\n",
       "</table>\n",
       "<p>5 rows × 26 columns</p>\n",
       "</div>"
      ],
      "text/plain": [
       "   admission_type_id  discharge_disposition_id  time_in_hospital  \\\n",
       "0           2.740623                  4.000630         -1.138710   \n",
       "1          -0.707094                 -0.516886         -0.468947   \n",
       "2          -0.707094                 -0.516886         -0.803828   \n",
       "3          -0.707094                 -0.516886         -0.803828   \n",
       "4          -0.707094                 -0.516886         -1.138710   \n",
       "\n",
       "   num_lab_procedures  num_procedures  num_medications  number_inpatient  \\\n",
       "0           -0.105086        -0.78615        -1.853242         -0.506680   \n",
       "1            0.810039        -0.78615         0.241579         -0.506680   \n",
       "2           -1.630296         2.15245        -0.374545          0.277649   \n",
       "3            0.047435        -0.19843        -0.004871         -0.506680   \n",
       "4            0.403317        -0.78615        -0.990669         -0.506680   \n",
       "\n",
       "   number_diagnoses    change  diabetesMed      ...       age_[0-10)  \\\n",
       "0         -3.348557 -0.923489    -1.820477      ...        25.042400   \n",
       "1          0.809140  1.082850     0.549307      ...        -0.039932   \n",
       "2         -0.749996 -0.923489     0.549307      ...        -0.039932   \n",
       "3         -0.230284  1.082850     0.549307      ...        -0.039932   \n",
       "4         -1.269709  1.082850     0.549307      ...        -0.039932   \n",
       "\n",
       "   age_[10-20)  age_[20-30)  age_[30-40)  age_[40-50)  age_[50-60)  \\\n",
       "0    -0.083099    -0.128184    -0.195719    -0.323960    -0.451394   \n",
       "1    12.033868    -0.128184    -0.195719    -0.323960    -0.451394   \n",
       "2    -0.083099     7.801313    -0.195719    -0.323960    -0.451394   \n",
       "3    -0.083099    -0.128184     5.109371    -0.323960    -0.451394   \n",
       "4    -0.083099    -0.128184    -0.195719     3.086796    -0.451394   \n",
       "\n",
       "   age_[60-70)  age_[70-80)  age_[80-90)  age_[90-100)  \n",
       "0    -0.531351    -0.587505    -0.452442     -0.168331  \n",
       "1    -0.531351    -0.587505    -0.452442     -0.168331  \n",
       "2    -0.531351    -0.587505    -0.452442     -0.168331  \n",
       "3    -0.531351    -0.587505    -0.452442     -0.168331  \n",
       "4    -0.531351    -0.587505    -0.452442     -0.168331  \n",
       "\n",
       "[5 rows x 26 columns]"
      ]
     },
     "execution_count": 197,
     "metadata": {},
     "output_type": "execute_result"
    }
   ],
   "source": [
    "df2.head()"
   ]
  },
  {
   "cell_type": "code",
   "execution_count": 201,
   "metadata": {},
   "outputs": [
    {
     "name": "stdout",
     "output_type": "stream",
     "text": [
      "<class 'pandas.core.frame.DataFrame'>\n",
      "Int64Index: 97987 entries, 0 to 101765\n",
      "Data columns (total 14 columns):\n",
      "race                        97987 non-null object\n",
      "gender                      97987 non-null object\n",
      "age                         97987 non-null object\n",
      "admission_type_id           97987 non-null int64\n",
      "discharge_disposition_id    97987 non-null int64\n",
      "time_in_hospital            97987 non-null int64\n",
      "num_lab_procedures          97987 non-null int64\n",
      "num_procedures              97987 non-null int64\n",
      "num_medications             97987 non-null int64\n",
      "number_inpatient            97987 non-null int64\n",
      "number_diagnoses            97987 non-null int64\n",
      "change                      97987 non-null int64\n",
      "diabetesMed                 97987 non-null int64\n",
      "readmitted                  97987 non-null object\n",
      "dtypes: int64(10), object(4)\n",
      "memory usage: 11.2+ MB\n"
     ]
    }
   ],
   "source": [
    "data.info()"
   ]
  },
  {
   "cell_type": "code",
   "execution_count": 204,
   "metadata": {},
   "outputs": [
    {
     "data": {
      "image/png": "[encoded data removed]",
      "text/plain": [
       "<Figure size 432x288 with 1 Axes>"
      ]
     },
     "metadata": {
      "needs_background": "light"
     },
     "output_type": "display_data"
    }
   ],
   "source": [
    "plt.hist(np.log(data.num_medications));"
   ]
  },
  {
   "cell_type": "code",
   "execution_count": 205,
   "metadata": {},
   "outputs": [
    {
     "data": {
      "image/png": "[encoded data removed]",
      "text/plain": [
       "<Figure size 432x288 with 1 Axes>"
      ]
     },
     "metadata": {
      "needs_background": "light"
     },
     "output_type": "display_data"
    }
   ],
   "source": [
    "plt.hist(y2_test);"
   ]
  },
  {
   "cell_type": "code",
   "execution_count": 206,
   "metadata": {},
   "outputs": [
    {
     "data": {
      "image/png": "[encoded data removed]",
      "text/plain": [
       "<Figure size 864x432 with 1 Axes>"
      ]
     },
     "metadata": {
      "needs_background": "light"
     },
     "output_type": "display_data"
    }
   ],
   "source": [
    "# Identify the optimal tree depth for given data\n",
    "min_samples_splits = np.linspace(0.1, 1.0, 10, endpoint=True)\n",
    "train_results = []\n",
    "test_results = []\n",
    "for min_samples_split in min_samples_splits:\n",
    "    dt = RandomForestClassifier(min_samples_split=min_samples_split)\n",
    "    dt.fit(X2_train, y2_train)\n",
    "    train_pred = dt.predict(X2_train)\n",
    "    false_positive_rate, true_positive_rate, thresholds = roc_curve(y2_train, train_pred)\n",
    "    roc_auc = auc(false_positive_rate, true_positive_rate)\n",
    "    # Add auc score to previous train results\n",
    "    train_results.append(roc_auc)\n",
    "    y_pred = dt.predict(X2_test)\n",
    "    false_positive_rate, true_positive_rate, thresholds = roc_curve(y2_test, y_pred)\n",
    "    roc_auc = auc(false_positive_rate, true_positive_rate)\n",
    "    # Add auc score to previous test results\n",
    "    test_results.append(roc_auc)\n",
    "plt.figure(figsize=(12,6))\n",
    "plt.plot(min_samples_splits, train_results, 'b', label='Train AUC')\n",
    "plt.plot(min_samples_splits, test_results, 'r', label='Test AUC')\n",
    "plt.xlabel('Min. Sample splits')\n",
    "plt.legend()\n",
    "plt.show()"
   ]
  },
  {
   "cell_type": "code",
   "execution_count": 207,
   "metadata": {},
   "outputs": [
    {
     "data": {
      "image/png": "[encoded data removed]",
      "text/plain": [
       "<Figure size 864x432 with 1 Axes>"
      ]
     },
     "metadata": {
      "needs_background": "light"
     },
     "output_type": "display_data"
    }
   ],
   "source": [
    "min_samples_leafs = np.linspace(0.1, 0.5, 5, endpoint=True)\n",
    "train_results = []\n",
    "test_results = []\n",
    "for min_samples_leaf in min_samples_leafs:\n",
    "    dt = RandomForestClassifier(min_samples_leaf=min_samples_leaf)\n",
    "    dt.fit(X2_train, y2_train)\n",
    "    train_pred = dt.predict(X2_train)\n",
    "    false_positive_rate, true_positive_rate, thresholds = roc_curve(y2_train, train_pred)\n",
    "    roc_auc = auc(false_positive_rate, true_positive_rate)\n",
    "    train_results.append(roc_auc)\n",
    "    y_pred = dt.predict(X2_test)\n",
    "    false_positive_rate, true_positive_rate, thresholds = roc_curve(y2_test, y_pred)\n",
    "    roc_auc = auc(false_positive_rate, true_positive_rate)\n",
    "    test_results.append(roc_auc)\n",
    "    \n",
    "\n",
    "plt.figure(figsize=(12,6))    \n",
    "plt.plot(min_samples_leafs, train_results, 'b', label='Train AUC')\n",
    "plt.plot(min_samples_leafs, test_results, 'r', label='Test AUC')\n",
    "plt.ylabel('AUC score')\n",
    "plt.xlabel('Min. Sample Leafs')\n",
    "plt.legend()\n",
    "plt.show()    "
   ]
  },
  {
   "cell_type": "code",
   "execution_count": 208,
   "metadata": {},
   "outputs": [
    {
     "data": {
      "image/png": "[encoded data removed]",
      "text/plain": [
       "<Figure size 864x432 with 1 Axes>"
      ]
     },
     "metadata": {
      "needs_background": "light"
     },
     "output_type": "display_data"
    }
   ],
   "source": [
    "# Find the best value for optimal maximum feature size\n",
    "max_features = list(range(1,X2_train.shape[1]))\n",
    "train_results = []\n",
    "test_results = []\n",
    "for max_feature in max_features:\n",
    "    dt = RandomForestClassifier(max_features=max_feature)\n",
    "    dt.fit(X2_train, y2_train)\n",
    "    train_pred = dt.predict(X2_train)\n",
    "    false_positive_rate, true_positive_rate, thresholds = roc_curve(y2_train, train_pred)\n",
    "    roc_auc = auc(false_positive_rate, true_positive_rate)\n",
    "    train_results.append(roc_auc)\n",
    "    y_pred = dt.predict(X2_test)\n",
    "    false_positive_rate, true_positive_rate, thresholds = roc_curve(y2_test, y_pred)\n",
    "    roc_auc = auc(false_positive_rate, true_positive_rate)\n",
    "    test_results.append(roc_auc)\n",
    "\n",
    "    \n",
    "plt.figure(figsize=(12,6))\n",
    "plt.plot(max_features, train_results, 'b', label='Train AUC')\n",
    "plt.plot(max_features, test_results, 'r', label='Test AUC')\n",
    "\n",
    "plt.ylabel('AUC score')\n",
    "plt.xlabel('max features')\n",
    "plt.legend()\n",
    "plt.show()    "
   ]
  },
  {
   "cell_type": "code",
   "execution_count": 209,
   "metadata": {},
   "outputs": [
    {
     "data": {
      "text/plain": [
       "0.5"
      ]
     },
     "execution_count": 209,
     "metadata": {},
     "output_type": "execute_result"
    }
   ],
   "source": [
    "# train a classifier with optimal values identified above\n",
    "dt = RandomForestClassifier(max_features=10,\n",
    "                           max_depth=5,\n",
    "                           min_samples_split=0.7,\n",
    "                           min_samples_leaf=0.1)\n",
    "dt.fit(X2_train, y2_train)\n",
    "y2_pred = dt.predict(X2_test)\n",
    "false_positive_rate, true_positive_rate, thresholds = roc_curve(y2_test, y2_pred)\n",
    "roc_auc = auc(false_positive_rate, true_positive_rate)\n",
    "roc_auc"
   ]
  },
  {
   "cell_type": "code",
   "execution_count": 210,
   "metadata": {},
   "outputs": [
    {
     "data": {
      "text/plain": [
       "{'criterion': 'gini',\n",
       " 'max_depth': 2,\n",
       " 'min_samples_leaf': 0.1,\n",
       " 'min_samples_split': 0.3}"
      ]
     },
     "execution_count": 210,
     "metadata": {},
     "output_type": "execute_result"
    }
   ],
   "source": [
    "clf = RandomForestClassifier()\n",
    "\n",
    "param_grid = {\n",
    "    \"criterion\": [\"gini\", \"entropy\"],\n",
    "    \"max_depth\": [1, 2, 5, 10],\n",
    "    'min_samples_split': [0.1, 0.2, 0.3, 0.4, 0.5],\n",
    "    'min_samples_leaf': [0.1, 0.2, 0.3, 0.4, 0.5]\n",
    "}\n",
    "\n",
    "gs_tree = GridSearchCV(clf, param_grid, cv=3)\n",
    "gs_tree.fit(X2_train, y2_train)\n",
    "\n",
    "gs_tree.best_params_"
   ]
  },
  {
   "cell_type": "code",
   "execution_count": 211,
   "metadata": {
    "scrolled": true
   },
   "outputs": [
    {
     "data": {
      "text/plain": [
       "0.5940339761992132"
      ]
     },
     "execution_count": 211,
     "metadata": {},
     "output_type": "execute_result"
    }
   ],
   "source": [
    "dt = RandomForestClassifier(criterion='entropy', max_depth=5, min_samples_split=0.2, min_samples_leaf=0.1)\n",
    "dt.fit(X2_train, y2_train)\n",
    "y2_pred = dt.predict(X2_test)\n",
    "fpr, tpr, thresholds = roc_curve(y2_test, y2_pred)\n",
    "roc_auc = auc(fpr, tpr)\n",
    "roc_auc"
   ]
  },
  {
   "cell_type": "code",
   "execution_count": null,
   "metadata": {},
   "outputs": [],
   "source": []
  },
  {
   "cell_type": "code",
   "execution_count": null,
   "metadata": {},
   "outputs": [],
   "source": []
  },
  {
   "cell_type": "code",
   "execution_count": null,
   "metadata": {},
   "outputs": [],
   "source": []
  },
  {
   "cell_type": "code",
   "execution_count": null,
   "metadata": {},
   "outputs": [],
   "source": [
    "# Your code here\n",
    "import numpy as np\n",
    "\n",
    "def sigmoid(x):\n",
    "    x = np.array(x)\n",
    "    return 1/(1 + np.e**(-1*x))\n",
    "\n",
    "def grad_desc(X, y, max_iterations, alpha, initial_weights=None):\n",
    "    \"\"\"Be sure to set default behavior for the initial_weights parameter.\"\"\"\n",
    "    if initial_weights == None:\n",
    "        initial_weights = np.ones((X.shape[1],1)).flatten()\n",
    "    weights = initial_weights\n",
    "    #Create a for loop of iterations\n",
    "    for iteration in range(max_iterations):\n",
    "        #Generate predictions using the current feature weights\n",
    "        predictions = sigmoid(np.dot(X,weights))\n",
    "        #Calculate an error vector based on these initial predictions and the correct labels\n",
    "        error_vector = y - predictions\n",
    "        #Calculate the gradient \n",
    "        #As we saw in the previous lab, calculating the gradient is often the most difficult task.\n",
    "        #Here, your are provided with the closed form solution for the gradient of the \n",
    "        #log-loss function derived from MLE\n",
    "        #For more details on the derivation, see the additional resources section below.\n",
    "        gradient = np.dot(X.transpose(),error_vector)\n",
    "        #Update the weight vector take a step of alpha in direction of gradient \n",
    "        weights += alpha * gradient\n",
    "    #Return finalized Weights\n",
    "    return weights\n",
    "\n",
    "weights = grad_desc(X_train, y_train, 50000, 0.001)"
   ]
  }
 ],
 "metadata": {
  "kernelspec": {
   "display_name": "learn-env",
   "language": "python",
   "name": "learn-env"
  },
  "language_info": {
   "codemirror_mode": {
    "name": "ipython",
    "version": 3
   },
   "file_extension": ".py",
   "mimetype": "text/x-python",
   "name": "python",
   "nbconvert_exporter": "python",
   "pygments_lexer": "ipython3",
   "version": "3.6.6"
  }
 },
 "nbformat": 4,
 "nbformat_minor": 2
}
