{
 "cells": [
  {
   "cell_type": "markdown",
   "metadata": {},
   "source": [
    "## Final Project Submission\n",
    "\n",
    "Please fill out:\n",
    "* Student name: Andrew Wester\n",
    "* Student pace: Full Time\n",
    "* Scheduled project review date/time: TBD\n",
    "* Instructor name: Rafael Carrasco\n",
    "* Blog post URL:\n"
   ]
  },
  {
   "cell_type": "markdown",
   "metadata": {},
   "source": [
    "## Dataset: Diabetes 130-US hospitals for years 1999-2008 Data Set\n",
    "**Abstract**: This data has been prepared to analyze factors related to readmission as well as other outcomes pertaining to patients with diabetes.\n",
    "\n",
    "**Data Set Information:**\n",
    "- The dataset represents 10 years (1999-2008) of clinical care at 130 US hospitals and integrated delivery networks. It includes over 50 features representing patient and hospital outcomes. Information was extracted from the database for encounters that satisfied the following criteria.\n",
    "\n",
    "> 1) It is an inpatient encounter (a hospital admission).\n",
    ">\n",
    "> 2) It is a diabetic encounter, that is, one during which any kind of diabetes was entered to the system as a diagnosis.\n",
    ">\n",
    "> 3) The length of stay was at least 1 day and at most 14 days.\n",
    ">\n",
    "> 4) Laboratory tests were performed during the encounter.\n",
    ">\n",
    "> 5) Medications were administered during the encounter.\n",
    "\n",
    "The data contains such attributes as patient number, race, gender, age, admission type, time in hospital, medical specialty of admitting physician, number of lab test performed, HbA1c test result, diagnosis, number of medication, diabetic medications, number of outpatient, inpatient, and emergency visits in the year before the hospitalization, etc.\n"
   ]
  },
  {
   "cell_type": "markdown",
   "metadata": {},
   "source": [
    "## Attribute Information:\n",
    "**Input variables:**\n",
    "\n",
    "Detailed description of all the atrributes is provided in Table 1 Beata Strack, Jonathan P. DeShazo, Chris Gennings, Juan L. Olmo, Sebastian Ventura, Krzysztof J. Cios, and John N. Clore, “Impact of HbA1c Measurement on Hospital Readmission Rates: Analysis of 70,000 Clinical Database Patient Records,” BioMed Research International, vol. 2014, Article ID 781670, 11 pages, 2014.\n",
    "\n",
    "**_SEE IMAGE_**\n",
    "<img src='table1a.png'>"
   ]
  },
  {
   "cell_type": "markdown",
   "metadata": {},
   "source": [
    "# 1. Load & Inspect the Data:"
   ]
  },
  {
   "cell_type": "code",
   "execution_count": 1,
   "metadata": {},
   "outputs": [],
   "source": [
    "import pandas as pd\n",
    "import numpy as np\n",
    "\n",
    "from IPython.display import Image\n",
    "from sklearn import svm\n",
    "from sklearn.ensemble import AdaBoostClassifier, GradientBoostingClassifier, RandomForestClassifier\n",
    "from sklearn.externals.six import StringIO\n",
    "from sklearn.linear_model import LogisticRegression, LogisticRegressionCV\n",
    "from sklearn.metrics import accuracy_score, auc, classification_report, confusion_matrix, f1_score \n",
    "from sklearn.metrics import make_scorer, recall_score, roc_curve, precision_score\n",
    "from sklearn.model_selection import cross_val_score, GridSearchCV, train_test_split\n",
    "from sklearn.preprocessing import MinMaxScaler, RobustScaler, StandardScaler, OneHotEncoder\n",
    "from sklearn.tree import DecisionTreeClassifier, export_graphviz\n",
    "\n",
    "import seaborn as sns\n",
    "import matplotlib.pyplot as plt\n",
    "%matplotlib inline\n",
    "\n",
    "import warnings\n",
    "warnings.filterwarnings('ignore')"
   ]
  },
  {
   "cell_type": "code",
   "execution_count": 2,
   "metadata": {
    "scrolled": true
   },
   "outputs": [
    {
     "data": {
      "text/html": [
       "<div>\n",
       "<style scoped>\n",
       "    .dataframe tbody tr th:only-of-type {\n",
       "        vertical-align: middle;\n",
       "    }\n",
       "\n",
       "    .dataframe tbody tr th {\n",
       "        vertical-align: top;\n",
       "    }\n",
       "\n",
       "    .dataframe thead th {\n",
       "        text-align: right;\n",
       "    }\n",
       "</style>\n",
       "<table border=\"1\" class=\"dataframe\">\n",
       "  <thead>\n",
       "    <tr style=\"text-align: right;\">\n",
       "      <th></th>\n",
       "      <th>encounter_id</th>\n",
       "      <th>patient_nbr</th>\n",
       "      <th>race</th>\n",
       "      <th>gender</th>\n",
       "      <th>age</th>\n",
       "      <th>weight</th>\n",
       "      <th>admission_type_id</th>\n",
       "      <th>discharge_disposition_id</th>\n",
       "      <th>admission_source_id</th>\n",
       "      <th>time_in_hospital</th>\n",
       "      <th>...</th>\n",
       "      <th>citoglipton</th>\n",
       "      <th>insulin</th>\n",
       "      <th>glyburide-metformin</th>\n",
       "      <th>glipizide-metformin</th>\n",
       "      <th>glimepiride-pioglitazone</th>\n",
       "      <th>metformin-rosiglitazone</th>\n",
       "      <th>metformin-pioglitazone</th>\n",
       "      <th>change</th>\n",
       "      <th>diabetesMed</th>\n",
       "      <th>readmitted</th>\n",
       "    </tr>\n",
       "  </thead>\n",
       "  <tbody>\n",
       "    <tr>\n",
       "      <th>0</th>\n",
       "      <td>2278392</td>\n",
       "      <td>8222157</td>\n",
       "      <td>Caucasian</td>\n",
       "      <td>Female</td>\n",
       "      <td>[0-10)</td>\n",
       "      <td>?</td>\n",
       "      <td>6</td>\n",
       "      <td>25</td>\n",
       "      <td>1</td>\n",
       "      <td>1</td>\n",
       "      <td>...</td>\n",
       "      <td>No</td>\n",
       "      <td>No</td>\n",
       "      <td>No</td>\n",
       "      <td>No</td>\n",
       "      <td>No</td>\n",
       "      <td>No</td>\n",
       "      <td>No</td>\n",
       "      <td>No</td>\n",
       "      <td>No</td>\n",
       "      <td>NO</td>\n",
       "    </tr>\n",
       "    <tr>\n",
       "      <th>1</th>\n",
       "      <td>149190</td>\n",
       "      <td>55629189</td>\n",
       "      <td>Caucasian</td>\n",
       "      <td>Female</td>\n",
       "      <td>[10-20)</td>\n",
       "      <td>?</td>\n",
       "      <td>1</td>\n",
       "      <td>1</td>\n",
       "      <td>7</td>\n",
       "      <td>3</td>\n",
       "      <td>...</td>\n",
       "      <td>No</td>\n",
       "      <td>Up</td>\n",
       "      <td>No</td>\n",
       "      <td>No</td>\n",
       "      <td>No</td>\n",
       "      <td>No</td>\n",
       "      <td>No</td>\n",
       "      <td>Ch</td>\n",
       "      <td>Yes</td>\n",
       "      <td>&gt;30</td>\n",
       "    </tr>\n",
       "    <tr>\n",
       "      <th>2</th>\n",
       "      <td>64410</td>\n",
       "      <td>86047875</td>\n",
       "      <td>AfricanAmerican</td>\n",
       "      <td>Female</td>\n",
       "      <td>[20-30)</td>\n",
       "      <td>?</td>\n",
       "      <td>1</td>\n",
       "      <td>1</td>\n",
       "      <td>7</td>\n",
       "      <td>2</td>\n",
       "      <td>...</td>\n",
       "      <td>No</td>\n",
       "      <td>No</td>\n",
       "      <td>No</td>\n",
       "      <td>No</td>\n",
       "      <td>No</td>\n",
       "      <td>No</td>\n",
       "      <td>No</td>\n",
       "      <td>No</td>\n",
       "      <td>Yes</td>\n",
       "      <td>NO</td>\n",
       "    </tr>\n",
       "    <tr>\n",
       "      <th>3</th>\n",
       "      <td>500364</td>\n",
       "      <td>82442376</td>\n",
       "      <td>Caucasian</td>\n",
       "      <td>Male</td>\n",
       "      <td>[30-40)</td>\n",
       "      <td>?</td>\n",
       "      <td>1</td>\n",
       "      <td>1</td>\n",
       "      <td>7</td>\n",
       "      <td>2</td>\n",
       "      <td>...</td>\n",
       "      <td>No</td>\n",
       "      <td>Up</td>\n",
       "      <td>No</td>\n",
       "      <td>No</td>\n",
       "      <td>No</td>\n",
       "      <td>No</td>\n",
       "      <td>No</td>\n",
       "      <td>Ch</td>\n",
       "      <td>Yes</td>\n",
       "      <td>NO</td>\n",
       "    </tr>\n",
       "    <tr>\n",
       "      <th>4</th>\n",
       "      <td>16680</td>\n",
       "      <td>42519267</td>\n",
       "      <td>Caucasian</td>\n",
       "      <td>Male</td>\n",
       "      <td>[40-50)</td>\n",
       "      <td>?</td>\n",
       "      <td>1</td>\n",
       "      <td>1</td>\n",
       "      <td>7</td>\n",
       "      <td>1</td>\n",
       "      <td>...</td>\n",
       "      <td>No</td>\n",
       "      <td>Steady</td>\n",
       "      <td>No</td>\n",
       "      <td>No</td>\n",
       "      <td>No</td>\n",
       "      <td>No</td>\n",
       "      <td>No</td>\n",
       "      <td>Ch</td>\n",
       "      <td>Yes</td>\n",
       "      <td>NO</td>\n",
       "    </tr>\n",
       "  </tbody>\n",
       "</table>\n",
       "<p>5 rows × 50 columns</p>\n",
       "</div>"
      ],
      "text/plain": [
       "   encounter_id  patient_nbr             race  gender      age weight  \\\n",
       "0       2278392      8222157        Caucasian  Female   [0-10)      ?   \n",
       "1        149190     55629189        Caucasian  Female  [10-20)      ?   \n",
       "2         64410     86047875  AfricanAmerican  Female  [20-30)      ?   \n",
       "3        500364     82442376        Caucasian    Male  [30-40)      ?   \n",
       "4         16680     42519267        Caucasian    Male  [40-50)      ?   \n",
       "\n",
       "   admission_type_id  discharge_disposition_id  admission_source_id  \\\n",
       "0                  6                        25                    1   \n",
       "1                  1                         1                    7   \n",
       "2                  1                         1                    7   \n",
       "3                  1                         1                    7   \n",
       "4                  1                         1                    7   \n",
       "\n",
       "   time_in_hospital    ...     citoglipton insulin  glyburide-metformin  \\\n",
       "0                 1    ...              No      No                   No   \n",
       "1                 3    ...              No      Up                   No   \n",
       "2                 2    ...              No      No                   No   \n",
       "3                 2    ...              No      Up                   No   \n",
       "4                 1    ...              No  Steady                   No   \n",
       "\n",
       "   glipizide-metformin  glimepiride-pioglitazone  metformin-rosiglitazone  \\\n",
       "0                   No                        No                       No   \n",
       "1                   No                        No                       No   \n",
       "2                   No                        No                       No   \n",
       "3                   No                        No                       No   \n",
       "4                   No                        No                       No   \n",
       "\n",
       "   metformin-pioglitazone  change diabetesMed readmitted  \n",
       "0                      No      No          No         NO  \n",
       "1                      No      Ch         Yes        >30  \n",
       "2                      No      No         Yes         NO  \n",
       "3                      No      Ch         Yes         NO  \n",
       "4                      No      Ch         Yes         NO  \n",
       "\n",
       "[5 rows x 50 columns]"
      ]
     },
     "execution_count": 2,
     "metadata": {},
     "output_type": "execute_result"
    }
   ],
   "source": [
    "data = pd.read_csv('diabetic_data.csv')\n",
    "data.head()"
   ]
  },
  {
   "cell_type": "code",
   "execution_count": 3,
   "metadata": {
    "scrolled": true
   },
   "outputs": [
    {
     "name": "stdout",
     "output_type": "stream",
     "text": [
      "<class 'pandas.core.frame.DataFrame'>\n",
      "RangeIndex: 101766 entries, 0 to 101765\n",
      "Data columns (total 50 columns):\n",
      "encounter_id                101766 non-null int64\n",
      "patient_nbr                 101766 non-null int64\n",
      "race                        101766 non-null object\n",
      "gender                      101766 non-null object\n",
      "age                         101766 non-null object\n",
      "weight                      101766 non-null object\n",
      "admission_type_id           101766 non-null int64\n",
      "discharge_disposition_id    101766 non-null int64\n",
      "admission_source_id         101766 non-null int64\n",
      "time_in_hospital            101766 non-null int64\n",
      "payer_code                  101766 non-null object\n",
      "medical_specialty           101766 non-null object\n",
      "num_lab_procedures          101766 non-null int64\n",
      "num_procedures              101766 non-null int64\n",
      "num_medications             101766 non-null int64\n",
      "number_outpatient           101766 non-null int64\n",
      "number_emergency            101766 non-null int64\n",
      "number_inpatient            101766 non-null int64\n",
      "diag_1                      101766 non-null object\n",
      "diag_2                      101766 non-null object\n",
      "diag_3                      101766 non-null object\n",
      "number_diagnoses            101766 non-null int64\n",
      "max_glu_serum               101766 non-null object\n",
      "A1Cresult                   101766 non-null object\n",
      "metformin                   101766 non-null object\n",
      "repaglinide                 101766 non-null object\n",
      "nateglinide                 101766 non-null object\n",
      "chlorpropamide              101766 non-null object\n",
      "glimepiride                 101766 non-null object\n",
      "acetohexamide               101766 non-null object\n",
      "glipizide                   101766 non-null object\n",
      "glyburide                   101766 non-null object\n",
      "tolbutamide                 101766 non-null object\n",
      "pioglitazone                101766 non-null object\n",
      "rosiglitazone               101766 non-null object\n",
      "acarbose                    101766 non-null object\n",
      "miglitol                    101766 non-null object\n",
      "troglitazone                101766 non-null object\n",
      "tolazamide                  101766 non-null object\n",
      "examide                     101766 non-null object\n",
      "citoglipton                 101766 non-null object\n",
      "insulin                     101766 non-null object\n",
      "glyburide-metformin         101766 non-null object\n",
      "glipizide-metformin         101766 non-null object\n",
      "glimepiride-pioglitazone    101766 non-null object\n",
      "metformin-rosiglitazone     101766 non-null object\n",
      "metformin-pioglitazone      101766 non-null object\n",
      "change                      101766 non-null object\n",
      "diabetesMed                 101766 non-null object\n",
      "readmitted                  101766 non-null object\n",
      "dtypes: int64(13), object(37)\n",
      "memory usage: 38.8+ MB\n"
     ]
    }
   ],
   "source": [
    "data.info()"
   ]
  },
  {
   "cell_type": "code",
   "execution_count": 4,
   "metadata": {
    "scrolled": true
   },
   "outputs": [
    {
     "data": {
      "text/plain": [
       "encounter_id                0\n",
       "patient_nbr                 0\n",
       "race                        0\n",
       "gender                      0\n",
       "age                         0\n",
       "weight                      0\n",
       "admission_type_id           0\n",
       "discharge_disposition_id    0\n",
       "admission_source_id         0\n",
       "time_in_hospital            0\n",
       "payer_code                  0\n",
       "medical_specialty           0\n",
       "num_lab_procedures          0\n",
       "num_procedures              0\n",
       "num_medications             0\n",
       "number_outpatient           0\n",
       "number_emergency            0\n",
       "number_inpatient            0\n",
       "diag_1                      0\n",
       "diag_2                      0\n",
       "diag_3                      0\n",
       "number_diagnoses            0\n",
       "max_glu_serum               0\n",
       "A1Cresult                   0\n",
       "metformin                   0\n",
       "repaglinide                 0\n",
       "nateglinide                 0\n",
       "chlorpropamide              0\n",
       "glimepiride                 0\n",
       "acetohexamide               0\n",
       "glipizide                   0\n",
       "glyburide                   0\n",
       "tolbutamide                 0\n",
       "pioglitazone                0\n",
       "rosiglitazone               0\n",
       "acarbose                    0\n",
       "miglitol                    0\n",
       "troglitazone                0\n",
       "tolazamide                  0\n",
       "examide                     0\n",
       "citoglipton                 0\n",
       "insulin                     0\n",
       "glyburide-metformin         0\n",
       "glipizide-metformin         0\n",
       "glimepiride-pioglitazone    0\n",
       "metformin-rosiglitazone     0\n",
       "metformin-pioglitazone      0\n",
       "change                      0\n",
       "diabetesMed                 0\n",
       "readmitted                  0\n",
       "dtype: int64"
      ]
     },
     "execution_count": 4,
     "metadata": {},
     "output_type": "execute_result"
    }
   ],
   "source": [
    "data.isna().sum()"
   ]
  },
  {
   "cell_type": "markdown",
   "metadata": {},
   "source": [
    "## Separate Features from Target Variable (Readmitted Column)"
   ]
  },
  {
   "cell_type": "code",
   "execution_count": 5,
   "metadata": {},
   "outputs": [
    {
     "name": "stdout",
     "output_type": "stream",
     "text": [
      "(101766, 50)\n"
     ]
    },
    {
     "data": {
      "text/html": [
       "<div>\n",
       "<style scoped>\n",
       "    .dataframe tbody tr th:only-of-type {\n",
       "        vertical-align: middle;\n",
       "    }\n",
       "\n",
       "    .dataframe tbody tr th {\n",
       "        vertical-align: top;\n",
       "    }\n",
       "\n",
       "    .dataframe thead th {\n",
       "        text-align: right;\n",
       "    }\n",
       "</style>\n",
       "<table border=\"1\" class=\"dataframe\">\n",
       "  <thead>\n",
       "    <tr style=\"text-align: right;\">\n",
       "      <th></th>\n",
       "      <th>encounter_id</th>\n",
       "      <th>patient_nbr</th>\n",
       "      <th>race</th>\n",
       "      <th>gender</th>\n",
       "      <th>age</th>\n",
       "      <th>weight</th>\n",
       "      <th>admission_type_id</th>\n",
       "      <th>discharge_disposition_id</th>\n",
       "      <th>admission_source_id</th>\n",
       "      <th>time_in_hospital</th>\n",
       "      <th>...</th>\n",
       "      <th>citoglipton</th>\n",
       "      <th>insulin</th>\n",
       "      <th>glyburide-metformin</th>\n",
       "      <th>glipizide-metformin</th>\n",
       "      <th>glimepiride-pioglitazone</th>\n",
       "      <th>metformin-rosiglitazone</th>\n",
       "      <th>metformin-pioglitazone</th>\n",
       "      <th>change</th>\n",
       "      <th>diabetesMed</th>\n",
       "      <th>readmitted</th>\n",
       "    </tr>\n",
       "  </thead>\n",
       "  <tbody>\n",
       "    <tr>\n",
       "      <th>0</th>\n",
       "      <td>2278392</td>\n",
       "      <td>8222157</td>\n",
       "      <td>Caucasian</td>\n",
       "      <td>Female</td>\n",
       "      <td>[0-10)</td>\n",
       "      <td>?</td>\n",
       "      <td>6</td>\n",
       "      <td>25</td>\n",
       "      <td>1</td>\n",
       "      <td>1</td>\n",
       "      <td>...</td>\n",
       "      <td>No</td>\n",
       "      <td>No</td>\n",
       "      <td>No</td>\n",
       "      <td>No</td>\n",
       "      <td>No</td>\n",
       "      <td>No</td>\n",
       "      <td>No</td>\n",
       "      <td>No</td>\n",
       "      <td>No</td>\n",
       "      <td>NO</td>\n",
       "    </tr>\n",
       "    <tr>\n",
       "      <th>1</th>\n",
       "      <td>149190</td>\n",
       "      <td>55629189</td>\n",
       "      <td>Caucasian</td>\n",
       "      <td>Female</td>\n",
       "      <td>[10-20)</td>\n",
       "      <td>?</td>\n",
       "      <td>1</td>\n",
       "      <td>1</td>\n",
       "      <td>7</td>\n",
       "      <td>3</td>\n",
       "      <td>...</td>\n",
       "      <td>No</td>\n",
       "      <td>Up</td>\n",
       "      <td>No</td>\n",
       "      <td>No</td>\n",
       "      <td>No</td>\n",
       "      <td>No</td>\n",
       "      <td>No</td>\n",
       "      <td>Ch</td>\n",
       "      <td>Yes</td>\n",
       "      <td>&gt;30</td>\n",
       "    </tr>\n",
       "    <tr>\n",
       "      <th>2</th>\n",
       "      <td>64410</td>\n",
       "      <td>86047875</td>\n",
       "      <td>AfricanAmerican</td>\n",
       "      <td>Female</td>\n",
       "      <td>[20-30)</td>\n",
       "      <td>?</td>\n",
       "      <td>1</td>\n",
       "      <td>1</td>\n",
       "      <td>7</td>\n",
       "      <td>2</td>\n",
       "      <td>...</td>\n",
       "      <td>No</td>\n",
       "      <td>No</td>\n",
       "      <td>No</td>\n",
       "      <td>No</td>\n",
       "      <td>No</td>\n",
       "      <td>No</td>\n",
       "      <td>No</td>\n",
       "      <td>No</td>\n",
       "      <td>Yes</td>\n",
       "      <td>NO</td>\n",
       "    </tr>\n",
       "    <tr>\n",
       "      <th>3</th>\n",
       "      <td>500364</td>\n",
       "      <td>82442376</td>\n",
       "      <td>Caucasian</td>\n",
       "      <td>Male</td>\n",
       "      <td>[30-40)</td>\n",
       "      <td>?</td>\n",
       "      <td>1</td>\n",
       "      <td>1</td>\n",
       "      <td>7</td>\n",
       "      <td>2</td>\n",
       "      <td>...</td>\n",
       "      <td>No</td>\n",
       "      <td>Up</td>\n",
       "      <td>No</td>\n",
       "      <td>No</td>\n",
       "      <td>No</td>\n",
       "      <td>No</td>\n",
       "      <td>No</td>\n",
       "      <td>Ch</td>\n",
       "      <td>Yes</td>\n",
       "      <td>NO</td>\n",
       "    </tr>\n",
       "    <tr>\n",
       "      <th>4</th>\n",
       "      <td>16680</td>\n",
       "      <td>42519267</td>\n",
       "      <td>Caucasian</td>\n",
       "      <td>Male</td>\n",
       "      <td>[40-50)</td>\n",
       "      <td>?</td>\n",
       "      <td>1</td>\n",
       "      <td>1</td>\n",
       "      <td>7</td>\n",
       "      <td>1</td>\n",
       "      <td>...</td>\n",
       "      <td>No</td>\n",
       "      <td>Steady</td>\n",
       "      <td>No</td>\n",
       "      <td>No</td>\n",
       "      <td>No</td>\n",
       "      <td>No</td>\n",
       "      <td>No</td>\n",
       "      <td>Ch</td>\n",
       "      <td>Yes</td>\n",
       "      <td>NO</td>\n",
       "    </tr>\n",
       "  </tbody>\n",
       "</table>\n",
       "<p>5 rows × 50 columns</p>\n",
       "</div>"
      ],
      "text/plain": [
       "   encounter_id  patient_nbr             race  gender      age weight  \\\n",
       "0       2278392      8222157        Caucasian  Female   [0-10)      ?   \n",
       "1        149190     55629189        Caucasian  Female  [10-20)      ?   \n",
       "2         64410     86047875  AfricanAmerican  Female  [20-30)      ?   \n",
       "3        500364     82442376        Caucasian    Male  [30-40)      ?   \n",
       "4         16680     42519267        Caucasian    Male  [40-50)      ?   \n",
       "\n",
       "   admission_type_id  discharge_disposition_id  admission_source_id  \\\n",
       "0                  6                        25                    1   \n",
       "1                  1                         1                    7   \n",
       "2                  1                         1                    7   \n",
       "3                  1                         1                    7   \n",
       "4                  1                         1                    7   \n",
       "\n",
       "   time_in_hospital    ...     citoglipton insulin  glyburide-metformin  \\\n",
       "0                 1    ...              No      No                   No   \n",
       "1                 3    ...              No      Up                   No   \n",
       "2                 2    ...              No      No                   No   \n",
       "3                 2    ...              No      Up                   No   \n",
       "4                 1    ...              No  Steady                   No   \n",
       "\n",
       "   glipizide-metformin  glimepiride-pioglitazone  metformin-rosiglitazone  \\\n",
       "0                   No                        No                       No   \n",
       "1                   No                        No                       No   \n",
       "2                   No                        No                       No   \n",
       "3                   No                        No                       No   \n",
       "4                   No                        No                       No   \n",
       "\n",
       "   metformin-pioglitazone  change diabetesMed readmitted  \n",
       "0                      No      No          No         NO  \n",
       "1                      No      Ch         Yes        >30  \n",
       "2                      No      No         Yes         NO  \n",
       "3                      No      Ch         Yes         NO  \n",
       "4                      No      Ch         Yes         NO  \n",
       "\n",
       "[5 rows x 50 columns]"
      ]
     },
     "execution_count": 5,
     "metadata": {},
     "output_type": "execute_result"
    }
   ],
   "source": [
    "print(data.shape)\n",
    "data.head()"
   ]
  },
  {
   "cell_type": "markdown",
   "metadata": {},
   "source": [
    "## Examine Features of Interest"
   ]
  },
  {
   "cell_type": "code",
   "execution_count": 6,
   "metadata": {
    "scrolled": false
   },
   "outputs": [
    {
     "name": "stdout",
     "output_type": "stream",
     "text": [
      "Caucasian          76099\n",
      "AfricanAmerican    19210\n",
      "?                   2273\n",
      "Hispanic            2037\n",
      "Other               1506\n",
      "Asian                641\n",
      "Name: race, dtype: int64\n"
     ]
    },
    {
     "data": {
      "image/png": "[encoded data removed]",
      "text/plain": [
       "<Figure size 432x288 with 1 Axes>"
      ]
     },
     "metadata": {
      "needs_background": "light"
     },
     "output_type": "display_data"
    }
   ],
   "source": [
    "print(data.race.value_counts())\n",
    "data.race.value_counts().plot(kind='bar')\n",
    "plt.title('Dispersion of Race')\n",
    "plt.xticks(rotation=45);"
   ]
  },
  {
   "cell_type": "code",
   "execution_count": 7,
   "metadata": {},
   "outputs": [
    {
     "name": "stdout",
     "output_type": "stream",
     "text": [
      "Female             54708\n",
      "Male               47055\n",
      "Unknown/Invalid        3\n",
      "Name: gender, dtype: int64\n"
     ]
    },
    {
     "data": {
      "image/png": "[encoded data removed]",
      "text/plain": [
       "<Figure size 432x288 with 1 Axes>"
      ]
     },
     "metadata": {
      "needs_background": "light"
     },
     "output_type": "display_data"
    }
   ],
   "source": [
    "print(data.gender.value_counts())\n",
    "data.gender.value_counts().plot(kind='bar')\n",
    "plt.xticks(rotation=45)\n",
    "plt.title('Gender Dispersion');"
   ]
  },
  {
   "cell_type": "code",
   "execution_count": 8,
   "metadata": {},
   "outputs": [
    {
     "name": "stdout",
     "output_type": "stream",
     "text": [
      "[70-80)     26068\n",
      "[60-70)     22483\n",
      "[50-60)     17256\n",
      "[80-90)     17197\n",
      "[40-50)      9685\n",
      "[30-40)      3775\n",
      "[90-100)     2793\n",
      "[20-30)      1657\n",
      "[10-20)       691\n",
      "[0-10)        161\n",
      "Name: age, dtype: int64\n"
     ]
    },
    {
     "data": {
      "image/png": "[encoded data removed]",
      "text/plain": [
       "<Figure size 432x288 with 1 Axes>"
      ]
     },
     "metadata": {
      "needs_background": "light"
     },
     "output_type": "display_data"
    }
   ],
   "source": [
    "print(data.age.value_counts())\n",
    "data.age.value_counts().plot(kind='bar')\n",
    "plt.xticks(rotation=45)\n",
    "plt.title('Age Dispersion');"
   ]
  },
  {
   "cell_type": "code",
   "execution_count": 9,
   "metadata": {},
   "outputs": [
    {
     "name": "stdout",
     "output_type": "stream",
     "text": [
      "None    96420\n",
      "Norm     2597\n",
      ">200     1485\n",
      ">300     1264\n",
      "Name: max_glu_serum, dtype: int64\n"
     ]
    },
    {
     "data": {
      "image/png": "[encoded data removed]",
      "text/plain": [
       "<Figure size 432x288 with 1 Axes>"
      ]
     },
     "metadata": {
      "needs_background": "light"
     },
     "output_type": "display_data"
    }
   ],
   "source": [
    "print(data.max_glu_serum.value_counts())\n",
    "data.max_glu_serum.value_counts().plot(kind='bar')\n",
    "plt.xticks(rotation='horizontal')\n",
    "plt.title('Hb1Ac Test Results');"
   ]
  },
  {
   "cell_type": "code",
   "execution_count": 10,
   "metadata": {},
   "outputs": [
    {
     "data": {
      "text/plain": [
       "None    84748\n",
       ">8       8216\n",
       "Norm     4990\n",
       ">7       3812\n",
       "Name: A1Cresult, dtype: int64"
      ]
     },
     "execution_count": 10,
     "metadata": {},
     "output_type": "execute_result"
    }
   ],
   "source": [
    "data.A1Cresult.value_counts()"
   ]
  },
  {
   "cell_type": "code",
   "execution_count": 11,
   "metadata": {
    "scrolled": true
   },
   "outputs": [
    {
     "data": {
      "text/plain": [
       "?                                    49949\n",
       "InternalMedicine                     14635\n",
       "Emergency/Trauma                      7565\n",
       "Family/GeneralPractice                7440\n",
       "Cardiology                            5352\n",
       "Surgery-General                       3099\n",
       "Nephrology                            1613\n",
       "Orthopedics                           1400\n",
       "Orthopedics-Reconstructive            1233\n",
       "Radiologist                           1140\n",
       "Pulmonology                            871\n",
       "Psychiatry                             854\n",
       "Urology                                685\n",
       "ObstetricsandGynecology                671\n",
       "Surgery-Cardiovascular/Thoracic        652\n",
       "Gastroenterology                       564\n",
       "Surgery-Vascular                       533\n",
       "Surgery-Neuro                          468\n",
       "PhysicalMedicineandRehabilitation      391\n",
       "Oncology                               348\n",
       "Pediatrics                             254\n",
       "Hematology/Oncology                    207\n",
       "Neurology                              203\n",
       "Pediatrics-Endocrinology               159\n",
       "Otolaryngology                         125\n",
       "Endocrinology                          120\n",
       "Surgery-Thoracic                       109\n",
       "Psychology                             101\n",
       "Podiatry                               100\n",
       "Surgery-Cardiovascular                  98\n",
       "                                     ...  \n",
       "Obstetrics                              19\n",
       "Anesthesiology-Pediatric                19\n",
       "Pathology                               17\n",
       "Rheumatology                            17\n",
       "Anesthesiology                          12\n",
       "OutreachServices                        12\n",
       "PhysicianNotFound                       11\n",
       "Surgery-Colon&Rectal                    11\n",
       "Surgery-Maxillofacial                   11\n",
       "Pediatrics-Neurology                    10\n",
       "Surgery-Pediatric                        8\n",
       "Endocrinology-Metabolism                 8\n",
       "Psychiatry-Child/Adolescent              7\n",
       "Cardiology-Pediatric                     7\n",
       "AllergyandImmunology                     7\n",
       "DCPTEAM                                  6\n",
       "Dentistry                                4\n",
       "Pediatrics-Hematology-Oncology           4\n",
       "Pediatrics-AllergyandImmunology          3\n",
       "Pediatrics-EmergencyMedicine             3\n",
       "Resident                                 2\n",
       "Speech                                   1\n",
       "Proctology                               1\n",
       "Psychiatry-Addictive                     1\n",
       "Pediatrics-InfectiousDiseases            1\n",
       "SportsMedicine                           1\n",
       "Surgery-PlasticwithinHeadandNeck         1\n",
       "Dermatology                              1\n",
       "Neurophysiology                          1\n",
       "Perinatology                             1\n",
       "Name: medical_specialty, Length: 73, dtype: int64"
      ]
     },
     "execution_count": 11,
     "metadata": {},
     "output_type": "execute_result"
    }
   ],
   "source": [
    "data.medical_specialty.value_counts()"
   ]
  },
  {
   "cell_type": "code",
   "execution_count": 12,
   "metadata": {
    "scrolled": false
   },
   "outputs": [
    {
     "data": {
      "image/png": "[encoded data removed]",
      "text/plain": [
       "<Figure size 432x288 with 1 Axes>"
      ]
     },
     "metadata": {
      "needs_background": "light"
     },
     "output_type": "display_data"
    }
   ],
   "source": [
    "plt.hist(data.time_in_hospital, bins=13)\n",
    "plt.xlabel('Number of Days in Hospital')\n",
    "plt.ylabel('Number of Patients')\n",
    "plt.title('Length of Stay for Patients');"
   ]
  },
  {
   "cell_type": "markdown",
   "metadata": {},
   "source": [
    "# 2. Data Cleaning & Exploratory Data Analysis\n",
    " - Look at columns with data where '?' are used for placeholders\n",
    " - Determine any columns worth dropping ahead of time"
   ]
  },
  {
   "cell_type": "code",
   "execution_count": 13,
   "metadata": {
    "scrolled": true
   },
   "outputs": [
    {
     "name": "stdout",
     "output_type": "stream",
     "text": [
      "<class 'pandas.core.frame.DataFrame'>\n",
      "RangeIndex: 101766 entries, 0 to 101765\n",
      "Data columns (total 50 columns):\n",
      "encounter_id                101766 non-null int64\n",
      "patient_nbr                 101766 non-null int64\n",
      "race                        101766 non-null object\n",
      "gender                      101766 non-null object\n",
      "age                         101766 non-null object\n",
      "weight                      101766 non-null object\n",
      "admission_type_id           101766 non-null int64\n",
      "discharge_disposition_id    101766 non-null int64\n",
      "admission_source_id         101766 non-null int64\n",
      "time_in_hospital            101766 non-null int64\n",
      "payer_code                  101766 non-null object\n",
      "medical_specialty           101766 non-null object\n",
      "num_lab_procedures          101766 non-null int64\n",
      "num_procedures              101766 non-null int64\n",
      "num_medications             101766 non-null int64\n",
      "number_outpatient           101766 non-null int64\n",
      "number_emergency            101766 non-null int64\n",
      "number_inpatient            101766 non-null int64\n",
      "diag_1                      101766 non-null object\n",
      "diag_2                      101766 non-null object\n",
      "diag_3                      101766 non-null object\n",
      "number_diagnoses            101766 non-null int64\n",
      "max_glu_serum               101766 non-null object\n",
      "A1Cresult                   101766 non-null object\n",
      "metformin                   101766 non-null object\n",
      "repaglinide                 101766 non-null object\n",
      "nateglinide                 101766 non-null object\n",
      "chlorpropamide              101766 non-null object\n",
      "glimepiride                 101766 non-null object\n",
      "acetohexamide               101766 non-null object\n",
      "glipizide                   101766 non-null object\n",
      "glyburide                   101766 non-null object\n",
      "tolbutamide                 101766 non-null object\n",
      "pioglitazone                101766 non-null object\n",
      "rosiglitazone               101766 non-null object\n",
      "acarbose                    101766 non-null object\n",
      "miglitol                    101766 non-null object\n",
      "troglitazone                101766 non-null object\n",
      "tolazamide                  101766 non-null object\n",
      "examide                     101766 non-null object\n",
      "citoglipton                 101766 non-null object\n",
      "insulin                     101766 non-null object\n",
      "glyburide-metformin         101766 non-null object\n",
      "glipizide-metformin         101766 non-null object\n",
      "glimepiride-pioglitazone    101766 non-null object\n",
      "metformin-rosiglitazone     101766 non-null object\n",
      "metformin-pioglitazone      101766 non-null object\n",
      "change                      101766 non-null object\n",
      "diabetesMed                 101766 non-null object\n",
      "readmitted                  101766 non-null object\n",
      "dtypes: int64(13), object(37)\n",
      "memory usage: 38.8+ MB\n"
     ]
    }
   ],
   "source": [
    "data.info()"
   ]
  },
  {
   "cell_type": "code",
   "execution_count": 14,
   "metadata": {},
   "outputs": [],
   "source": [
    "# Drop encounter_id and patient_nbr as they won't be helpful\n",
    "data.drop(columns=['encounter_id', 'patient_nbr'], inplace=True)"
   ]
  },
  {
   "cell_type": "code",
   "execution_count": 15,
   "metadata": {},
   "outputs": [],
   "source": [
    "# Drop Weight Column, since 97% of data is missing\n",
    "data.drop(columns='weight', inplace=True)"
   ]
  },
  {
   "cell_type": "code",
   "execution_count": 16,
   "metadata": {},
   "outputs": [],
   "source": [
    "# Drop Payer Code, won't be something of interest to look at in the data\n",
    "data.drop(columns='payer_code', inplace=True)"
   ]
  },
  {
   "cell_type": "code",
   "execution_count": 17,
   "metadata": {},
   "outputs": [
    {
     "data": {
      "text/plain": [
       "Caucasian          76099\n",
       "AfricanAmerican    19210\n",
       "Hispanic            2037\n",
       "Asian                641\n",
       "Name: race, dtype: int64"
      ]
     },
     "execution_count": 17,
     "metadata": {},
     "output_type": "execute_result"
    }
   ],
   "source": [
    "# Drop Race column rows with '?' as a value\n",
    "data = data[data.race != '?']\n",
    "data = data[data.race != 'Other']\n",
    "data.race.value_counts()"
   ]
  },
  {
   "cell_type": "code",
   "execution_count": 18,
   "metadata": {},
   "outputs": [
    {
     "data": {
      "text/plain": [
       "Female    52827\n",
       "Male      45160\n",
       "Name: gender, dtype: int64"
      ]
     },
     "execution_count": 18,
     "metadata": {},
     "output_type": "execute_result"
    }
   ],
   "source": [
    "data = data[data.gender != 'Unknown/Invalid']\n",
    "data.gender.value_counts()"
   ]
  },
  {
   "cell_type": "code",
   "execution_count": 19,
   "metadata": {
    "scrolled": true
   },
   "outputs": [
    {
     "name": "stdout",
     "output_type": "stream",
     "text": [
      "<class 'pandas.core.frame.DataFrame'>\n",
      "Int64Index: 97987 entries, 0 to 101765\n",
      "Data columns (total 46 columns):\n",
      "race                        97987 non-null object\n",
      "gender                      97987 non-null object\n",
      "age                         97987 non-null object\n",
      "admission_type_id           97987 non-null int64\n",
      "discharge_disposition_id    97987 non-null int64\n",
      "admission_source_id         97987 non-null int64\n",
      "time_in_hospital            97987 non-null int64\n",
      "medical_specialty           97987 non-null object\n",
      "num_lab_procedures          97987 non-null int64\n",
      "num_procedures              97987 non-null int64\n",
      "num_medications             97987 non-null int64\n",
      "number_outpatient           97987 non-null int64\n",
      "number_emergency            97987 non-null int64\n",
      "number_inpatient            97987 non-null int64\n",
      "diag_1                      97987 non-null object\n",
      "diag_2                      97987 non-null object\n",
      "diag_3                      97987 non-null object\n",
      "number_diagnoses            97987 non-null int64\n",
      "max_glu_serum               97987 non-null object\n",
      "A1Cresult                   97987 non-null object\n",
      "metformin                   97987 non-null object\n",
      "repaglinide                 97987 non-null object\n",
      "nateglinide                 97987 non-null object\n",
      "chlorpropamide              97987 non-null object\n",
      "glimepiride                 97987 non-null object\n",
      "acetohexamide               97987 non-null object\n",
      "glipizide                   97987 non-null object\n",
      "glyburide                   97987 non-null object\n",
      "tolbutamide                 97987 non-null object\n",
      "pioglitazone                97987 non-null object\n",
      "rosiglitazone               97987 non-null object\n",
      "acarbose                    97987 non-null object\n",
      "miglitol                    97987 non-null object\n",
      "troglitazone                97987 non-null object\n",
      "tolazamide                  97987 non-null object\n",
      "examide                     97987 non-null object\n",
      "citoglipton                 97987 non-null object\n",
      "insulin                     97987 non-null object\n",
      "glyburide-metformin         97987 non-null object\n",
      "glipizide-metformin         97987 non-null object\n",
      "glimepiride-pioglitazone    97987 non-null object\n",
      "metformin-rosiglitazone     97987 non-null object\n",
      "metformin-pioglitazone      97987 non-null object\n",
      "change                      97987 non-null object\n",
      "diabetesMed                 97987 non-null object\n",
      "readmitted                  97987 non-null object\n",
      "dtypes: int64(11), object(35)\n",
      "memory usage: 35.1+ MB\n"
     ]
    }
   ],
   "source": [
    "data.info()"
   ]
  },
  {
   "cell_type": "code",
   "execution_count": 20,
   "metadata": {
    "scrolled": true
   },
   "outputs": [
    {
     "data": {
      "text/plain": [
       "Missing                              48099\n",
       "InternalMedicine                     14032\n",
       "Emergency/Trauma                      7289\n",
       "Family/GeneralPractice                7177\n",
       "Cardiology                            5160\n",
       "Surgery-General                       2977\n",
       "Nephrology                            1584\n",
       "Orthopedics                           1366\n",
       "Orthopedics-Reconstructive            1180\n",
       "Radiologist                           1109\n",
       "Pulmonology                            827\n",
       "Psychiatry                             823\n",
       "Urology                                658\n",
       "ObstetricsandGynecology                644\n",
       "Surgery-Cardiovascular/Thoracic        619\n",
       "Gastroenterology                       549\n",
       "Surgery-Vascular                       530\n",
       "Surgery-Neuro                          454\n",
       "PhysicalMedicineandRehabilitation      374\n",
       "Oncology                               342\n",
       "Pediatrics                             245\n",
       "Hematology/Oncology                    202\n",
       "Neurology                              191\n",
       "Pediatrics-Endocrinology               156\n",
       "Otolaryngology                         119\n",
       "Endocrinology                          118\n",
       "Surgery-Thoracic                       102\n",
       "Surgery-Cardiovascular                  97\n",
       "Psychology                              91\n",
       "Podiatry                                88\n",
       "                                     ...  \n",
       "Anesthesiology-Pediatric                19\n",
       "Rheumatology                            17\n",
       "Obstetrics                              17\n",
       "Pathology                               15\n",
       "OutreachServices                        12\n",
       "Anesthesiology                          11\n",
       "PhysicianNotFound                       11\n",
       "Surgery-Maxillofacial                   11\n",
       "Pediatrics-Neurology                    10\n",
       "Surgery-Colon&Rectal                    10\n",
       "Endocrinology-Metabolism                 8\n",
       "Surgery-Pediatric                        8\n",
       "Cardiology-Pediatric                     7\n",
       "AllergyandImmunology                     7\n",
       "Psychiatry-Child/Adolescent              7\n",
       "DCPTEAM                                  6\n",
       "Dentistry                                4\n",
       "Pediatrics-Hematology-Oncology           4\n",
       "Pediatrics-AllergyandImmunology          3\n",
       "Pediatrics-EmergencyMedicine             3\n",
       "Resident                                 1\n",
       "Pediatrics-InfectiousDiseases            1\n",
       "SportsMedicine                           1\n",
       "Neurophysiology                          1\n",
       "Surgery-PlasticwithinHeadandNeck         1\n",
       "Psychiatry-Addictive                     1\n",
       "Dermatology                              1\n",
       "Speech                                   1\n",
       "Proctology                               1\n",
       "Perinatology                             1\n",
       "Name: medical_specialty, Length: 73, dtype: int64"
      ]
     },
     "execution_count": 20,
     "metadata": {},
     "output_type": "execute_result"
    }
   ],
   "source": [
    "# Replace '?' values for Medical Specialty with 'Missing', not removing column yet as it could bring value later\n",
    "data.medical_specialty.replace('?', 'Missing', inplace=True)\n",
    "data.medical_specialty.value_counts()"
   ]
  },
  {
   "cell_type": "code",
   "execution_count": 21,
   "metadata": {},
   "outputs": [],
   "source": [
    "medications = data.iloc[:, 19:43]"
   ]
  },
  {
   "cell_type": "code",
   "execution_count": 22,
   "metadata": {},
   "outputs": [
    {
     "data": {
      "text/html": [
       "<div>\n",
       "<style scoped>\n",
       "    .dataframe tbody tr th:only-of-type {\n",
       "        vertical-align: middle;\n",
       "    }\n",
       "\n",
       "    .dataframe tbody tr th {\n",
       "        vertical-align: top;\n",
       "    }\n",
       "\n",
       "    .dataframe thead th {\n",
       "        text-align: right;\n",
       "    }\n",
       "</style>\n",
       "<table border=\"1\" class=\"dataframe\">\n",
       "  <thead>\n",
       "    <tr style=\"text-align: right;\">\n",
       "      <th></th>\n",
       "      <th>A1Cresult</th>\n",
       "      <th>metformin</th>\n",
       "      <th>repaglinide</th>\n",
       "      <th>nateglinide</th>\n",
       "      <th>chlorpropamide</th>\n",
       "      <th>glimepiride</th>\n",
       "      <th>acetohexamide</th>\n",
       "      <th>glipizide</th>\n",
       "      <th>glyburide</th>\n",
       "      <th>tolbutamide</th>\n",
       "      <th>...</th>\n",
       "      <th>troglitazone</th>\n",
       "      <th>tolazamide</th>\n",
       "      <th>examide</th>\n",
       "      <th>citoglipton</th>\n",
       "      <th>insulin</th>\n",
       "      <th>glyburide-metformin</th>\n",
       "      <th>glipizide-metformin</th>\n",
       "      <th>glimepiride-pioglitazone</th>\n",
       "      <th>metformin-rosiglitazone</th>\n",
       "      <th>metformin-pioglitazone</th>\n",
       "    </tr>\n",
       "  </thead>\n",
       "  <tbody>\n",
       "    <tr>\n",
       "      <th>0</th>\n",
       "      <td>None</td>\n",
       "      <td>No</td>\n",
       "      <td>No</td>\n",
       "      <td>No</td>\n",
       "      <td>No</td>\n",
       "      <td>No</td>\n",
       "      <td>No</td>\n",
       "      <td>No</td>\n",
       "      <td>No</td>\n",
       "      <td>No</td>\n",
       "      <td>...</td>\n",
       "      <td>No</td>\n",
       "      <td>No</td>\n",
       "      <td>No</td>\n",
       "      <td>No</td>\n",
       "      <td>No</td>\n",
       "      <td>No</td>\n",
       "      <td>No</td>\n",
       "      <td>No</td>\n",
       "      <td>No</td>\n",
       "      <td>No</td>\n",
       "    </tr>\n",
       "    <tr>\n",
       "      <th>1</th>\n",
       "      <td>None</td>\n",
       "      <td>No</td>\n",
       "      <td>No</td>\n",
       "      <td>No</td>\n",
       "      <td>No</td>\n",
       "      <td>No</td>\n",
       "      <td>No</td>\n",
       "      <td>No</td>\n",
       "      <td>No</td>\n",
       "      <td>No</td>\n",
       "      <td>...</td>\n",
       "      <td>No</td>\n",
       "      <td>No</td>\n",
       "      <td>No</td>\n",
       "      <td>No</td>\n",
       "      <td>Up</td>\n",
       "      <td>No</td>\n",
       "      <td>No</td>\n",
       "      <td>No</td>\n",
       "      <td>No</td>\n",
       "      <td>No</td>\n",
       "    </tr>\n",
       "    <tr>\n",
       "      <th>2</th>\n",
       "      <td>None</td>\n",
       "      <td>No</td>\n",
       "      <td>No</td>\n",
       "      <td>No</td>\n",
       "      <td>No</td>\n",
       "      <td>No</td>\n",
       "      <td>No</td>\n",
       "      <td>Steady</td>\n",
       "      <td>No</td>\n",
       "      <td>No</td>\n",
       "      <td>...</td>\n",
       "      <td>No</td>\n",
       "      <td>No</td>\n",
       "      <td>No</td>\n",
       "      <td>No</td>\n",
       "      <td>No</td>\n",
       "      <td>No</td>\n",
       "      <td>No</td>\n",
       "      <td>No</td>\n",
       "      <td>No</td>\n",
       "      <td>No</td>\n",
       "    </tr>\n",
       "    <tr>\n",
       "      <th>3</th>\n",
       "      <td>None</td>\n",
       "      <td>No</td>\n",
       "      <td>No</td>\n",
       "      <td>No</td>\n",
       "      <td>No</td>\n",
       "      <td>No</td>\n",
       "      <td>No</td>\n",
       "      <td>No</td>\n",
       "      <td>No</td>\n",
       "      <td>No</td>\n",
       "      <td>...</td>\n",
       "      <td>No</td>\n",
       "      <td>No</td>\n",
       "      <td>No</td>\n",
       "      <td>No</td>\n",
       "      <td>Up</td>\n",
       "      <td>No</td>\n",
       "      <td>No</td>\n",
       "      <td>No</td>\n",
       "      <td>No</td>\n",
       "      <td>No</td>\n",
       "    </tr>\n",
       "    <tr>\n",
       "      <th>4</th>\n",
       "      <td>None</td>\n",
       "      <td>No</td>\n",
       "      <td>No</td>\n",
       "      <td>No</td>\n",
       "      <td>No</td>\n",
       "      <td>No</td>\n",
       "      <td>No</td>\n",
       "      <td>Steady</td>\n",
       "      <td>No</td>\n",
       "      <td>No</td>\n",
       "      <td>...</td>\n",
       "      <td>No</td>\n",
       "      <td>No</td>\n",
       "      <td>No</td>\n",
       "      <td>No</td>\n",
       "      <td>Steady</td>\n",
       "      <td>No</td>\n",
       "      <td>No</td>\n",
       "      <td>No</td>\n",
       "      <td>No</td>\n",
       "      <td>No</td>\n",
       "    </tr>\n",
       "  </tbody>\n",
       "</table>\n",
       "<p>5 rows × 24 columns</p>\n",
       "</div>"
      ],
      "text/plain": [
       "  A1Cresult metformin repaglinide nateglinide chlorpropamide glimepiride  \\\n",
       "0      None        No          No          No             No          No   \n",
       "1      None        No          No          No             No          No   \n",
       "2      None        No          No          No             No          No   \n",
       "3      None        No          No          No             No          No   \n",
       "4      None        No          No          No             No          No   \n",
       "\n",
       "  acetohexamide glipizide glyburide tolbutamide          ...            \\\n",
       "0            No        No        No          No          ...             \n",
       "1            No        No        No          No          ...             \n",
       "2            No    Steady        No          No          ...             \n",
       "3            No        No        No          No          ...             \n",
       "4            No    Steady        No          No          ...             \n",
       "\n",
       "  troglitazone tolazamide examide citoglipton insulin glyburide-metformin  \\\n",
       "0           No         No      No          No      No                  No   \n",
       "1           No         No      No          No      Up                  No   \n",
       "2           No         No      No          No      No                  No   \n",
       "3           No         No      No          No      Up                  No   \n",
       "4           No         No      No          No  Steady                  No   \n",
       "\n",
       "  glipizide-metformin glimepiride-pioglitazone metformin-rosiglitazone  \\\n",
       "0                  No                       No                      No   \n",
       "1                  No                       No                      No   \n",
       "2                  No                       No                      No   \n",
       "3                  No                       No                      No   \n",
       "4                  No                       No                      No   \n",
       "\n",
       "  metformin-pioglitazone  \n",
       "0                     No  \n",
       "1                     No  \n",
       "2                     No  \n",
       "3                     No  \n",
       "4                     No  \n",
       "\n",
       "[5 rows x 24 columns]"
      ]
     },
     "execution_count": 22,
     "metadata": {},
     "output_type": "execute_result"
    }
   ],
   "source": [
    "medications.head()"
   ]
  },
  {
   "cell_type": "code",
   "execution_count": 23,
   "metadata": {},
   "outputs": [
    {
     "name": "stdout",
     "output_type": "stream",
     "text": [
      "<class 'pandas.core.frame.DataFrame'>\n",
      "Int64Index: 97987 entries, 0 to 101765\n",
      "Data columns (total 22 columns):\n",
      "race                        97987 non-null object\n",
      "gender                      97987 non-null object\n",
      "age                         97987 non-null object\n",
      "admission_type_id           97987 non-null int64\n",
      "discharge_disposition_id    97987 non-null int64\n",
      "admission_source_id         97987 non-null int64\n",
      "time_in_hospital            97987 non-null int64\n",
      "medical_specialty           97987 non-null object\n",
      "num_lab_procedures          97987 non-null int64\n",
      "num_procedures              97987 non-null int64\n",
      "num_medications             97987 non-null int64\n",
      "number_outpatient           97987 non-null int64\n",
      "number_emergency            97987 non-null int64\n",
      "number_inpatient            97987 non-null int64\n",
      "diag_1                      97987 non-null object\n",
      "diag_2                      97987 non-null object\n",
      "diag_3                      97987 non-null object\n",
      "number_diagnoses            97987 non-null int64\n",
      "max_glu_serum               97987 non-null object\n",
      "change                      97987 non-null object\n",
      "diabetesMed                 97987 non-null object\n",
      "readmitted                  97987 non-null object\n",
      "dtypes: int64(11), object(11)\n",
      "memory usage: 17.2+ MB\n"
     ]
    }
   ],
   "source": [
    "# Dropping medication columns to perhaps come back to later\n",
    "data.drop(columns=medications.columns, inplace=True)\n",
    "data.info()"
   ]
  },
  {
   "cell_type": "code",
   "execution_count": 24,
   "metadata": {},
   "outputs": [
    {
     "data": {
      "text/plain": [
       "1    75274\n",
       "0    22713\n",
       "Name: diabetesMed, dtype: int64"
      ]
     },
     "execution_count": 24,
     "metadata": {},
     "output_type": "execute_result"
    }
   ],
   "source": [
    "data.diabetesMed.replace('Yes', 1, inplace=True)\n",
    "data.diabetesMed.replace('No', 0, inplace=True)\n",
    "data.diabetesMed.value_counts()"
   ]
  },
  {
   "cell_type": "code",
   "execution_count": 25,
   "metadata": {
    "scrolled": false
   },
   "outputs": [
    {
     "data": {
      "text/plain": [
       "0    52885\n",
       "1    45102\n",
       "Name: change, dtype: int64"
      ]
     },
     "execution_count": 25,
     "metadata": {},
     "output_type": "execute_result"
    }
   ],
   "source": [
    "data.change.replace('No', 0, inplace=True)\n",
    "data.change.replace('Ch', 1, inplace=True)\n",
    "data.change.value_counts()"
   ]
  },
  {
   "cell_type": "code",
   "execution_count": 26,
   "metadata": {},
   "outputs": [],
   "source": [
    "# Drop diag_1, diag_2, diag_3 for the moment\n",
    "data.drop(columns=['diag_1', 'diag_2', 'diag_3'], inplace=True)"
   ]
  },
  {
   "cell_type": "code",
   "execution_count": 27,
   "metadata": {
    "scrolled": true
   },
   "outputs": [
    {
     "name": "stdout",
     "output_type": "stream",
     "text": [
      "<class 'pandas.core.frame.DataFrame'>\n",
      "Int64Index: 97987 entries, 0 to 101765\n",
      "Data columns (total 19 columns):\n",
      "race                        97987 non-null object\n",
      "gender                      97987 non-null object\n",
      "age                         97987 non-null object\n",
      "admission_type_id           97987 non-null int64\n",
      "discharge_disposition_id    97987 non-null int64\n",
      "admission_source_id         97987 non-null int64\n",
      "time_in_hospital            97987 non-null int64\n",
      "medical_specialty           97987 non-null object\n",
      "num_lab_procedures          97987 non-null int64\n",
      "num_procedures              97987 non-null int64\n",
      "num_medications             97987 non-null int64\n",
      "number_outpatient           97987 non-null int64\n",
      "number_emergency            97987 non-null int64\n",
      "number_inpatient            97987 non-null int64\n",
      "number_diagnoses            97987 non-null int64\n",
      "max_glu_serum               97987 non-null object\n",
      "change                      97987 non-null int64\n",
      "diabetesMed                 97987 non-null int64\n",
      "readmitted                  97987 non-null object\n",
      "dtypes: int64(13), object(6)\n",
      "memory usage: 15.0+ MB\n"
     ]
    }
   ],
   "source": [
    "data.info()"
   ]
  },
  {
   "cell_type": "markdown",
   "metadata": {},
   "source": [
    "# 3. Preprocessing"
   ]
  },
  {
   "cell_type": "markdown",
   "metadata": {},
   "source": [
    "## Define Target and Feature Variables"
   ]
  },
  {
   "cell_type": "code",
   "execution_count": 28,
   "metadata": {},
   "outputs": [],
   "source": [
    "target = data.readmitted\n",
    "features = data.drop(columns='readmitted')"
   ]
  },
  {
   "cell_type": "markdown",
   "metadata": {},
   "source": [
    "#### Make Dummies for Features"
   ]
  },
  {
   "cell_type": "code",
   "execution_count": 29,
   "metadata": {},
   "outputs": [
    {
     "data": {
      "text/html": [
       "<div>\n",
       "<style scoped>\n",
       "    .dataframe tbody tr th:only-of-type {\n",
       "        vertical-align: middle;\n",
       "    }\n",
       "\n",
       "    .dataframe tbody tr th {\n",
       "        vertical-align: top;\n",
       "    }\n",
       "\n",
       "    .dataframe thead th {\n",
       "        text-align: right;\n",
       "    }\n",
       "</style>\n",
       "<table border=\"1\" class=\"dataframe\">\n",
       "  <thead>\n",
       "    <tr style=\"text-align: right;\">\n",
       "      <th></th>\n",
       "      <th>admission_type_id</th>\n",
       "      <th>discharge_disposition_id</th>\n",
       "      <th>admission_source_id</th>\n",
       "      <th>time_in_hospital</th>\n",
       "      <th>num_lab_procedures</th>\n",
       "      <th>num_procedures</th>\n",
       "      <th>num_medications</th>\n",
       "      <th>number_outpatient</th>\n",
       "      <th>number_emergency</th>\n",
       "      <th>number_inpatient</th>\n",
       "      <th>...</th>\n",
       "      <th>medical_specialty_Surgery-Plastic</th>\n",
       "      <th>medical_specialty_Surgery-PlasticwithinHeadandNeck</th>\n",
       "      <th>medical_specialty_Surgery-Thoracic</th>\n",
       "      <th>medical_specialty_Surgery-Vascular</th>\n",
       "      <th>medical_specialty_SurgicalSpecialty</th>\n",
       "      <th>medical_specialty_Urology</th>\n",
       "      <th>max_glu_serum_&gt;200</th>\n",
       "      <th>max_glu_serum_&gt;300</th>\n",
       "      <th>max_glu_serum_None</th>\n",
       "      <th>max_glu_serum_Norm</th>\n",
       "    </tr>\n",
       "  </thead>\n",
       "  <tbody>\n",
       "    <tr>\n",
       "      <th>0</th>\n",
       "      <td>6</td>\n",
       "      <td>25</td>\n",
       "      <td>1</td>\n",
       "      <td>1</td>\n",
       "      <td>41</td>\n",
       "      <td>0</td>\n",
       "      <td>1</td>\n",
       "      <td>0</td>\n",
       "      <td>0</td>\n",
       "      <td>0</td>\n",
       "      <td>...</td>\n",
       "      <td>0</td>\n",
       "      <td>0</td>\n",
       "      <td>0</td>\n",
       "      <td>0</td>\n",
       "      <td>0</td>\n",
       "      <td>0</td>\n",
       "      <td>0</td>\n",
       "      <td>0</td>\n",
       "      <td>1</td>\n",
       "      <td>0</td>\n",
       "    </tr>\n",
       "    <tr>\n",
       "      <th>1</th>\n",
       "      <td>1</td>\n",
       "      <td>1</td>\n",
       "      <td>7</td>\n",
       "      <td>3</td>\n",
       "      <td>59</td>\n",
       "      <td>0</td>\n",
       "      <td>18</td>\n",
       "      <td>0</td>\n",
       "      <td>0</td>\n",
       "      <td>0</td>\n",
       "      <td>...</td>\n",
       "      <td>0</td>\n",
       "      <td>0</td>\n",
       "      <td>0</td>\n",
       "      <td>0</td>\n",
       "      <td>0</td>\n",
       "      <td>0</td>\n",
       "      <td>0</td>\n",
       "      <td>0</td>\n",
       "      <td>1</td>\n",
       "      <td>0</td>\n",
       "    </tr>\n",
       "    <tr>\n",
       "      <th>2</th>\n",
       "      <td>1</td>\n",
       "      <td>1</td>\n",
       "      <td>7</td>\n",
       "      <td>2</td>\n",
       "      <td>11</td>\n",
       "      <td>5</td>\n",
       "      <td>13</td>\n",
       "      <td>2</td>\n",
       "      <td>0</td>\n",
       "      <td>1</td>\n",
       "      <td>...</td>\n",
       "      <td>0</td>\n",
       "      <td>0</td>\n",
       "      <td>0</td>\n",
       "      <td>0</td>\n",
       "      <td>0</td>\n",
       "      <td>0</td>\n",
       "      <td>0</td>\n",
       "      <td>0</td>\n",
       "      <td>1</td>\n",
       "      <td>0</td>\n",
       "    </tr>\n",
       "    <tr>\n",
       "      <th>3</th>\n",
       "      <td>1</td>\n",
       "      <td>1</td>\n",
       "      <td>7</td>\n",
       "      <td>2</td>\n",
       "      <td>44</td>\n",
       "      <td>1</td>\n",
       "      <td>16</td>\n",
       "      <td>0</td>\n",
       "      <td>0</td>\n",
       "      <td>0</td>\n",
       "      <td>...</td>\n",
       "      <td>0</td>\n",
       "      <td>0</td>\n",
       "      <td>0</td>\n",
       "      <td>0</td>\n",
       "      <td>0</td>\n",
       "      <td>0</td>\n",
       "      <td>0</td>\n",
       "      <td>0</td>\n",
       "      <td>1</td>\n",
       "      <td>0</td>\n",
       "    </tr>\n",
       "    <tr>\n",
       "      <th>4</th>\n",
       "      <td>1</td>\n",
       "      <td>1</td>\n",
       "      <td>7</td>\n",
       "      <td>1</td>\n",
       "      <td>51</td>\n",
       "      <td>0</td>\n",
       "      <td>8</td>\n",
       "      <td>0</td>\n",
       "      <td>0</td>\n",
       "      <td>0</td>\n",
       "      <td>...</td>\n",
       "      <td>0</td>\n",
       "      <td>0</td>\n",
       "      <td>0</td>\n",
       "      <td>0</td>\n",
       "      <td>0</td>\n",
       "      <td>0</td>\n",
       "      <td>0</td>\n",
       "      <td>0</td>\n",
       "      <td>1</td>\n",
       "      <td>0</td>\n",
       "    </tr>\n",
       "  </tbody>\n",
       "</table>\n",
       "<p>5 rows × 106 columns</p>\n",
       "</div>"
      ],
      "text/plain": [
       "   admission_type_id  discharge_disposition_id  admission_source_id  \\\n",
       "0                  6                        25                    1   \n",
       "1                  1                         1                    7   \n",
       "2                  1                         1                    7   \n",
       "3                  1                         1                    7   \n",
       "4                  1                         1                    7   \n",
       "\n",
       "   time_in_hospital  num_lab_procedures  num_procedures  num_medications  \\\n",
       "0                 1                  41               0                1   \n",
       "1                 3                  59               0               18   \n",
       "2                 2                  11               5               13   \n",
       "3                 2                  44               1               16   \n",
       "4                 1                  51               0                8   \n",
       "\n",
       "   number_outpatient  number_emergency  number_inpatient         ...          \\\n",
       "0                  0                 0                 0         ...           \n",
       "1                  0                 0                 0         ...           \n",
       "2                  2                 0                 1         ...           \n",
       "3                  0                 0                 0         ...           \n",
       "4                  0                 0                 0         ...           \n",
       "\n",
       "   medical_specialty_Surgery-Plastic  \\\n",
       "0                                  0   \n",
       "1                                  0   \n",
       "2                                  0   \n",
       "3                                  0   \n",
       "4                                  0   \n",
       "\n",
       "   medical_specialty_Surgery-PlasticwithinHeadandNeck  \\\n",
       "0                                                  0    \n",
       "1                                                  0    \n",
       "2                                                  0    \n",
       "3                                                  0    \n",
       "4                                                  0    \n",
       "\n",
       "   medical_specialty_Surgery-Thoracic  medical_specialty_Surgery-Vascular  \\\n",
       "0                                   0                                   0   \n",
       "1                                   0                                   0   \n",
       "2                                   0                                   0   \n",
       "3                                   0                                   0   \n",
       "4                                   0                                   0   \n",
       "\n",
       "   medical_specialty_SurgicalSpecialty  medical_specialty_Urology  \\\n",
       "0                                    0                          0   \n",
       "1                                    0                          0   \n",
       "2                                    0                          0   \n",
       "3                                    0                          0   \n",
       "4                                    0                          0   \n",
       "\n",
       "   max_glu_serum_>200  max_glu_serum_>300  max_glu_serum_None  \\\n",
       "0                   0                   0                   1   \n",
       "1                   0                   0                   1   \n",
       "2                   0                   0                   1   \n",
       "3                   0                   0                   1   \n",
       "4                   0                   0                   1   \n",
       "\n",
       "   max_glu_serum_Norm  \n",
       "0                   0  \n",
       "1                   0  \n",
       "2                   0  \n",
       "3                   0  \n",
       "4                   0  \n",
       "\n",
       "[5 rows x 106 columns]"
      ]
     },
     "execution_count": 29,
     "metadata": {},
     "output_type": "execute_result"
    }
   ],
   "source": [
    "features = pd.get_dummies(features)\n",
    "features.head()"
   ]
  },
  {
   "cell_type": "code",
   "execution_count": 30,
   "metadata": {},
   "outputs": [],
   "source": [
    "scaler = StandardScaler()\n",
    "scaled_features = scaler.fit_transform(features)"
   ]
  },
  {
   "cell_type": "code",
   "execution_count": 31,
   "metadata": {},
   "outputs": [
    {
     "data": {
      "text/html": [
       "<div>\n",
       "<style scoped>\n",
       "    .dataframe tbody tr th:only-of-type {\n",
       "        vertical-align: middle;\n",
       "    }\n",
       "\n",
       "    .dataframe tbody tr th {\n",
       "        vertical-align: top;\n",
       "    }\n",
       "\n",
       "    .dataframe thead th {\n",
       "        text-align: right;\n",
       "    }\n",
       "</style>\n",
       "<table border=\"1\" class=\"dataframe\">\n",
       "  <thead>\n",
       "    <tr style=\"text-align: right;\">\n",
       "      <th></th>\n",
       "      <th>admission_type_id</th>\n",
       "      <th>discharge_disposition_id</th>\n",
       "      <th>admission_source_id</th>\n",
       "      <th>time_in_hospital</th>\n",
       "      <th>num_lab_procedures</th>\n",
       "      <th>num_procedures</th>\n",
       "      <th>num_medications</th>\n",
       "      <th>number_outpatient</th>\n",
       "      <th>number_emergency</th>\n",
       "      <th>number_inpatient</th>\n",
       "      <th>...</th>\n",
       "      <th>medical_specialty_Surgery-Plastic</th>\n",
       "      <th>medical_specialty_Surgery-PlasticwithinHeadandNeck</th>\n",
       "      <th>medical_specialty_Surgery-Thoracic</th>\n",
       "      <th>medical_specialty_Surgery-Vascular</th>\n",
       "      <th>medical_specialty_SurgicalSpecialty</th>\n",
       "      <th>medical_specialty_Urology</th>\n",
       "      <th>max_glu_serum_&gt;200</th>\n",
       "      <th>max_glu_serum_&gt;300</th>\n",
       "      <th>max_glu_serum_None</th>\n",
       "      <th>max_glu_serum_Norm</th>\n",
       "    </tr>\n",
       "  </thead>\n",
       "  <tbody>\n",
       "    <tr>\n",
       "      <th>0</th>\n",
       "      <td>2.740623</td>\n",
       "      <td>4.000630</td>\n",
       "      <td>-1.170204</td>\n",
       "      <td>-1.138710</td>\n",
       "      <td>-0.105086</td>\n",
       "      <td>-0.78615</td>\n",
       "      <td>-1.853242</td>\n",
       "      <td>-0.292645</td>\n",
       "      <td>-0.214059</td>\n",
       "      <td>-0.506680</td>\n",
       "      <td>...</td>\n",
       "      <td>-0.019954</td>\n",
       "      <td>-0.003195</td>\n",
       "      <td>-0.032281</td>\n",
       "      <td>-0.073745</td>\n",
       "      <td>-0.01779</td>\n",
       "      <td>-0.082223</td>\n",
       "      <td>-0.122256</td>\n",
       "      <td>-0.113073</td>\n",
       "      <td>0.237213</td>\n",
       "      <td>-0.163131</td>\n",
       "    </tr>\n",
       "    <tr>\n",
       "      <th>1</th>\n",
       "      <td>-0.707094</td>\n",
       "      <td>-0.516886</td>\n",
       "      <td>0.301310</td>\n",
       "      <td>-0.468947</td>\n",
       "      <td>0.810039</td>\n",
       "      <td>-0.78615</td>\n",
       "      <td>0.241579</td>\n",
       "      <td>-0.292645</td>\n",
       "      <td>-0.214059</td>\n",
       "      <td>-0.506680</td>\n",
       "      <td>...</td>\n",
       "      <td>-0.019954</td>\n",
       "      <td>-0.003195</td>\n",
       "      <td>-0.032281</td>\n",
       "      <td>-0.073745</td>\n",
       "      <td>-0.01779</td>\n",
       "      <td>-0.082223</td>\n",
       "      <td>-0.122256</td>\n",
       "      <td>-0.113073</td>\n",
       "      <td>0.237213</td>\n",
       "      <td>-0.163131</td>\n",
       "    </tr>\n",
       "    <tr>\n",
       "      <th>2</th>\n",
       "      <td>-0.707094</td>\n",
       "      <td>-0.516886</td>\n",
       "      <td>0.301310</td>\n",
       "      <td>-0.803828</td>\n",
       "      <td>-1.630296</td>\n",
       "      <td>2.15245</td>\n",
       "      <td>-0.374545</td>\n",
       "      <td>1.267497</td>\n",
       "      <td>-0.214059</td>\n",
       "      <td>0.277649</td>\n",
       "      <td>...</td>\n",
       "      <td>-0.019954</td>\n",
       "      <td>-0.003195</td>\n",
       "      <td>-0.032281</td>\n",
       "      <td>-0.073745</td>\n",
       "      <td>-0.01779</td>\n",
       "      <td>-0.082223</td>\n",
       "      <td>-0.122256</td>\n",
       "      <td>-0.113073</td>\n",
       "      <td>0.237213</td>\n",
       "      <td>-0.163131</td>\n",
       "    </tr>\n",
       "    <tr>\n",
       "      <th>3</th>\n",
       "      <td>-0.707094</td>\n",
       "      <td>-0.516886</td>\n",
       "      <td>0.301310</td>\n",
       "      <td>-0.803828</td>\n",
       "      <td>0.047435</td>\n",
       "      <td>-0.19843</td>\n",
       "      <td>-0.004871</td>\n",
       "      <td>-0.292645</td>\n",
       "      <td>-0.214059</td>\n",
       "      <td>-0.506680</td>\n",
       "      <td>...</td>\n",
       "      <td>-0.019954</td>\n",
       "      <td>-0.003195</td>\n",
       "      <td>-0.032281</td>\n",
       "      <td>-0.073745</td>\n",
       "      <td>-0.01779</td>\n",
       "      <td>-0.082223</td>\n",
       "      <td>-0.122256</td>\n",
       "      <td>-0.113073</td>\n",
       "      <td>0.237213</td>\n",
       "      <td>-0.163131</td>\n",
       "    </tr>\n",
       "    <tr>\n",
       "      <th>4</th>\n",
       "      <td>-0.707094</td>\n",
       "      <td>-0.516886</td>\n",
       "      <td>0.301310</td>\n",
       "      <td>-1.138710</td>\n",
       "      <td>0.403317</td>\n",
       "      <td>-0.78615</td>\n",
       "      <td>-0.990669</td>\n",
       "      <td>-0.292645</td>\n",
       "      <td>-0.214059</td>\n",
       "      <td>-0.506680</td>\n",
       "      <td>...</td>\n",
       "      <td>-0.019954</td>\n",
       "      <td>-0.003195</td>\n",
       "      <td>-0.032281</td>\n",
       "      <td>-0.073745</td>\n",
       "      <td>-0.01779</td>\n",
       "      <td>-0.082223</td>\n",
       "      <td>-0.122256</td>\n",
       "      <td>-0.113073</td>\n",
       "      <td>0.237213</td>\n",
       "      <td>-0.163131</td>\n",
       "    </tr>\n",
       "  </tbody>\n",
       "</table>\n",
       "<p>5 rows × 106 columns</p>\n",
       "</div>"
      ],
      "text/plain": [
       "   admission_type_id  discharge_disposition_id  admission_source_id  \\\n",
       "0           2.740623                  4.000630            -1.170204   \n",
       "1          -0.707094                 -0.516886             0.301310   \n",
       "2          -0.707094                 -0.516886             0.301310   \n",
       "3          -0.707094                 -0.516886             0.301310   \n",
       "4          -0.707094                 -0.516886             0.301310   \n",
       "\n",
       "   time_in_hospital  num_lab_procedures  num_procedures  num_medications  \\\n",
       "0         -1.138710           -0.105086        -0.78615        -1.853242   \n",
       "1         -0.468947            0.810039        -0.78615         0.241579   \n",
       "2         -0.803828           -1.630296         2.15245        -0.374545   \n",
       "3         -0.803828            0.047435        -0.19843        -0.004871   \n",
       "4         -1.138710            0.403317        -0.78615        -0.990669   \n",
       "\n",
       "   number_outpatient  number_emergency  number_inpatient         ...          \\\n",
       "0          -0.292645         -0.214059         -0.506680         ...           \n",
       "1          -0.292645         -0.214059         -0.506680         ...           \n",
       "2           1.267497         -0.214059          0.277649         ...           \n",
       "3          -0.292645         -0.214059         -0.506680         ...           \n",
       "4          -0.292645         -0.214059         -0.506680         ...           \n",
       "\n",
       "   medical_specialty_Surgery-Plastic  \\\n",
       "0                          -0.019954   \n",
       "1                          -0.019954   \n",
       "2                          -0.019954   \n",
       "3                          -0.019954   \n",
       "4                          -0.019954   \n",
       "\n",
       "   medical_specialty_Surgery-PlasticwithinHeadandNeck  \\\n",
       "0                                          -0.003195    \n",
       "1                                          -0.003195    \n",
       "2                                          -0.003195    \n",
       "3                                          -0.003195    \n",
       "4                                          -0.003195    \n",
       "\n",
       "   medical_specialty_Surgery-Thoracic  medical_specialty_Surgery-Vascular  \\\n",
       "0                           -0.032281                           -0.073745   \n",
       "1                           -0.032281                           -0.073745   \n",
       "2                           -0.032281                           -0.073745   \n",
       "3                           -0.032281                           -0.073745   \n",
       "4                           -0.032281                           -0.073745   \n",
       "\n",
       "   medical_specialty_SurgicalSpecialty  medical_specialty_Urology  \\\n",
       "0                             -0.01779                  -0.082223   \n",
       "1                             -0.01779                  -0.082223   \n",
       "2                             -0.01779                  -0.082223   \n",
       "3                             -0.01779                  -0.082223   \n",
       "4                             -0.01779                  -0.082223   \n",
       "\n",
       "   max_glu_serum_>200  max_glu_serum_>300  max_glu_serum_None  \\\n",
       "0           -0.122256           -0.113073            0.237213   \n",
       "1           -0.122256           -0.113073            0.237213   \n",
       "2           -0.122256           -0.113073            0.237213   \n",
       "3           -0.122256           -0.113073            0.237213   \n",
       "4           -0.122256           -0.113073            0.237213   \n",
       "\n",
       "   max_glu_serum_Norm  \n",
       "0           -0.163131  \n",
       "1           -0.163131  \n",
       "2           -0.163131  \n",
       "3           -0.163131  \n",
       "4           -0.163131  \n",
       "\n",
       "[5 rows x 106 columns]"
      ]
     },
     "execution_count": 31,
     "metadata": {},
     "output_type": "execute_result"
    }
   ],
   "source": [
    "df = pd.DataFrame(scaled_features, index=features.index, columns=features.columns)\n",
    "df.head()"
   ]
  },
  {
   "cell_type": "code",
   "execution_count": 32,
   "metadata": {
    "scrolled": false
   },
   "outputs": [
    {
     "name": "stdout",
     "output_type": "stream",
     "text": [
      "NO     52402\n",
      ">30    34561\n",
      "<30    11024\n",
      "Name: readmitted, dtype: int64\n"
     ]
    },
    {
     "data": {
      "image/png": "[encoded data removed]",
      "text/plain": [
       "<Figure size 432x288 with 1 Axes>"
      ]
     },
     "metadata": {
      "needs_background": "light"
     },
     "output_type": "display_data"
    }
   ],
   "source": [
    "print(target.value_counts())\n",
    "target.value_counts().plot(kind='bar')\n",
    "plt.title('Readmitted Patients')\n",
    "plt.xlabel('Length of Time to Readmittance')\n",
    "plt.xticks(rotation='horizontal')\n",
    "plt.ylabel('Number of Patients');"
   ]
  },
  {
   "cell_type": "code",
   "execution_count": 33,
   "metadata": {},
   "outputs": [
    {
     "data": {
      "text/plain": [
       "NO     52402\n",
       ">30    34561\n",
       "<30    11024\n",
       "Name: readmitted, dtype: int64"
      ]
     },
     "execution_count": 33,
     "metadata": {},
     "output_type": "execute_result"
    }
   ],
   "source": [
    "data.readmitted.value_counts()"
   ]
  },
  {
   "cell_type": "markdown",
   "metadata": {},
   "source": [
    "#### Change Values in Target Column to Numeric"
   ]
  },
  {
   "cell_type": "code",
   "execution_count": 34,
   "metadata": {
    "scrolled": false
   },
   "outputs": [
    {
     "data": {
      "text/plain": [
       "0    52402\n",
       "1    45585\n",
       "Name: readmitted, dtype: int64"
      ]
     },
     "execution_count": 34,
     "metadata": {},
     "output_type": "execute_result"
    }
   ],
   "source": [
    "target = target.replace('NO', 0)\n",
    "target = target.replace('>30', 1)\n",
    "target = target.replace('<30', 1)\n",
    "target.value_counts()"
   ]
  },
  {
   "cell_type": "markdown",
   "metadata": {},
   "source": [
    "# 4. Modeling:\n",
    "- Feature Importance Visualization\n",
    "- Visualize Effect of Different Hyperparameter Values\n",
    "- Logistic Regression\n",
    "- Grid Search\n",
    "    - Random Forest\n",
    "    - AdaBoost Classifier\n",
    "    - Decision Tree\n",
    "- Model Comparison\n",
    "- Refit Decision Tree\n",
    "- Violin Plots"
   ]
  },
  {
   "cell_type": "code",
   "execution_count": 35,
   "metadata": {},
   "outputs": [
    {
     "name": "stdout",
     "output_type": "stream",
     "text": [
      "(97987, 106) (97987,)\n"
     ]
    }
   ],
   "source": [
    "X = features\n",
    "y = target\n",
    "print(X.shape, y.shape)"
   ]
  },
  {
   "cell_type": "markdown",
   "metadata": {},
   "source": [
    "## Train-Test-Split"
   ]
  },
  {
   "cell_type": "code",
   "execution_count": 36,
   "metadata": {},
   "outputs": [],
   "source": [
    "X_train, X_test, y_train, y_test = train_test_split(X, y, random_state=25)"
   ]
  },
  {
   "cell_type": "code",
   "execution_count": 37,
   "metadata": {},
   "outputs": [
    {
     "name": "stdout",
     "output_type": "stream",
     "text": [
      "(73490, 106) (24497, 106)\n",
      "-------------------------\n",
      "(73490,) (24497,)\n"
     ]
    }
   ],
   "source": [
    "print(X_train.shape, X_test.shape)\n",
    "print('-'*25)\n",
    "print(y_train.shape, y_test.shape)"
   ]
  },
  {
   "cell_type": "code",
   "execution_count": 38,
   "metadata": {},
   "outputs": [
    {
     "data": {
      "text/plain": [
       "DecisionTreeClassifier(class_weight=None, criterion='gini', max_depth=None,\n",
       "            max_features=None, max_leaf_nodes=None,\n",
       "            min_impurity_decrease=0.0, min_impurity_split=None,\n",
       "            min_samples_leaf=1, min_samples_split=2,\n",
       "            min_weight_fraction_leaf=0.0, presort=False, random_state=25,\n",
       "            splitter='best')"
      ]
     },
     "execution_count": 38,
     "metadata": {},
     "output_type": "execute_result"
    }
   ],
   "source": [
    "# Decision Tree Classifier\n",
    "clf = DecisionTreeClassifier(random_state=25)\n",
    "clf.fit(X_train, y_train)"
   ]
  },
  {
   "cell_type": "code",
   "execution_count": 39,
   "metadata": {},
   "outputs": [],
   "source": [
    "# RECALL: TP / (TP+FN)\n",
    "# PRECISION: TP / (TP+FP)\n",
    "# F1 SCORE: (2*Prec*Recall) / (Prec + Recall)\n",
    "# ACCURACY: (TP + TN) / (TP + FP + TN + FN)"
   ]
  },
  {
   "cell_type": "code",
   "execution_count": 40,
   "metadata": {},
   "outputs": [],
   "source": [
    "# Maximizing RECALL is the same as minimizing FALSE NEGATIVES"
   ]
  },
  {
   "cell_type": "code",
   "execution_count": 41,
   "metadata": {},
   "outputs": [],
   "source": [
    "# Maximizing PRECISION is the same as minimizing FALSE POSITIVES"
   ]
  },
  {
   "cell_type": "code",
   "execution_count": 42,
   "metadata": {},
   "outputs": [],
   "source": [
    "# Maximizing F1 SCORE is the same as maximizing PRECISION & RECALL (Minimizing FALSE POSITIVE & FALSE NEGATIVE)"
   ]
  },
  {
   "cell_type": "code",
   "execution_count": 43,
   "metadata": {},
   "outputs": [],
   "source": [
    "# Grid Search can choose what score you want to maximize (precision/recall)"
   ]
  },
  {
   "cell_type": "code",
   "execution_count": 44,
   "metadata": {},
   "outputs": [],
   "source": [
    "# WE WANT TO MINIMIZE FALSE NEGATIVES -- This way hospitals won't be expecting fewer number of patients...\n",
    "# Which means if the hospital is staffed for 100 patients daily, but 250 show up, hospital will be understaffed...\n",
    "# As opposed to being staffed for 250 and having 100 patients daily\n",
    "# WE NEED TO MAXIMIZE RECALL!!!"
   ]
  },
  {
   "cell_type": "code",
   "execution_count": 45,
   "metadata": {},
   "outputs": [],
   "source": [
    "y_preds = clf.predict(X_test)"
   ]
  },
  {
   "cell_type": "code",
   "execution_count": 46,
   "metadata": {
    "scrolled": true
   },
   "outputs": [
    {
     "data": {
      "text/plain": [
       "0.5657427440094706"
      ]
     },
     "execution_count": 46,
     "metadata": {},
     "output_type": "execute_result"
    }
   ],
   "source": [
    "accuracy_score(y_test, y_preds)"
   ]
  },
  {
   "cell_type": "code",
   "execution_count": 47,
   "metadata": {},
   "outputs": [
    {
     "data": {
      "text/plain": [
       "0.5269785745518146"
      ]
     },
     "execution_count": 47,
     "metadata": {},
     "output_type": "execute_result"
    }
   ],
   "source": [
    "recall_score(y_test, y_preds)"
   ]
  },
  {
   "cell_type": "code",
   "execution_count": 48,
   "metadata": {},
   "outputs": [
    {
     "name": "stdout",
     "output_type": "stream",
     "text": [
      "[[7833 5229]\n",
      " [5409 6026]]\n",
      "              precision    recall  f1-score   support\n",
      "\n",
      "           0       0.59      0.60      0.60     13062\n",
      "           1       0.54      0.53      0.53     11435\n",
      "\n",
      "   micro avg       0.57      0.57      0.57     24497\n",
      "   macro avg       0.56      0.56      0.56     24497\n",
      "weighted avg       0.57      0.57      0.57     24497\n",
      "\n"
     ]
    }
   ],
   "source": [
    "print(confusion_matrix(y_test, y_preds))\n",
    "print(classification_report(y_test, y_preds))"
   ]
  },
  {
   "cell_type": "code",
   "execution_count": 49,
   "metadata": {},
   "outputs": [],
   "source": [
    "def plot_feature_importances(model, figsize=(12,12)):\n",
    "    \n",
    "    \"\"\"Visualize feature importance of selected model as determined by feature_importances_ method.\"\"\"\n",
    "    \n",
    "    n_features = X_train.shape[1]\n",
    "    plt.figure(figsize=figsize)\n",
    "    plt.barh(range(n_features), model.feature_importances_, align='center') \n",
    "    plt.yticks(np.arange(n_features), X_train.columns.values) \n",
    "    plt.xlabel(\"Feature Importance\")\n",
    "    plt.ylabel(\"Feature\")"
   ]
  },
  {
   "cell_type": "code",
   "execution_count": 50,
   "metadata": {},
   "outputs": [
    {
     "data": {
      "image/png": "[encoded data removed]",
      "text/plain": [
       "<Figure size 864x1584 with 1 Axes>"
      ]
     },
     "metadata": {
      "needs_background": "light"
     },
     "output_type": "display_data"
    }
   ],
   "source": [
    "plot_feature_importances(clf, figsize=(12, 22))"
   ]
  },
  {
   "cell_type": "code",
   "execution_count": 51,
   "metadata": {},
   "outputs": [],
   "source": [
    "# # Visualize effect of different max_depths on AUC scores\n",
    "\n",
    "# max_depths = np.linspace(1,107,107,endpoint=True)\n",
    "# train_auc = []\n",
    "# test_auc = []\n",
    "\n",
    "# for depth in max_depths:\n",
    "    \n",
    "#     clf = RandomForestClassifier(max_depth=depth)\n",
    "#     clf.fit(X_train, y_train)\n",
    "#     train_pred = clf.predict(X_train)\n",
    "#     fpr, tpr, thresh = roc_curve(y_train, train_pred)\n",
    "#     roc_auc = auc(fpr, tpr)\n",
    "#     train_auc.append(roc_auc)\n",
    "    \n",
    "#     test_pred = clf.predict(X_test)\n",
    "#     fpr, tpr, thresh = roc_curve(y_test, test_pred)\n",
    "#     roc_auc = auc(fpr, tpr)\n",
    "#     test_auc.append(roc_auc)\n",
    "\n",
    "# plt.figure(figsize=(10,8))\n",
    "# plt.plot(max_depths, train_auc, label='Train AUC')\n",
    "# plt.plot(max_depths, test_auc, label='Test AUC')\n",
    "# plt.xlabel('Tree Depth')\n",
    "# plt.ylabel('AUC Scores')\n",
    "# plt.legend(loc='best')\n",
    "# plt.show();"
   ]
  },
  {
   "cell_type": "markdown",
   "metadata": {},
   "source": [
    "## Restore data to pre-dummies columns and remove medical specialty column"
   ]
  },
  {
   "cell_type": "code",
   "execution_count": 52,
   "metadata": {
    "scrolled": true
   },
   "outputs": [
    {
     "name": "stdout",
     "output_type": "stream",
     "text": [
      "<class 'pandas.core.frame.DataFrame'>\n",
      "Int64Index: 97987 entries, 0 to 101765\n",
      "Data columns (total 19 columns):\n",
      "race                        97987 non-null object\n",
      "gender                      97987 non-null object\n",
      "age                         97987 non-null object\n",
      "admission_type_id           97987 non-null int64\n",
      "discharge_disposition_id    97987 non-null int64\n",
      "admission_source_id         97987 non-null int64\n",
      "time_in_hospital            97987 non-null int64\n",
      "medical_specialty           97987 non-null object\n",
      "num_lab_procedures          97987 non-null int64\n",
      "num_procedures              97987 non-null int64\n",
      "num_medications             97987 non-null int64\n",
      "number_outpatient           97987 non-null int64\n",
      "number_emergency            97987 non-null int64\n",
      "number_inpatient            97987 non-null int64\n",
      "number_diagnoses            97987 non-null int64\n",
      "max_glu_serum               97987 non-null object\n",
      "change                      97987 non-null int64\n",
      "diabetesMed                 97987 non-null int64\n",
      "readmitted                  97987 non-null object\n",
      "dtypes: int64(13), object(6)\n",
      "memory usage: 15.0+ MB\n"
     ]
    }
   ],
   "source": [
    "data.info()"
   ]
  },
  {
   "cell_type": "code",
   "execution_count": 53,
   "metadata": {},
   "outputs": [
    {
     "name": "stdout",
     "output_type": "stream",
     "text": [
      "<class 'pandas.core.frame.DataFrame'>\n",
      "Int64Index: 97987 entries, 0 to 101765\n",
      "Data columns (total 18 columns):\n",
      "race                        97987 non-null object\n",
      "gender                      97987 non-null object\n",
      "age                         97987 non-null object\n",
      "admission_type_id           97987 non-null int64\n",
      "discharge_disposition_id    97987 non-null int64\n",
      "admission_source_id         97987 non-null int64\n",
      "time_in_hospital            97987 non-null int64\n",
      "num_lab_procedures          97987 non-null int64\n",
      "num_procedures              97987 non-null int64\n",
      "num_medications             97987 non-null int64\n",
      "number_outpatient           97987 non-null int64\n",
      "number_emergency            97987 non-null int64\n",
      "number_inpatient            97987 non-null int64\n",
      "number_diagnoses            97987 non-null int64\n",
      "max_glu_serum               97987 non-null object\n",
      "change                      97987 non-null int64\n",
      "diabetesMed                 97987 non-null int64\n",
      "readmitted                  97987 non-null object\n",
      "dtypes: int64(13), object(5)\n",
      "memory usage: 14.2+ MB\n"
     ]
    }
   ],
   "source": [
    "data.drop(columns='medical_specialty', inplace=True)\n",
    "data.info()"
   ]
  },
  {
   "cell_type": "code",
   "execution_count": 54,
   "metadata": {
    "scrolled": true
   },
   "outputs": [
    {
     "name": "stdout",
     "output_type": "stream",
     "text": [
      "(97987,) (97987, 17)\n"
     ]
    }
   ],
   "source": [
    "target_a = data.readmitted\n",
    "features_a = data.drop(columns='readmitted')\n",
    "print(target_a.shape, features_a.shape)"
   ]
  },
  {
   "cell_type": "code",
   "execution_count": 55,
   "metadata": {},
   "outputs": [
    {
     "data": {
      "text/plain": [
       "NO     52402\n",
       ">30    34561\n",
       "<30    11024\n",
       "Name: readmitted, dtype: int64"
      ]
     },
     "execution_count": 55,
     "metadata": {},
     "output_type": "execute_result"
    }
   ],
   "source": [
    "target_a.value_counts()"
   ]
  },
  {
   "cell_type": "code",
   "execution_count": 56,
   "metadata": {},
   "outputs": [
    {
     "data": {
      "text/plain": [
       "0    52402\n",
       "1    45585\n",
       "Name: readmitted, dtype: int64"
      ]
     },
     "execution_count": 56,
     "metadata": {},
     "output_type": "execute_result"
    }
   ],
   "source": [
    "target_a = target_a.replace('NO', 0)\n",
    "target_a = target_a.replace('>30', 1)\n",
    "target_a = target_a.replace('<30', 1)\n",
    "target_a.value_counts()"
   ]
  },
  {
   "cell_type": "code",
   "execution_count": 57,
   "metadata": {},
   "outputs": [
    {
     "data": {
      "text/html": [
       "<div>\n",
       "<style scoped>\n",
       "    .dataframe tbody tr th:only-of-type {\n",
       "        vertical-align: middle;\n",
       "    }\n",
       "\n",
       "    .dataframe tbody tr th {\n",
       "        vertical-align: top;\n",
       "    }\n",
       "\n",
       "    .dataframe thead th {\n",
       "        text-align: right;\n",
       "    }\n",
       "</style>\n",
       "<table border=\"1\" class=\"dataframe\">\n",
       "  <thead>\n",
       "    <tr style=\"text-align: right;\">\n",
       "      <th></th>\n",
       "      <th>admission_type_id</th>\n",
       "      <th>discharge_disposition_id</th>\n",
       "      <th>admission_source_id</th>\n",
       "      <th>time_in_hospital</th>\n",
       "      <th>num_lab_procedures</th>\n",
       "      <th>num_procedures</th>\n",
       "      <th>num_medications</th>\n",
       "      <th>number_outpatient</th>\n",
       "      <th>number_emergency</th>\n",
       "      <th>number_inpatient</th>\n",
       "      <th>...</th>\n",
       "      <th>age_[40-50)</th>\n",
       "      <th>age_[50-60)</th>\n",
       "      <th>age_[60-70)</th>\n",
       "      <th>age_[70-80)</th>\n",
       "      <th>age_[80-90)</th>\n",
       "      <th>age_[90-100)</th>\n",
       "      <th>max_glu_serum_&gt;200</th>\n",
       "      <th>max_glu_serum_&gt;300</th>\n",
       "      <th>max_glu_serum_None</th>\n",
       "      <th>max_glu_serum_Norm</th>\n",
       "    </tr>\n",
       "  </thead>\n",
       "  <tbody>\n",
       "    <tr>\n",
       "      <th>0</th>\n",
       "      <td>6</td>\n",
       "      <td>25</td>\n",
       "      <td>1</td>\n",
       "      <td>1</td>\n",
       "      <td>41</td>\n",
       "      <td>0</td>\n",
       "      <td>1</td>\n",
       "      <td>0</td>\n",
       "      <td>0</td>\n",
       "      <td>0</td>\n",
       "      <td>...</td>\n",
       "      <td>0</td>\n",
       "      <td>0</td>\n",
       "      <td>0</td>\n",
       "      <td>0</td>\n",
       "      <td>0</td>\n",
       "      <td>0</td>\n",
       "      <td>0</td>\n",
       "      <td>0</td>\n",
       "      <td>1</td>\n",
       "      <td>0</td>\n",
       "    </tr>\n",
       "    <tr>\n",
       "      <th>1</th>\n",
       "      <td>1</td>\n",
       "      <td>1</td>\n",
       "      <td>7</td>\n",
       "      <td>3</td>\n",
       "      <td>59</td>\n",
       "      <td>0</td>\n",
       "      <td>18</td>\n",
       "      <td>0</td>\n",
       "      <td>0</td>\n",
       "      <td>0</td>\n",
       "      <td>...</td>\n",
       "      <td>0</td>\n",
       "      <td>0</td>\n",
       "      <td>0</td>\n",
       "      <td>0</td>\n",
       "      <td>0</td>\n",
       "      <td>0</td>\n",
       "      <td>0</td>\n",
       "      <td>0</td>\n",
       "      <td>1</td>\n",
       "      <td>0</td>\n",
       "    </tr>\n",
       "    <tr>\n",
       "      <th>2</th>\n",
       "      <td>1</td>\n",
       "      <td>1</td>\n",
       "      <td>7</td>\n",
       "      <td>2</td>\n",
       "      <td>11</td>\n",
       "      <td>5</td>\n",
       "      <td>13</td>\n",
       "      <td>2</td>\n",
       "      <td>0</td>\n",
       "      <td>1</td>\n",
       "      <td>...</td>\n",
       "      <td>0</td>\n",
       "      <td>0</td>\n",
       "      <td>0</td>\n",
       "      <td>0</td>\n",
       "      <td>0</td>\n",
       "      <td>0</td>\n",
       "      <td>0</td>\n",
       "      <td>0</td>\n",
       "      <td>1</td>\n",
       "      <td>0</td>\n",
       "    </tr>\n",
       "    <tr>\n",
       "      <th>3</th>\n",
       "      <td>1</td>\n",
       "      <td>1</td>\n",
       "      <td>7</td>\n",
       "      <td>2</td>\n",
       "      <td>44</td>\n",
       "      <td>1</td>\n",
       "      <td>16</td>\n",
       "      <td>0</td>\n",
       "      <td>0</td>\n",
       "      <td>0</td>\n",
       "      <td>...</td>\n",
       "      <td>0</td>\n",
       "      <td>0</td>\n",
       "      <td>0</td>\n",
       "      <td>0</td>\n",
       "      <td>0</td>\n",
       "      <td>0</td>\n",
       "      <td>0</td>\n",
       "      <td>0</td>\n",
       "      <td>1</td>\n",
       "      <td>0</td>\n",
       "    </tr>\n",
       "    <tr>\n",
       "      <th>4</th>\n",
       "      <td>1</td>\n",
       "      <td>1</td>\n",
       "      <td>7</td>\n",
       "      <td>1</td>\n",
       "      <td>51</td>\n",
       "      <td>0</td>\n",
       "      <td>8</td>\n",
       "      <td>0</td>\n",
       "      <td>0</td>\n",
       "      <td>0</td>\n",
       "      <td>...</td>\n",
       "      <td>1</td>\n",
       "      <td>0</td>\n",
       "      <td>0</td>\n",
       "      <td>0</td>\n",
       "      <td>0</td>\n",
       "      <td>0</td>\n",
       "      <td>0</td>\n",
       "      <td>0</td>\n",
       "      <td>1</td>\n",
       "      <td>0</td>\n",
       "    </tr>\n",
       "  </tbody>\n",
       "</table>\n",
       "<p>5 rows × 33 columns</p>\n",
       "</div>"
      ],
      "text/plain": [
       "   admission_type_id  discharge_disposition_id  admission_source_id  \\\n",
       "0                  6                        25                    1   \n",
       "1                  1                         1                    7   \n",
       "2                  1                         1                    7   \n",
       "3                  1                         1                    7   \n",
       "4                  1                         1                    7   \n",
       "\n",
       "   time_in_hospital  num_lab_procedures  num_procedures  num_medications  \\\n",
       "0                 1                  41               0                1   \n",
       "1                 3                  59               0               18   \n",
       "2                 2                  11               5               13   \n",
       "3                 2                  44               1               16   \n",
       "4                 1                  51               0                8   \n",
       "\n",
       "   number_outpatient  number_emergency  number_inpatient         ...          \\\n",
       "0                  0                 0                 0         ...           \n",
       "1                  0                 0                 0         ...           \n",
       "2                  2                 0                 1         ...           \n",
       "3                  0                 0                 0         ...           \n",
       "4                  0                 0                 0         ...           \n",
       "\n",
       "   age_[40-50)  age_[50-60)  age_[60-70)  age_[70-80)  age_[80-90)  \\\n",
       "0            0            0            0            0            0   \n",
       "1            0            0            0            0            0   \n",
       "2            0            0            0            0            0   \n",
       "3            0            0            0            0            0   \n",
       "4            1            0            0            0            0   \n",
       "\n",
       "   age_[90-100)  max_glu_serum_>200  max_glu_serum_>300  max_glu_serum_None  \\\n",
       "0             0                   0                   0                   1   \n",
       "1             0                   0                   0                   1   \n",
       "2             0                   0                   0                   1   \n",
       "3             0                   0                   0                   1   \n",
       "4             0                   0                   0                   1   \n",
       "\n",
       "   max_glu_serum_Norm  \n",
       "0                   0  \n",
       "1                   0  \n",
       "2                   0  \n",
       "3                   0  \n",
       "4                   0  \n",
       "\n",
       "[5 rows x 33 columns]"
      ]
     },
     "execution_count": 57,
     "metadata": {},
     "output_type": "execute_result"
    }
   ],
   "source": [
    "features_a = pd.get_dummies(features_a)\n",
    "features_a.head()"
   ]
  },
  {
   "cell_type": "code",
   "execution_count": 58,
   "metadata": {},
   "outputs": [],
   "source": [
    "scaler = StandardScaler()\n",
    "scaled_features_a = scaler.fit_transform(features_a)"
   ]
  },
  {
   "cell_type": "code",
   "execution_count": 59,
   "metadata": {},
   "outputs": [
    {
     "data": {
      "text/html": [
       "<div>\n",
       "<style scoped>\n",
       "    .dataframe tbody tr th:only-of-type {\n",
       "        vertical-align: middle;\n",
       "    }\n",
       "\n",
       "    .dataframe tbody tr th {\n",
       "        vertical-align: top;\n",
       "    }\n",
       "\n",
       "    .dataframe thead th {\n",
       "        text-align: right;\n",
       "    }\n",
       "</style>\n",
       "<table border=\"1\" class=\"dataframe\">\n",
       "  <thead>\n",
       "    <tr style=\"text-align: right;\">\n",
       "      <th></th>\n",
       "      <th>admission_type_id</th>\n",
       "      <th>discharge_disposition_id</th>\n",
       "      <th>admission_source_id</th>\n",
       "      <th>time_in_hospital</th>\n",
       "      <th>num_lab_procedures</th>\n",
       "      <th>num_procedures</th>\n",
       "      <th>num_medications</th>\n",
       "      <th>number_outpatient</th>\n",
       "      <th>number_emergency</th>\n",
       "      <th>number_inpatient</th>\n",
       "      <th>...</th>\n",
       "      <th>age_[40-50)</th>\n",
       "      <th>age_[50-60)</th>\n",
       "      <th>age_[60-70)</th>\n",
       "      <th>age_[70-80)</th>\n",
       "      <th>age_[80-90)</th>\n",
       "      <th>age_[90-100)</th>\n",
       "      <th>max_glu_serum_&gt;200</th>\n",
       "      <th>max_glu_serum_&gt;300</th>\n",
       "      <th>max_glu_serum_None</th>\n",
       "      <th>max_glu_serum_Norm</th>\n",
       "    </tr>\n",
       "  </thead>\n",
       "  <tbody>\n",
       "    <tr>\n",
       "      <th>0</th>\n",
       "      <td>2.740623</td>\n",
       "      <td>4.000630</td>\n",
       "      <td>-1.170204</td>\n",
       "      <td>-1.138710</td>\n",
       "      <td>-0.105086</td>\n",
       "      <td>-0.78615</td>\n",
       "      <td>-1.853242</td>\n",
       "      <td>-0.292645</td>\n",
       "      <td>-0.214059</td>\n",
       "      <td>-0.506680</td>\n",
       "      <td>...</td>\n",
       "      <td>-0.323960</td>\n",
       "      <td>-0.451394</td>\n",
       "      <td>-0.531351</td>\n",
       "      <td>-0.587505</td>\n",
       "      <td>-0.452442</td>\n",
       "      <td>-0.168331</td>\n",
       "      <td>-0.122256</td>\n",
       "      <td>-0.113073</td>\n",
       "      <td>0.237213</td>\n",
       "      <td>-0.163131</td>\n",
       "    </tr>\n",
       "    <tr>\n",
       "      <th>1</th>\n",
       "      <td>-0.707094</td>\n",
       "      <td>-0.516886</td>\n",
       "      <td>0.301310</td>\n",
       "      <td>-0.468947</td>\n",
       "      <td>0.810039</td>\n",
       "      <td>-0.78615</td>\n",
       "      <td>0.241579</td>\n",
       "      <td>-0.292645</td>\n",
       "      <td>-0.214059</td>\n",
       "      <td>-0.506680</td>\n",
       "      <td>...</td>\n",
       "      <td>-0.323960</td>\n",
       "      <td>-0.451394</td>\n",
       "      <td>-0.531351</td>\n",
       "      <td>-0.587505</td>\n",
       "      <td>-0.452442</td>\n",
       "      <td>-0.168331</td>\n",
       "      <td>-0.122256</td>\n",
       "      <td>-0.113073</td>\n",
       "      <td>0.237213</td>\n",
       "      <td>-0.163131</td>\n",
       "    </tr>\n",
       "    <tr>\n",
       "      <th>2</th>\n",
       "      <td>-0.707094</td>\n",
       "      <td>-0.516886</td>\n",
       "      <td>0.301310</td>\n",
       "      <td>-0.803828</td>\n",
       "      <td>-1.630296</td>\n",
       "      <td>2.15245</td>\n",
       "      <td>-0.374545</td>\n",
       "      <td>1.267497</td>\n",
       "      <td>-0.214059</td>\n",
       "      <td>0.277649</td>\n",
       "      <td>...</td>\n",
       "      <td>-0.323960</td>\n",
       "      <td>-0.451394</td>\n",
       "      <td>-0.531351</td>\n",
       "      <td>-0.587505</td>\n",
       "      <td>-0.452442</td>\n",
       "      <td>-0.168331</td>\n",
       "      <td>-0.122256</td>\n",
       "      <td>-0.113073</td>\n",
       "      <td>0.237213</td>\n",
       "      <td>-0.163131</td>\n",
       "    </tr>\n",
       "    <tr>\n",
       "      <th>3</th>\n",
       "      <td>-0.707094</td>\n",
       "      <td>-0.516886</td>\n",
       "      <td>0.301310</td>\n",
       "      <td>-0.803828</td>\n",
       "      <td>0.047435</td>\n",
       "      <td>-0.19843</td>\n",
       "      <td>-0.004871</td>\n",
       "      <td>-0.292645</td>\n",
       "      <td>-0.214059</td>\n",
       "      <td>-0.506680</td>\n",
       "      <td>...</td>\n",
       "      <td>-0.323960</td>\n",
       "      <td>-0.451394</td>\n",
       "      <td>-0.531351</td>\n",
       "      <td>-0.587505</td>\n",
       "      <td>-0.452442</td>\n",
       "      <td>-0.168331</td>\n",
       "      <td>-0.122256</td>\n",
       "      <td>-0.113073</td>\n",
       "      <td>0.237213</td>\n",
       "      <td>-0.163131</td>\n",
       "    </tr>\n",
       "    <tr>\n",
       "      <th>4</th>\n",
       "      <td>-0.707094</td>\n",
       "      <td>-0.516886</td>\n",
       "      <td>0.301310</td>\n",
       "      <td>-1.138710</td>\n",
       "      <td>0.403317</td>\n",
       "      <td>-0.78615</td>\n",
       "      <td>-0.990669</td>\n",
       "      <td>-0.292645</td>\n",
       "      <td>-0.214059</td>\n",
       "      <td>-0.506680</td>\n",
       "      <td>...</td>\n",
       "      <td>3.086796</td>\n",
       "      <td>-0.451394</td>\n",
       "      <td>-0.531351</td>\n",
       "      <td>-0.587505</td>\n",
       "      <td>-0.452442</td>\n",
       "      <td>-0.168331</td>\n",
       "      <td>-0.122256</td>\n",
       "      <td>-0.113073</td>\n",
       "      <td>0.237213</td>\n",
       "      <td>-0.163131</td>\n",
       "    </tr>\n",
       "  </tbody>\n",
       "</table>\n",
       "<p>5 rows × 33 columns</p>\n",
       "</div>"
      ],
      "text/plain": [
       "   admission_type_id  discharge_disposition_id  admission_source_id  \\\n",
       "0           2.740623                  4.000630            -1.170204   \n",
       "1          -0.707094                 -0.516886             0.301310   \n",
       "2          -0.707094                 -0.516886             0.301310   \n",
       "3          -0.707094                 -0.516886             0.301310   \n",
       "4          -0.707094                 -0.516886             0.301310   \n",
       "\n",
       "   time_in_hospital  num_lab_procedures  num_procedures  num_medications  \\\n",
       "0         -1.138710           -0.105086        -0.78615        -1.853242   \n",
       "1         -0.468947            0.810039        -0.78615         0.241579   \n",
       "2         -0.803828           -1.630296         2.15245        -0.374545   \n",
       "3         -0.803828            0.047435        -0.19843        -0.004871   \n",
       "4         -1.138710            0.403317        -0.78615        -0.990669   \n",
       "\n",
       "   number_outpatient  number_emergency  number_inpatient         ...          \\\n",
       "0          -0.292645         -0.214059         -0.506680         ...           \n",
       "1          -0.292645         -0.214059         -0.506680         ...           \n",
       "2           1.267497         -0.214059          0.277649         ...           \n",
       "3          -0.292645         -0.214059         -0.506680         ...           \n",
       "4          -0.292645         -0.214059         -0.506680         ...           \n",
       "\n",
       "   age_[40-50)  age_[50-60)  age_[60-70)  age_[70-80)  age_[80-90)  \\\n",
       "0    -0.323960    -0.451394    -0.531351    -0.587505    -0.452442   \n",
       "1    -0.323960    -0.451394    -0.531351    -0.587505    -0.452442   \n",
       "2    -0.323960    -0.451394    -0.531351    -0.587505    -0.452442   \n",
       "3    -0.323960    -0.451394    -0.531351    -0.587505    -0.452442   \n",
       "4     3.086796    -0.451394    -0.531351    -0.587505    -0.452442   \n",
       "\n",
       "   age_[90-100)  max_glu_serum_>200  max_glu_serum_>300  max_glu_serum_None  \\\n",
       "0     -0.168331           -0.122256           -0.113073            0.237213   \n",
       "1     -0.168331           -0.122256           -0.113073            0.237213   \n",
       "2     -0.168331           -0.122256           -0.113073            0.237213   \n",
       "3     -0.168331           -0.122256           -0.113073            0.237213   \n",
       "4     -0.168331           -0.122256           -0.113073            0.237213   \n",
       "\n",
       "   max_glu_serum_Norm  \n",
       "0           -0.163131  \n",
       "1           -0.163131  \n",
       "2           -0.163131  \n",
       "3           -0.163131  \n",
       "4           -0.163131  \n",
       "\n",
       "[5 rows x 33 columns]"
      ]
     },
     "execution_count": 59,
     "metadata": {},
     "output_type": "execute_result"
    }
   ],
   "source": [
    "df1 = pd.DataFrame(scaled_features_a, index=features_a.index, columns=features_a.columns)\n",
    "df1.head()"
   ]
  },
  {
   "cell_type": "code",
   "execution_count": 60,
   "metadata": {
    "scrolled": true
   },
   "outputs": [
    {
     "name": "stdout",
     "output_type": "stream",
     "text": [
      "0    52402\n",
      "1    45585\n",
      "Name: readmitted, dtype: int64\n"
     ]
    },
    {
     "data": {
      "image/png": "[encoded data removed]",
      "text/plain": [
       "<Figure size 432x288 with 1 Axes>"
      ]
     },
     "metadata": {
      "needs_background": "light"
     },
     "output_type": "display_data"
    }
   ],
   "source": [
    "print(target_a.value_counts())\n",
    "target_a.value_counts().plot(kind='bar')\n",
    "plt.title('Readmitted Patients')\n",
    "plt.xlabel('Length of Time to Readmittance')\n",
    "plt.xticks(rotation='horizontal')\n",
    "plt.ylabel('Number of Patients');"
   ]
  },
  {
   "cell_type": "code",
   "execution_count": 61,
   "metadata": {},
   "outputs": [],
   "source": [
    "X1 = features_a\n",
    "y1 = target_a"
   ]
  },
  {
   "cell_type": "code",
   "execution_count": 62,
   "metadata": {},
   "outputs": [],
   "source": [
    "X1_train, X1_test, y1_train, y1_test = train_test_split(X1, y1, random_state=25)"
   ]
  },
  {
   "cell_type": "code",
   "execution_count": 63,
   "metadata": {},
   "outputs": [
    {
     "name": "stdout",
     "output_type": "stream",
     "text": [
      "(73490, 33) (24497, 33)\n",
      "-------------------------\n",
      "(73490,) (24497,)\n"
     ]
    }
   ],
   "source": [
    "print(X1_train.shape, X1_test.shape)\n",
    "print('-'*25)\n",
    "print(y1_train.shape, y1_test.shape)"
   ]
  },
  {
   "cell_type": "code",
   "execution_count": 64,
   "metadata": {
    "scrolled": false
   },
   "outputs": [
    {
     "data": {
      "text/plain": [
       "DecisionTreeClassifier(class_weight=None, criterion='gini', max_depth=None,\n",
       "            max_features=None, max_leaf_nodes=None,\n",
       "            min_impurity_decrease=0.0, min_impurity_split=None,\n",
       "            min_samples_leaf=1, min_samples_split=2,\n",
       "            min_weight_fraction_leaf=0.0, presort=False, random_state=25,\n",
       "            splitter='best')"
      ]
     },
     "execution_count": 64,
     "metadata": {},
     "output_type": "execute_result"
    }
   ],
   "source": [
    "# Decision Tree Classifier\n",
    "clf1 = DecisionTreeClassifier(random_state=25)\n",
    "clf1.fit(X1_train, y1_train)"
   ]
  },
  {
   "cell_type": "code",
   "execution_count": 65,
   "metadata": {},
   "outputs": [],
   "source": [
    "y1_preds = clf1.predict(X1_test)"
   ]
  },
  {
   "cell_type": "code",
   "execution_count": 66,
   "metadata": {
    "scrolled": true
   },
   "outputs": [
    {
     "data": {
      "text/plain": [
       "0.5657427440094706"
      ]
     },
     "execution_count": 66,
     "metadata": {},
     "output_type": "execute_result"
    }
   ],
   "source": [
    "accuracy_score(y1_test, y1_preds)"
   ]
  },
  {
   "cell_type": "code",
   "execution_count": 67,
   "metadata": {},
   "outputs": [
    {
     "data": {
      "text/plain": [
       "0.5280279842588544"
      ]
     },
     "execution_count": 67,
     "metadata": {},
     "output_type": "execute_result"
    }
   ],
   "source": [
    "recall_score(y1_test, y1_preds)"
   ]
  },
  {
   "cell_type": "code",
   "execution_count": 68,
   "metadata": {
    "scrolled": true
   },
   "outputs": [
    {
     "name": "stdout",
     "output_type": "stream",
     "text": [
      "[[7821 5241]\n",
      " [5397 6038]]\n",
      "              precision    recall  f1-score   support\n",
      "\n",
      "           0       0.59      0.60      0.60     13062\n",
      "           1       0.54      0.53      0.53     11435\n",
      "\n",
      "   micro avg       0.57      0.57      0.57     24497\n",
      "   macro avg       0.56      0.56      0.56     24497\n",
      "weighted avg       0.57      0.57      0.57     24497\n",
      "\n"
     ]
    }
   ],
   "source": [
    "print(confusion_matrix(y1_test, y1_preds))\n",
    "print(classification_report(y1_test, y1_preds))"
   ]
  },
  {
   "cell_type": "code",
   "execution_count": 69,
   "metadata": {},
   "outputs": [],
   "source": [
    "def plot_feature_importances1(model, figsize=(12,12)):\n",
    "    \n",
    "    \"\"\"Visualize feature importance of selected model as determined by feature_importances_ method.\"\"\"\n",
    "    \n",
    "    n_features = X1_train.shape[1]\n",
    "    plt.figure(figsize=figsize)\n",
    "    plt.barh(range(n_features), model.feature_importances_, align='center') \n",
    "    plt.yticks(np.arange(n_features), X1_train.columns.values) \n",
    "    plt.xlabel(\"Feature Importance\")\n",
    "    plt.ylabel(\"Feature\")"
   ]
  },
  {
   "cell_type": "code",
   "execution_count": 70,
   "metadata": {},
   "outputs": [
    {
     "data": {
      "image/png": "[encoded data removed]",
      "text/plain": [
       "<Figure size 864x864 with 1 Axes>"
      ]
     },
     "metadata": {
      "needs_background": "light"
     },
     "output_type": "display_data"
    }
   ],
   "source": [
    "plot_feature_importances1(clf1)"
   ]
  },
  {
   "cell_type": "code",
   "execution_count": 71,
   "metadata": {},
   "outputs": [
    {
     "data": {
      "image/png": "[encoded data removed]",
      "text/plain": [
       "<Figure size 720x576 with 1 Axes>"
      ]
     },
     "metadata": {
      "needs_background": "light"
     },
     "output_type": "display_data"
    }
   ],
   "source": [
    "# # Visualize effect of different max_depths on AUC scores\n",
    "\n",
    "# max_depths = np.linspace(1,34,34,endpoint=True)\n",
    "# train_auc = []\n",
    "# test_auc = []\n",
    "\n",
    "# for depth in max_depths:\n",
    "    \n",
    "#     clf = RandomForestClassifier(max_depth=depth)\n",
    "#     clf.fit(X1_train, y1_train)\n",
    "#     train_pred = clf.predict(X1_train)\n",
    "#     fpr, tpr, thresh = roc_curve(y1_train, train_pred)\n",
    "#     roc_auc = auc(fpr, tpr)\n",
    "#     train_auc.append(roc_auc)\n",
    "    \n",
    "#     test_pred = clf.predict(X1_test)\n",
    "#     fpr, tpr, thresh = roc_curve(y1_test, test_pred)\n",
    "#     roc_auc = auc(fpr, tpr)\n",
    "#     test_auc.append(roc_auc)\n",
    "\n",
    "# plt.figure(figsize=(10,8))\n",
    "# plt.plot(max_depths, train_auc, label='Train AUC')\n",
    "# plt.plot(max_depths, test_auc, label='Test AUC')\n",
    "# plt.xlabel('Tree Depth')\n",
    "# plt.ylabel('AUC Scores')\n",
    "# plt.legend(loc='best')\n",
    "# plt.show();"
   ]
  },
  {
   "cell_type": "markdown",
   "metadata": {},
   "source": [
    "# Drop Information with Low Feature Importance"
   ]
  },
  {
   "cell_type": "code",
   "execution_count": 71,
   "metadata": {},
   "outputs": [
    {
     "name": "stdout",
     "output_type": "stream",
     "text": [
      "<class 'pandas.core.frame.DataFrame'>\n",
      "Int64Index: 97987 entries, 0 to 101765\n",
      "Data columns (total 18 columns):\n",
      "race                        97987 non-null object\n",
      "gender                      97987 non-null object\n",
      "age                         97987 non-null object\n",
      "admission_type_id           97987 non-null int64\n",
      "discharge_disposition_id    97987 non-null int64\n",
      "admission_source_id         97987 non-null int64\n",
      "time_in_hospital            97987 non-null int64\n",
      "num_lab_procedures          97987 non-null int64\n",
      "num_procedures              97987 non-null int64\n",
      "num_medications             97987 non-null int64\n",
      "number_outpatient           97987 non-null int64\n",
      "number_emergency            97987 non-null int64\n",
      "number_inpatient            97987 non-null int64\n",
      "number_diagnoses            97987 non-null int64\n",
      "max_glu_serum               97987 non-null object\n",
      "change                      97987 non-null int64\n",
      "diabetesMed                 97987 non-null int64\n",
      "readmitted                  97987 non-null object\n",
      "dtypes: int64(13), object(5)\n",
      "memory usage: 14.2+ MB\n"
     ]
    }
   ],
   "source": [
    "data.info()"
   ]
  },
  {
   "cell_type": "code",
   "execution_count": 72,
   "metadata": {
    "scrolled": true
   },
   "outputs": [
    {
     "name": "stdout",
     "output_type": "stream",
     "text": [
      "<class 'pandas.core.frame.DataFrame'>\n",
      "Int64Index: 97987 entries, 0 to 101765\n",
      "Data columns (total 14 columns):\n",
      "race                        97987 non-null object\n",
      "gender                      97987 non-null object\n",
      "age                         97987 non-null object\n",
      "admission_type_id           97987 non-null int64\n",
      "discharge_disposition_id    97987 non-null int64\n",
      "time_in_hospital            97987 non-null int64\n",
      "num_lab_procedures          97987 non-null int64\n",
      "num_procedures              97987 non-null int64\n",
      "num_medications             97987 non-null int64\n",
      "number_inpatient            97987 non-null int64\n",
      "number_diagnoses            97987 non-null int64\n",
      "change                      97987 non-null int64\n",
      "diabetesMed                 97987 non-null int64\n",
      "readmitted                  97987 non-null object\n",
      "dtypes: int64(10), object(4)\n",
      "memory usage: 11.2+ MB\n"
     ]
    }
   ],
   "source": [
    "data.drop(columns=['max_glu_serum', 'admission_source_id', 'number_outpatient', 'number_emergency'], inplace=True)\n",
    "data.info()"
   ]
  },
  {
   "cell_type": "code",
   "execution_count": 73,
   "metadata": {},
   "outputs": [
    {
     "data": {
      "image/png": "[encoded data removed]",
      "text/plain": [
       "<Figure size 720x720 with 2 Axes>"
      ]
     },
     "metadata": {
      "needs_background": "light"
     },
     "output_type": "display_data"
    }
   ],
   "source": [
    "plt.figure(figsize=(10,10))\n",
    "sns.heatmap(data.corr());"
   ]
  },
  {
   "cell_type": "code",
   "execution_count": 74,
   "metadata": {
    "scrolled": true
   },
   "outputs": [
    {
     "name": "stdout",
     "output_type": "stream",
     "text": [
      "(97987,) (97987, 13)\n"
     ]
    }
   ],
   "source": [
    "target_b = data.readmitted\n",
    "features_b = data.drop(columns='readmitted')\n",
    "print(target_b.shape, features_b.shape)"
   ]
  },
  {
   "cell_type": "code",
   "execution_count": 75,
   "metadata": {},
   "outputs": [
    {
     "data": {
      "text/plain": [
       "NO     52402\n",
       ">30    34561\n",
       "<30    11024\n",
       "Name: readmitted, dtype: int64"
      ]
     },
     "execution_count": 75,
     "metadata": {},
     "output_type": "execute_result"
    }
   ],
   "source": [
    "target_b.value_counts()"
   ]
  },
  {
   "cell_type": "code",
   "execution_count": 76,
   "metadata": {},
   "outputs": [
    {
     "data": {
      "text/plain": [
       "0    52402\n",
       "1    45585\n",
       "Name: readmitted, dtype: int64"
      ]
     },
     "execution_count": 76,
     "metadata": {},
     "output_type": "execute_result"
    }
   ],
   "source": [
    "target_b = target_b.replace('NO', 0)\n",
    "target_b = target_b.replace('>30', 1)\n",
    "target_b = target_b.replace('<30', 1)\n",
    "target_b.value_counts()"
   ]
  },
  {
   "cell_type": "code",
   "execution_count": 77,
   "metadata": {},
   "outputs": [
    {
     "data": {
      "text/html": [
       "<div>\n",
       "<style scoped>\n",
       "    .dataframe tbody tr th:only-of-type {\n",
       "        vertical-align: middle;\n",
       "    }\n",
       "\n",
       "    .dataframe tbody tr th {\n",
       "        vertical-align: top;\n",
       "    }\n",
       "\n",
       "    .dataframe thead th {\n",
       "        text-align: right;\n",
       "    }\n",
       "</style>\n",
       "<table border=\"1\" class=\"dataframe\">\n",
       "  <thead>\n",
       "    <tr style=\"text-align: right;\">\n",
       "      <th></th>\n",
       "      <th>admission_type_id</th>\n",
       "      <th>discharge_disposition_id</th>\n",
       "      <th>time_in_hospital</th>\n",
       "      <th>num_lab_procedures</th>\n",
       "      <th>num_procedures</th>\n",
       "      <th>num_medications</th>\n",
       "      <th>number_inpatient</th>\n",
       "      <th>number_diagnoses</th>\n",
       "      <th>change</th>\n",
       "      <th>diabetesMed</th>\n",
       "      <th>...</th>\n",
       "      <th>age_[0-10)</th>\n",
       "      <th>age_[10-20)</th>\n",
       "      <th>age_[20-30)</th>\n",
       "      <th>age_[30-40)</th>\n",
       "      <th>age_[40-50)</th>\n",
       "      <th>age_[50-60)</th>\n",
       "      <th>age_[60-70)</th>\n",
       "      <th>age_[70-80)</th>\n",
       "      <th>age_[80-90)</th>\n",
       "      <th>age_[90-100)</th>\n",
       "    </tr>\n",
       "  </thead>\n",
       "  <tbody>\n",
       "    <tr>\n",
       "      <th>0</th>\n",
       "      <td>6</td>\n",
       "      <td>25</td>\n",
       "      <td>1</td>\n",
       "      <td>41</td>\n",
       "      <td>0</td>\n",
       "      <td>1</td>\n",
       "      <td>0</td>\n",
       "      <td>1</td>\n",
       "      <td>0</td>\n",
       "      <td>0</td>\n",
       "      <td>...</td>\n",
       "      <td>1</td>\n",
       "      <td>0</td>\n",
       "      <td>0</td>\n",
       "      <td>0</td>\n",
       "      <td>0</td>\n",
       "      <td>0</td>\n",
       "      <td>0</td>\n",
       "      <td>0</td>\n",
       "      <td>0</td>\n",
       "      <td>0</td>\n",
       "    </tr>\n",
       "    <tr>\n",
       "      <th>1</th>\n",
       "      <td>1</td>\n",
       "      <td>1</td>\n",
       "      <td>3</td>\n",
       "      <td>59</td>\n",
       "      <td>0</td>\n",
       "      <td>18</td>\n",
       "      <td>0</td>\n",
       "      <td>9</td>\n",
       "      <td>1</td>\n",
       "      <td>1</td>\n",
       "      <td>...</td>\n",
       "      <td>0</td>\n",
       "      <td>1</td>\n",
       "      <td>0</td>\n",
       "      <td>0</td>\n",
       "      <td>0</td>\n",
       "      <td>0</td>\n",
       "      <td>0</td>\n",
       "      <td>0</td>\n",
       "      <td>0</td>\n",
       "      <td>0</td>\n",
       "    </tr>\n",
       "    <tr>\n",
       "      <th>2</th>\n",
       "      <td>1</td>\n",
       "      <td>1</td>\n",
       "      <td>2</td>\n",
       "      <td>11</td>\n",
       "      <td>5</td>\n",
       "      <td>13</td>\n",
       "      <td>1</td>\n",
       "      <td>6</td>\n",
       "      <td>0</td>\n",
       "      <td>1</td>\n",
       "      <td>...</td>\n",
       "      <td>0</td>\n",
       "      <td>0</td>\n",
       "      <td>1</td>\n",
       "      <td>0</td>\n",
       "      <td>0</td>\n",
       "      <td>0</td>\n",
       "      <td>0</td>\n",
       "      <td>0</td>\n",
       "      <td>0</td>\n",
       "      <td>0</td>\n",
       "    </tr>\n",
       "    <tr>\n",
       "      <th>3</th>\n",
       "      <td>1</td>\n",
       "      <td>1</td>\n",
       "      <td>2</td>\n",
       "      <td>44</td>\n",
       "      <td>1</td>\n",
       "      <td>16</td>\n",
       "      <td>0</td>\n",
       "      <td>7</td>\n",
       "      <td>1</td>\n",
       "      <td>1</td>\n",
       "      <td>...</td>\n",
       "      <td>0</td>\n",
       "      <td>0</td>\n",
       "      <td>0</td>\n",
       "      <td>1</td>\n",
       "      <td>0</td>\n",
       "      <td>0</td>\n",
       "      <td>0</td>\n",
       "      <td>0</td>\n",
       "      <td>0</td>\n",
       "      <td>0</td>\n",
       "    </tr>\n",
       "    <tr>\n",
       "      <th>4</th>\n",
       "      <td>1</td>\n",
       "      <td>1</td>\n",
       "      <td>1</td>\n",
       "      <td>51</td>\n",
       "      <td>0</td>\n",
       "      <td>8</td>\n",
       "      <td>0</td>\n",
       "      <td>5</td>\n",
       "      <td>1</td>\n",
       "      <td>1</td>\n",
       "      <td>...</td>\n",
       "      <td>0</td>\n",
       "      <td>0</td>\n",
       "      <td>0</td>\n",
       "      <td>0</td>\n",
       "      <td>1</td>\n",
       "      <td>0</td>\n",
       "      <td>0</td>\n",
       "      <td>0</td>\n",
       "      <td>0</td>\n",
       "      <td>0</td>\n",
       "    </tr>\n",
       "  </tbody>\n",
       "</table>\n",
       "<p>5 rows × 26 columns</p>\n",
       "</div>"
      ],
      "text/plain": [
       "   admission_type_id  discharge_disposition_id  time_in_hospital  \\\n",
       "0                  6                        25                 1   \n",
       "1                  1                         1                 3   \n",
       "2                  1                         1                 2   \n",
       "3                  1                         1                 2   \n",
       "4                  1                         1                 1   \n",
       "\n",
       "   num_lab_procedures  num_procedures  num_medications  number_inpatient  \\\n",
       "0                  41               0                1                 0   \n",
       "1                  59               0               18                 0   \n",
       "2                  11               5               13                 1   \n",
       "3                  44               1               16                 0   \n",
       "4                  51               0                8                 0   \n",
       "\n",
       "   number_diagnoses  change  diabetesMed      ...       age_[0-10)  \\\n",
       "0                 1       0            0      ...                1   \n",
       "1                 9       1            1      ...                0   \n",
       "2                 6       0            1      ...                0   \n",
       "3                 7       1            1      ...                0   \n",
       "4                 5       1            1      ...                0   \n",
       "\n",
       "   age_[10-20)  age_[20-30)  age_[30-40)  age_[40-50)  age_[50-60)  \\\n",
       "0            0            0            0            0            0   \n",
       "1            1            0            0            0            0   \n",
       "2            0            1            0            0            0   \n",
       "3            0            0            1            0            0   \n",
       "4            0            0            0            1            0   \n",
       "\n",
       "   age_[60-70)  age_[70-80)  age_[80-90)  age_[90-100)  \n",
       "0            0            0            0             0  \n",
       "1            0            0            0             0  \n",
       "2            0            0            0             0  \n",
       "3            0            0            0             0  \n",
       "4            0            0            0             0  \n",
       "\n",
       "[5 rows x 26 columns]"
      ]
     },
     "execution_count": 77,
     "metadata": {},
     "output_type": "execute_result"
    }
   ],
   "source": [
    "features_b = pd.get_dummies(features_b)\n",
    "features_b.head()"
   ]
  },
  {
   "cell_type": "code",
   "execution_count": 78,
   "metadata": {},
   "outputs": [],
   "source": [
    "scaler = StandardScaler()\n",
    "scaled_features_b = scaler.fit_transform(features_b)"
   ]
  },
  {
   "cell_type": "code",
   "execution_count": 79,
   "metadata": {},
   "outputs": [
    {
     "data": {
      "text/html": [
       "<div>\n",
       "<style scoped>\n",
       "    .dataframe tbody tr th:only-of-type {\n",
       "        vertical-align: middle;\n",
       "    }\n",
       "\n",
       "    .dataframe tbody tr th {\n",
       "        vertical-align: top;\n",
       "    }\n",
       "\n",
       "    .dataframe thead th {\n",
       "        text-align: right;\n",
       "    }\n",
       "</style>\n",
       "<table border=\"1\" class=\"dataframe\">\n",
       "  <thead>\n",
       "    <tr style=\"text-align: right;\">\n",
       "      <th></th>\n",
       "      <th>admission_type_id</th>\n",
       "      <th>discharge_disposition_id</th>\n",
       "      <th>time_in_hospital</th>\n",
       "      <th>num_lab_procedures</th>\n",
       "      <th>num_procedures</th>\n",
       "      <th>num_medications</th>\n",
       "      <th>number_inpatient</th>\n",
       "      <th>number_diagnoses</th>\n",
       "      <th>change</th>\n",
       "      <th>diabetesMed</th>\n",
       "      <th>...</th>\n",
       "      <th>age_[0-10)</th>\n",
       "      <th>age_[10-20)</th>\n",
       "      <th>age_[20-30)</th>\n",
       "      <th>age_[30-40)</th>\n",
       "      <th>age_[40-50)</th>\n",
       "      <th>age_[50-60)</th>\n",
       "      <th>age_[60-70)</th>\n",
       "      <th>age_[70-80)</th>\n",
       "      <th>age_[80-90)</th>\n",
       "      <th>age_[90-100)</th>\n",
       "    </tr>\n",
       "  </thead>\n",
       "  <tbody>\n",
       "    <tr>\n",
       "      <th>0</th>\n",
       "      <td>2.740623</td>\n",
       "      <td>4.000630</td>\n",
       "      <td>-1.138710</td>\n",
       "      <td>-0.105086</td>\n",
       "      <td>-0.78615</td>\n",
       "      <td>-1.853242</td>\n",
       "      <td>-0.506680</td>\n",
       "      <td>-3.348557</td>\n",
       "      <td>-0.923489</td>\n",
       "      <td>-1.820477</td>\n",
       "      <td>...</td>\n",
       "      <td>25.042400</td>\n",
       "      <td>-0.083099</td>\n",
       "      <td>-0.128184</td>\n",
       "      <td>-0.195719</td>\n",
       "      <td>-0.323960</td>\n",
       "      <td>-0.451394</td>\n",
       "      <td>-0.531351</td>\n",
       "      <td>-0.587505</td>\n",
       "      <td>-0.452442</td>\n",
       "      <td>-0.168331</td>\n",
       "    </tr>\n",
       "    <tr>\n",
       "      <th>1</th>\n",
       "      <td>-0.707094</td>\n",
       "      <td>-0.516886</td>\n",
       "      <td>-0.468947</td>\n",
       "      <td>0.810039</td>\n",
       "      <td>-0.78615</td>\n",
       "      <td>0.241579</td>\n",
       "      <td>-0.506680</td>\n",
       "      <td>0.809140</td>\n",
       "      <td>1.082850</td>\n",
       "      <td>0.549307</td>\n",
       "      <td>...</td>\n",
       "      <td>-0.039932</td>\n",
       "      <td>12.033868</td>\n",
       "      <td>-0.128184</td>\n",
       "      <td>-0.195719</td>\n",
       "      <td>-0.323960</td>\n",
       "      <td>-0.451394</td>\n",
       "      <td>-0.531351</td>\n",
       "      <td>-0.587505</td>\n",
       "      <td>-0.452442</td>\n",
       "      <td>-0.168331</td>\n",
       "    </tr>\n",
       "    <tr>\n",
       "      <th>2</th>\n",
       "      <td>-0.707094</td>\n",
       "      <td>-0.516886</td>\n",
       "      <td>-0.803828</td>\n",
       "      <td>-1.630296</td>\n",
       "      <td>2.15245</td>\n",
       "      <td>-0.374545</td>\n",
       "      <td>0.277649</td>\n",
       "      <td>-0.749996</td>\n",
       "      <td>-0.923489</td>\n",
       "      <td>0.549307</td>\n",
       "      <td>...</td>\n",
       "      <td>-0.039932</td>\n",
       "      <td>-0.083099</td>\n",
       "      <td>7.801313</td>\n",
       "      <td>-0.195719</td>\n",
       "      <td>-0.323960</td>\n",
       "      <td>-0.451394</td>\n",
       "      <td>-0.531351</td>\n",
       "      <td>-0.587505</td>\n",
       "      <td>-0.452442</td>\n",
       "      <td>-0.168331</td>\n",
       "    </tr>\n",
       "    <tr>\n",
       "      <th>3</th>\n",
       "      <td>-0.707094</td>\n",
       "      <td>-0.516886</td>\n",
       "      <td>-0.803828</td>\n",
       "      <td>0.047435</td>\n",
       "      <td>-0.19843</td>\n",
       "      <td>-0.004871</td>\n",
       "      <td>-0.506680</td>\n",
       "      <td>-0.230284</td>\n",
       "      <td>1.082850</td>\n",
       "      <td>0.549307</td>\n",
       "      <td>...</td>\n",
       "      <td>-0.039932</td>\n",
       "      <td>-0.083099</td>\n",
       "      <td>-0.128184</td>\n",
       "      <td>5.109371</td>\n",
       "      <td>-0.323960</td>\n",
       "      <td>-0.451394</td>\n",
       "      <td>-0.531351</td>\n",
       "      <td>-0.587505</td>\n",
       "      <td>-0.452442</td>\n",
       "      <td>-0.168331</td>\n",
       "    </tr>\n",
       "    <tr>\n",
       "      <th>4</th>\n",
       "      <td>-0.707094</td>\n",
       "      <td>-0.516886</td>\n",
       "      <td>-1.138710</td>\n",
       "      <td>0.403317</td>\n",
       "      <td>-0.78615</td>\n",
       "      <td>-0.990669</td>\n",
       "      <td>-0.506680</td>\n",
       "      <td>-1.269709</td>\n",
       "      <td>1.082850</td>\n",
       "      <td>0.549307</td>\n",
       "      <td>...</td>\n",
       "      <td>-0.039932</td>\n",
       "      <td>-0.083099</td>\n",
       "      <td>-0.128184</td>\n",
       "      <td>-0.195719</td>\n",
       "      <td>3.086796</td>\n",
       "      <td>-0.451394</td>\n",
       "      <td>-0.531351</td>\n",
       "      <td>-0.587505</td>\n",
       "      <td>-0.452442</td>\n",
       "      <td>-0.168331</td>\n",
       "    </tr>\n",
       "  </tbody>\n",
       "</table>\n",
       "<p>5 rows × 26 columns</p>\n",
       "</div>"
      ],
      "text/plain": [
       "   admission_type_id  discharge_disposition_id  time_in_hospital  \\\n",
       "0           2.740623                  4.000630         -1.138710   \n",
       "1          -0.707094                 -0.516886         -0.468947   \n",
       "2          -0.707094                 -0.516886         -0.803828   \n",
       "3          -0.707094                 -0.516886         -0.803828   \n",
       "4          -0.707094                 -0.516886         -1.138710   \n",
       "\n",
       "   num_lab_procedures  num_procedures  num_medications  number_inpatient  \\\n",
       "0           -0.105086        -0.78615        -1.853242         -0.506680   \n",
       "1            0.810039        -0.78615         0.241579         -0.506680   \n",
       "2           -1.630296         2.15245        -0.374545          0.277649   \n",
       "3            0.047435        -0.19843        -0.004871         -0.506680   \n",
       "4            0.403317        -0.78615        -0.990669         -0.506680   \n",
       "\n",
       "   number_diagnoses    change  diabetesMed      ...       age_[0-10)  \\\n",
       "0         -3.348557 -0.923489    -1.820477      ...        25.042400   \n",
       "1          0.809140  1.082850     0.549307      ...        -0.039932   \n",
       "2         -0.749996 -0.923489     0.549307      ...        -0.039932   \n",
       "3         -0.230284  1.082850     0.549307      ...        -0.039932   \n",
       "4         -1.269709  1.082850     0.549307      ...        -0.039932   \n",
       "\n",
       "   age_[10-20)  age_[20-30)  age_[30-40)  age_[40-50)  age_[50-60)  \\\n",
       "0    -0.083099    -0.128184    -0.195719    -0.323960    -0.451394   \n",
       "1    12.033868    -0.128184    -0.195719    -0.323960    -0.451394   \n",
       "2    -0.083099     7.801313    -0.195719    -0.323960    -0.451394   \n",
       "3    -0.083099    -0.128184     5.109371    -0.323960    -0.451394   \n",
       "4    -0.083099    -0.128184    -0.195719     3.086796    -0.451394   \n",
       "\n",
       "   age_[60-70)  age_[70-80)  age_[80-90)  age_[90-100)  \n",
       "0    -0.531351    -0.587505    -0.452442     -0.168331  \n",
       "1    -0.531351    -0.587505    -0.452442     -0.168331  \n",
       "2    -0.531351    -0.587505    -0.452442     -0.168331  \n",
       "3    -0.531351    -0.587505    -0.452442     -0.168331  \n",
       "4    -0.531351    -0.587505    -0.452442     -0.168331  \n",
       "\n",
       "[5 rows x 26 columns]"
      ]
     },
     "execution_count": 79,
     "metadata": {},
     "output_type": "execute_result"
    }
   ],
   "source": [
    "df2 = pd.DataFrame(scaled_features_b, index=features_b.index, columns=features_b.columns)\n",
    "df2.head()"
   ]
  },
  {
   "cell_type": "code",
   "execution_count": 80,
   "metadata": {},
   "outputs": [],
   "source": [
    "features_b = df2"
   ]
  },
  {
   "cell_type": "code",
   "execution_count": 81,
   "metadata": {
    "scrolled": true
   },
   "outputs": [
    {
     "name": "stdout",
     "output_type": "stream",
     "text": [
      "0    52402\n",
      "1    45585\n",
      "Name: readmitted, dtype: int64\n"
     ]
    },
    {
     "data": {
      "image/png": "[encoded data removed]",
      "text/plain": [
       "<Figure size 432x288 with 1 Axes>"
      ]
     },
     "metadata": {
      "needs_background": "light"
     },
     "output_type": "display_data"
    }
   ],
   "source": [
    "print(target_b.value_counts())\n",
    "target_b.value_counts().plot(kind='bar')\n",
    "plt.title('Readmitted Patients')\n",
    "plt.xlabel('Length of Time to Readmittance')\n",
    "plt.xticks(rotation='horizontal')\n",
    "plt.ylabel('Number of Patients');"
   ]
  },
  {
   "cell_type": "code",
   "execution_count": 82,
   "metadata": {},
   "outputs": [],
   "source": [
    "X2 = features_b\n",
    "y2 = target_b"
   ]
  },
  {
   "cell_type": "code",
   "execution_count": 83,
   "metadata": {},
   "outputs": [],
   "source": [
    "X2_train, X2_test, y2_train, y2_test = train_test_split(X2, y2, random_state=25)"
   ]
  },
  {
   "cell_type": "code",
   "execution_count": 84,
   "metadata": {},
   "outputs": [
    {
     "name": "stdout",
     "output_type": "stream",
     "text": [
      "(73490, 26) (24497, 26)\n",
      "-------------------------\n",
      "(73490,) (24497,)\n"
     ]
    }
   ],
   "source": [
    "print(X2_train.shape, X2_test.shape)\n",
    "print('-'*25)\n",
    "print(y2_train.shape, y2_test.shape)"
   ]
  },
  {
   "cell_type": "code",
   "execution_count": 85,
   "metadata": {
    "scrolled": false
   },
   "outputs": [
    {
     "data": {
      "text/plain": [
       "DecisionTreeClassifier(class_weight=None, criterion='gini', max_depth=None,\n",
       "            max_features=None, max_leaf_nodes=None,\n",
       "            min_impurity_decrease=0.0, min_impurity_split=None,\n",
       "            min_samples_leaf=1, min_samples_split=2,\n",
       "            min_weight_fraction_leaf=0.0, presort=False, random_state=25,\n",
       "            splitter='best')"
      ]
     },
     "execution_count": 85,
     "metadata": {},
     "output_type": "execute_result"
    }
   ],
   "source": [
    "# Decision Tree Classifier\n",
    "clf2 = DecisionTreeClassifier(random_state=25)\n",
    "clf2.fit(X2_train, y2_train)"
   ]
  },
  {
   "cell_type": "code",
   "execution_count": 86,
   "metadata": {},
   "outputs": [],
   "source": [
    "y2_preds = clf2.predict(X2_test)"
   ]
  },
  {
   "cell_type": "code",
   "execution_count": 87,
   "metadata": {
    "scrolled": true
   },
   "outputs": [
    {
     "data": {
      "text/plain": [
       "0.5552924847940565"
      ]
     },
     "execution_count": 87,
     "metadata": {},
     "output_type": "execute_result"
    }
   ],
   "source": [
    "accuracy_score(y2_test, y2_preds)"
   ]
  },
  {
   "cell_type": "code",
   "execution_count": 88,
   "metadata": {},
   "outputs": [
    {
     "data": {
      "text/plain": [
       "0.520069960647136"
      ]
     },
     "execution_count": 88,
     "metadata": {},
     "output_type": "execute_result"
    }
   ],
   "source": [
    "recall_score(y2_test, y2_preds)"
   ]
  },
  {
   "cell_type": "code",
   "execution_count": 89,
   "metadata": {
    "scrolled": true
   },
   "outputs": [
    {
     "name": "stdout",
     "output_type": "stream",
     "text": [
      "[[7656 5406]\n",
      " [5488 5947]]\n",
      "              precision    recall  f1-score   support\n",
      "\n",
      "           0       0.58      0.59      0.58     13062\n",
      "           1       0.52      0.52      0.52     11435\n",
      "\n",
      "   micro avg       0.56      0.56      0.56     24497\n",
      "   macro avg       0.55      0.55      0.55     24497\n",
      "weighted avg       0.56      0.56      0.56     24497\n",
      "\n"
     ]
    }
   ],
   "source": [
    "print(confusion_matrix(y2_test, y2_preds))\n",
    "print(classification_report(y2_test, y2_preds))"
   ]
  },
  {
   "cell_type": "code",
   "execution_count": 90,
   "metadata": {},
   "outputs": [],
   "source": [
    "def plot_feature_importances2(model, figsize=(12,12)):\n",
    "    \n",
    "    \"\"\"Visualize feature importance of selected model as determined by feature_importances_ method.\"\"\"\n",
    "    \n",
    "    n_features = X2_train.shape[1]\n",
    "    plt.figure(figsize=figsize)\n",
    "    plt.barh(range(n_features), model.feature_importances_, align='center') \n",
    "    plt.yticks(np.arange(n_features), X2_train.columns.values) \n",
    "    plt.xlabel(\"Feature Importance\")\n",
    "    plt.ylabel(\"Feature\")"
   ]
  },
  {
   "cell_type": "code",
   "execution_count": 91,
   "metadata": {},
   "outputs": [
    {
     "data": {
      "image/png": "[encoded data removed]",
      "text/plain": [
       "<Figure size 864x864 with 1 Axes>"
      ]
     },
     "metadata": {
      "needs_background": "light"
     },
     "output_type": "display_data"
    }
   ],
   "source": [
    "plot_feature_importances2(clf2)"
   ]
  },
  {
   "cell_type": "code",
   "execution_count": 149,
   "metadata": {},
   "outputs": [
    {
     "data": {
      "image/png": "[encoded data removed]",
      "text/plain": [
       "<Figure size 720x576 with 1 Axes>"
      ]
     },
     "metadata": {
      "needs_background": "light"
     },
     "output_type": "display_data"
    }
   ],
   "source": [
    "# # Visualize effect of different max_depths on AUC scores\n",
    "\n",
    "# max_depths = np.linspace(1,26,26,endpoint=True)\n",
    "# train_auc = []\n",
    "# test_auc = []\n",
    "\n",
    "# for depth in max_depths:\n",
    "    \n",
    "#     clf = RandomForestClassifier(max_depth=depth)\n",
    "#     clf.fit(X2_train, y2_train)\n",
    "#     train_pred = clf.predict(X2_train)\n",
    "#     fpr, tpr, thresh = roc_curve(y2_train, train_pred)\n",
    "#     roc_auc = auc(fpr, tpr)\n",
    "#     train_auc.append(roc_auc)\n",
    "    \n",
    "#     test_pred = clf.predict(X2_test)\n",
    "#     fpr, tpr, thresh = roc_curve(y2_test, test_pred)\n",
    "#     roc_auc = auc(fpr, tpr)\n",
    "#     test_auc.append(roc_auc)\n",
    "\n",
    "# plt.figure(figsize=(10,8))\n",
    "# plt.plot(max_depths, train_auc, label='Train AUC')\n",
    "# plt.plot(max_depths, test_auc, label='Test AUC')\n",
    "# plt.xlabel('Tree Depth')\n",
    "# plt.ylabel('AUC Scores')\n",
    "# plt.legend(loc='best')\n",
    "# plt.show();"
   ]
  },
  {
   "cell_type": "code",
   "execution_count": 150,
   "metadata": {},
   "outputs": [
    {
     "data": {
      "text/plain": [
       "0.5883169367677675"
      ]
     },
     "execution_count": 150,
     "metadata": {},
     "output_type": "execute_result"
    }
   ],
   "source": [
    "rafclf = RandomForestClassifier(random_state=25)\n",
    "rafclf.fit(X2_train, y2_train)\n",
    "rafpreds = rafclf.predict(X2_test)\n",
    "rafclf.score(X2_test, y2_test)"
   ]
  },
  {
   "cell_type": "code",
   "execution_count": 148,
   "metadata": {
    "scrolled": true
   },
   "outputs": [
    {
     "data": {
      "text/plain": [
       "<matplotlib.axes._subplots.AxesSubplot at 0x1a16a1ba20>"
      ]
     },
     "execution_count": 148,
     "metadata": {},
     "output_type": "execute_result"
    },
    {
     "data": {
      "image/png": "[encoded data removed]",
      "text/plain": [
       "<Figure size 432x288 with 2 Axes>"
      ]
     },
     "metadata": {
      "needs_background": "light"
     },
     "output_type": "display_data"
    }
   ],
   "source": [
    "cm = confusion_matrix(y2_test, rafpreds)\n",
    "sns.heatmap(cm, annot=True, cmap=sns.color_palette('Blues'), fmt='0.16g')"
   ]
  },
  {
   "cell_type": "code",
   "execution_count": 94,
   "metadata": {},
   "outputs": [],
   "source": [
    "scores = rafclf.predict_proba(X2_test)"
   ]
  },
  {
   "cell_type": "code",
   "execution_count": 95,
   "metadata": {},
   "outputs": [
    {
     "data": {
      "text/plain": [
       "<matplotlib.legend.Legend at 0x1a17cd64a8>"
      ]
     },
     "execution_count": 95,
     "metadata": {},
     "output_type": "execute_result"
    },
    {
     "data": {
      "image/png": "[encoded data removed]",
      "text/plain": [
       "<Figure size 432x288 with 1 Axes>"
      ]
     },
     "metadata": {
      "needs_background": "light"
     },
     "output_type": "display_data"
    }
   ],
   "source": [
    "plt.hist(scores[:, 0], color='r', label='0', alpha=0.5, bins=20)\n",
    "plt.hist(scores[:, 1], color='b', label='1', alpha=0.5, bins=20)\n",
    "plt.legend()"
   ]
  },
  {
   "cell_type": "code",
   "execution_count": 96,
   "metadata": {},
   "outputs": [
    {
     "data": {
      "text/html": [
       "<div>\n",
       "<style scoped>\n",
       "    .dataframe tbody tr th:only-of-type {\n",
       "        vertical-align: middle;\n",
       "    }\n",
       "\n",
       "    .dataframe tbody tr th {\n",
       "        vertical-align: top;\n",
       "    }\n",
       "\n",
       "    .dataframe thead th {\n",
       "        text-align: right;\n",
       "    }\n",
       "</style>\n",
       "<table border=\"1\" class=\"dataframe\">\n",
       "  <thead>\n",
       "    <tr style=\"text-align: right;\">\n",
       "      <th></th>\n",
       "      <th>admission_type_id</th>\n",
       "      <th>discharge_disposition_id</th>\n",
       "      <th>time_in_hospital</th>\n",
       "      <th>num_lab_procedures</th>\n",
       "      <th>num_procedures</th>\n",
       "      <th>num_medications</th>\n",
       "      <th>number_inpatient</th>\n",
       "      <th>number_diagnoses</th>\n",
       "      <th>change</th>\n",
       "      <th>diabetesMed</th>\n",
       "      <th>...</th>\n",
       "      <th>age_[0-10)</th>\n",
       "      <th>age_[10-20)</th>\n",
       "      <th>age_[20-30)</th>\n",
       "      <th>age_[30-40)</th>\n",
       "      <th>age_[40-50)</th>\n",
       "      <th>age_[50-60)</th>\n",
       "      <th>age_[60-70)</th>\n",
       "      <th>age_[70-80)</th>\n",
       "      <th>age_[80-90)</th>\n",
       "      <th>age_[90-100)</th>\n",
       "    </tr>\n",
       "  </thead>\n",
       "  <tbody>\n",
       "    <tr>\n",
       "      <th>92240</th>\n",
       "      <td>-0.017551</td>\n",
       "      <td>-0.516886</td>\n",
       "      <td>-0.468947</td>\n",
       "      <td>-0.308448</td>\n",
       "      <td>-0.78615</td>\n",
       "      <td>-0.620994</td>\n",
       "      <td>0.277649</td>\n",
       "      <td>-0.230284</td>\n",
       "      <td>-0.923489</td>\n",
       "      <td>0.549307</td>\n",
       "      <td>...</td>\n",
       "      <td>-0.039932</td>\n",
       "      <td>-0.083099</td>\n",
       "      <td>-0.128184</td>\n",
       "      <td>-0.195719</td>\n",
       "      <td>-0.323960</td>\n",
       "      <td>2.215359</td>\n",
       "      <td>-0.531351</td>\n",
       "      <td>-0.587505</td>\n",
       "      <td>-0.452442</td>\n",
       "      <td>-0.168331</td>\n",
       "    </tr>\n",
       "    <tr>\n",
       "      <th>11161</th>\n",
       "      <td>-0.707094</td>\n",
       "      <td>-0.516886</td>\n",
       "      <td>-0.468947</td>\n",
       "      <td>0.708359</td>\n",
       "      <td>-0.19843</td>\n",
       "      <td>0.118354</td>\n",
       "      <td>-0.506680</td>\n",
       "      <td>-1.789421</td>\n",
       "      <td>1.082850</td>\n",
       "      <td>0.549307</td>\n",
       "      <td>...</td>\n",
       "      <td>-0.039932</td>\n",
       "      <td>-0.083099</td>\n",
       "      <td>-0.128184</td>\n",
       "      <td>-0.195719</td>\n",
       "      <td>3.086796</td>\n",
       "      <td>-0.451394</td>\n",
       "      <td>-0.531351</td>\n",
       "      <td>-0.587505</td>\n",
       "      <td>-0.452442</td>\n",
       "      <td>-0.168331</td>\n",
       "    </tr>\n",
       "    <tr>\n",
       "      <th>70978</th>\n",
       "      <td>-0.707094</td>\n",
       "      <td>3.812400</td>\n",
       "      <td>1.205459</td>\n",
       "      <td>0.250796</td>\n",
       "      <td>1.56473</td>\n",
       "      <td>1.966725</td>\n",
       "      <td>-0.506680</td>\n",
       "      <td>0.809140</td>\n",
       "      <td>1.082850</td>\n",
       "      <td>0.549307</td>\n",
       "      <td>...</td>\n",
       "      <td>-0.039932</td>\n",
       "      <td>-0.083099</td>\n",
       "      <td>-0.128184</td>\n",
       "      <td>-0.195719</td>\n",
       "      <td>-0.323960</td>\n",
       "      <td>-0.451394</td>\n",
       "      <td>-0.531351</td>\n",
       "      <td>-0.587505</td>\n",
       "      <td>2.210227</td>\n",
       "      <td>-0.168331</td>\n",
       "    </tr>\n",
       "    <tr>\n",
       "      <th>2902</th>\n",
       "      <td>-0.707094</td>\n",
       "      <td>-0.516886</td>\n",
       "      <td>0.870578</td>\n",
       "      <td>0.403317</td>\n",
       "      <td>-0.78615</td>\n",
       "      <td>0.611253</td>\n",
       "      <td>1.061978</td>\n",
       "      <td>0.809140</td>\n",
       "      <td>1.082850</td>\n",
       "      <td>0.549307</td>\n",
       "      <td>...</td>\n",
       "      <td>-0.039932</td>\n",
       "      <td>-0.083099</td>\n",
       "      <td>-0.128184</td>\n",
       "      <td>-0.195719</td>\n",
       "      <td>-0.323960</td>\n",
       "      <td>-0.451394</td>\n",
       "      <td>1.881994</td>\n",
       "      <td>-0.587505</td>\n",
       "      <td>-0.452442</td>\n",
       "      <td>-0.168331</td>\n",
       "    </tr>\n",
       "    <tr>\n",
       "      <th>82672</th>\n",
       "      <td>-0.707094</td>\n",
       "      <td>-0.516886</td>\n",
       "      <td>-0.468947</td>\n",
       "      <td>1.318442</td>\n",
       "      <td>-0.78615</td>\n",
       "      <td>0.364804</td>\n",
       "      <td>-0.506680</td>\n",
       "      <td>0.809140</td>\n",
       "      <td>1.082850</td>\n",
       "      <td>0.549307</td>\n",
       "      <td>...</td>\n",
       "      <td>-0.039932</td>\n",
       "      <td>-0.083099</td>\n",
       "      <td>-0.128184</td>\n",
       "      <td>-0.195719</td>\n",
       "      <td>-0.323960</td>\n",
       "      <td>-0.451394</td>\n",
       "      <td>-0.531351</td>\n",
       "      <td>1.702113</td>\n",
       "      <td>-0.452442</td>\n",
       "      <td>-0.168331</td>\n",
       "    </tr>\n",
       "  </tbody>\n",
       "</table>\n",
       "<p>5 rows × 26 columns</p>\n",
       "</div>"
      ],
      "text/plain": [
       "       admission_type_id  discharge_disposition_id  time_in_hospital  \\\n",
       "92240          -0.017551                 -0.516886         -0.468947   \n",
       "11161          -0.707094                 -0.516886         -0.468947   \n",
       "70978          -0.707094                  3.812400          1.205459   \n",
       "2902           -0.707094                 -0.516886          0.870578   \n",
       "82672          -0.707094                 -0.516886         -0.468947   \n",
       "\n",
       "       num_lab_procedures  num_procedures  num_medications  number_inpatient  \\\n",
       "92240           -0.308448        -0.78615        -0.620994          0.277649   \n",
       "11161            0.708359        -0.19843         0.118354         -0.506680   \n",
       "70978            0.250796         1.56473         1.966725         -0.506680   \n",
       "2902             0.403317        -0.78615         0.611253          1.061978   \n",
       "82672            1.318442        -0.78615         0.364804         -0.506680   \n",
       "\n",
       "       number_diagnoses    change  diabetesMed      ...       age_[0-10)  \\\n",
       "92240         -0.230284 -0.923489     0.549307      ...        -0.039932   \n",
       "11161         -1.789421  1.082850     0.549307      ...        -0.039932   \n",
       "70978          0.809140  1.082850     0.549307      ...        -0.039932   \n",
       "2902           0.809140  1.082850     0.549307      ...        -0.039932   \n",
       "82672          0.809140  1.082850     0.549307      ...        -0.039932   \n",
       "\n",
       "       age_[10-20)  age_[20-30)  age_[30-40)  age_[40-50)  age_[50-60)  \\\n",
       "92240    -0.083099    -0.128184    -0.195719    -0.323960     2.215359   \n",
       "11161    -0.083099    -0.128184    -0.195719     3.086796    -0.451394   \n",
       "70978    -0.083099    -0.128184    -0.195719    -0.323960    -0.451394   \n",
       "2902     -0.083099    -0.128184    -0.195719    -0.323960    -0.451394   \n",
       "82672    -0.083099    -0.128184    -0.195719    -0.323960    -0.451394   \n",
       "\n",
       "       age_[60-70)  age_[70-80)  age_[80-90)  age_[90-100)  \n",
       "92240    -0.531351    -0.587505    -0.452442     -0.168331  \n",
       "11161    -0.531351    -0.587505    -0.452442     -0.168331  \n",
       "70978    -0.531351    -0.587505     2.210227     -0.168331  \n",
       "2902      1.881994    -0.587505    -0.452442     -0.168331  \n",
       "82672    -0.531351     1.702113    -0.452442     -0.168331  \n",
       "\n",
       "[5 rows x 26 columns]"
      ]
     },
     "execution_count": 96,
     "metadata": {},
     "output_type": "execute_result"
    }
   ],
   "source": [
    "X2_train.head()"
   ]
  },
  {
   "cell_type": "code",
   "execution_count": 97,
   "metadata": {},
   "outputs": [
    {
     "data": {
      "text/html": [
       "<div>\n",
       "<style scoped>\n",
       "    .dataframe tbody tr th:only-of-type {\n",
       "        vertical-align: middle;\n",
       "    }\n",
       "\n",
       "    .dataframe tbody tr th {\n",
       "        vertical-align: top;\n",
       "    }\n",
       "\n",
       "    .dataframe thead th {\n",
       "        text-align: right;\n",
       "    }\n",
       "</style>\n",
       "<table border=\"1\" class=\"dataframe\">\n",
       "  <thead>\n",
       "    <tr style=\"text-align: right;\">\n",
       "      <th></th>\n",
       "      <th>admission_type_id</th>\n",
       "      <th>discharge_disposition_id</th>\n",
       "      <th>time_in_hospital</th>\n",
       "      <th>num_lab_procedures</th>\n",
       "      <th>num_procedures</th>\n",
       "      <th>num_medications</th>\n",
       "      <th>number_inpatient</th>\n",
       "      <th>number_diagnoses</th>\n",
       "      <th>change</th>\n",
       "      <th>diabetesMed</th>\n",
       "      <th>...</th>\n",
       "      <th>age_[0-10)</th>\n",
       "      <th>age_[10-20)</th>\n",
       "      <th>age_[20-30)</th>\n",
       "      <th>age_[30-40)</th>\n",
       "      <th>age_[40-50)</th>\n",
       "      <th>age_[50-60)</th>\n",
       "      <th>age_[60-70)</th>\n",
       "      <th>age_[70-80)</th>\n",
       "      <th>age_[80-90)</th>\n",
       "      <th>age_[90-100)</th>\n",
       "    </tr>\n",
       "  </thead>\n",
       "  <tbody>\n",
       "    <tr>\n",
       "      <th>0</th>\n",
       "      <td>2.740623</td>\n",
       "      <td>4.000630</td>\n",
       "      <td>-1.138710</td>\n",
       "      <td>-0.105086</td>\n",
       "      <td>-0.78615</td>\n",
       "      <td>-1.853242</td>\n",
       "      <td>-0.506680</td>\n",
       "      <td>-3.348557</td>\n",
       "      <td>-0.923489</td>\n",
       "      <td>-1.820477</td>\n",
       "      <td>...</td>\n",
       "      <td>25.042400</td>\n",
       "      <td>-0.083099</td>\n",
       "      <td>-0.128184</td>\n",
       "      <td>-0.195719</td>\n",
       "      <td>-0.323960</td>\n",
       "      <td>-0.451394</td>\n",
       "      <td>-0.531351</td>\n",
       "      <td>-0.587505</td>\n",
       "      <td>-0.452442</td>\n",
       "      <td>-0.168331</td>\n",
       "    </tr>\n",
       "    <tr>\n",
       "      <th>1</th>\n",
       "      <td>-0.707094</td>\n",
       "      <td>-0.516886</td>\n",
       "      <td>-0.468947</td>\n",
       "      <td>0.810039</td>\n",
       "      <td>-0.78615</td>\n",
       "      <td>0.241579</td>\n",
       "      <td>-0.506680</td>\n",
       "      <td>0.809140</td>\n",
       "      <td>1.082850</td>\n",
       "      <td>0.549307</td>\n",
       "      <td>...</td>\n",
       "      <td>-0.039932</td>\n",
       "      <td>12.033868</td>\n",
       "      <td>-0.128184</td>\n",
       "      <td>-0.195719</td>\n",
       "      <td>-0.323960</td>\n",
       "      <td>-0.451394</td>\n",
       "      <td>-0.531351</td>\n",
       "      <td>-0.587505</td>\n",
       "      <td>-0.452442</td>\n",
       "      <td>-0.168331</td>\n",
       "    </tr>\n",
       "    <tr>\n",
       "      <th>2</th>\n",
       "      <td>-0.707094</td>\n",
       "      <td>-0.516886</td>\n",
       "      <td>-0.803828</td>\n",
       "      <td>-1.630296</td>\n",
       "      <td>2.15245</td>\n",
       "      <td>-0.374545</td>\n",
       "      <td>0.277649</td>\n",
       "      <td>-0.749996</td>\n",
       "      <td>-0.923489</td>\n",
       "      <td>0.549307</td>\n",
       "      <td>...</td>\n",
       "      <td>-0.039932</td>\n",
       "      <td>-0.083099</td>\n",
       "      <td>7.801313</td>\n",
       "      <td>-0.195719</td>\n",
       "      <td>-0.323960</td>\n",
       "      <td>-0.451394</td>\n",
       "      <td>-0.531351</td>\n",
       "      <td>-0.587505</td>\n",
       "      <td>-0.452442</td>\n",
       "      <td>-0.168331</td>\n",
       "    </tr>\n",
       "    <tr>\n",
       "      <th>3</th>\n",
       "      <td>-0.707094</td>\n",
       "      <td>-0.516886</td>\n",
       "      <td>-0.803828</td>\n",
       "      <td>0.047435</td>\n",
       "      <td>-0.19843</td>\n",
       "      <td>-0.004871</td>\n",
       "      <td>-0.506680</td>\n",
       "      <td>-0.230284</td>\n",
       "      <td>1.082850</td>\n",
       "      <td>0.549307</td>\n",
       "      <td>...</td>\n",
       "      <td>-0.039932</td>\n",
       "      <td>-0.083099</td>\n",
       "      <td>-0.128184</td>\n",
       "      <td>5.109371</td>\n",
       "      <td>-0.323960</td>\n",
       "      <td>-0.451394</td>\n",
       "      <td>-0.531351</td>\n",
       "      <td>-0.587505</td>\n",
       "      <td>-0.452442</td>\n",
       "      <td>-0.168331</td>\n",
       "    </tr>\n",
       "    <tr>\n",
       "      <th>4</th>\n",
       "      <td>-0.707094</td>\n",
       "      <td>-0.516886</td>\n",
       "      <td>-1.138710</td>\n",
       "      <td>0.403317</td>\n",
       "      <td>-0.78615</td>\n",
       "      <td>-0.990669</td>\n",
       "      <td>-0.506680</td>\n",
       "      <td>-1.269709</td>\n",
       "      <td>1.082850</td>\n",
       "      <td>0.549307</td>\n",
       "      <td>...</td>\n",
       "      <td>-0.039932</td>\n",
       "      <td>-0.083099</td>\n",
       "      <td>-0.128184</td>\n",
       "      <td>-0.195719</td>\n",
       "      <td>3.086796</td>\n",
       "      <td>-0.451394</td>\n",
       "      <td>-0.531351</td>\n",
       "      <td>-0.587505</td>\n",
       "      <td>-0.452442</td>\n",
       "      <td>-0.168331</td>\n",
       "    </tr>\n",
       "  </tbody>\n",
       "</table>\n",
       "<p>5 rows × 26 columns</p>\n",
       "</div>"
      ],
      "text/plain": [
       "   admission_type_id  discharge_disposition_id  time_in_hospital  \\\n",
       "0           2.740623                  4.000630         -1.138710   \n",
       "1          -0.707094                 -0.516886         -0.468947   \n",
       "2          -0.707094                 -0.516886         -0.803828   \n",
       "3          -0.707094                 -0.516886         -0.803828   \n",
       "4          -0.707094                 -0.516886         -1.138710   \n",
       "\n",
       "   num_lab_procedures  num_procedures  num_medications  number_inpatient  \\\n",
       "0           -0.105086        -0.78615        -1.853242         -0.506680   \n",
       "1            0.810039        -0.78615         0.241579         -0.506680   \n",
       "2           -1.630296         2.15245        -0.374545          0.277649   \n",
       "3            0.047435        -0.19843        -0.004871         -0.506680   \n",
       "4            0.403317        -0.78615        -0.990669         -0.506680   \n",
       "\n",
       "   number_diagnoses    change  diabetesMed      ...       age_[0-10)  \\\n",
       "0         -3.348557 -0.923489    -1.820477      ...        25.042400   \n",
       "1          0.809140  1.082850     0.549307      ...        -0.039932   \n",
       "2         -0.749996 -0.923489     0.549307      ...        -0.039932   \n",
       "3         -0.230284  1.082850     0.549307      ...        -0.039932   \n",
       "4         -1.269709  1.082850     0.549307      ...        -0.039932   \n",
       "\n",
       "   age_[10-20)  age_[20-30)  age_[30-40)  age_[40-50)  age_[50-60)  \\\n",
       "0    -0.083099    -0.128184    -0.195719    -0.323960    -0.451394   \n",
       "1    12.033868    -0.128184    -0.195719    -0.323960    -0.451394   \n",
       "2    -0.083099     7.801313    -0.195719    -0.323960    -0.451394   \n",
       "3    -0.083099    -0.128184     5.109371    -0.323960    -0.451394   \n",
       "4    -0.083099    -0.128184    -0.195719     3.086796    -0.451394   \n",
       "\n",
       "   age_[60-70)  age_[70-80)  age_[80-90)  age_[90-100)  \n",
       "0    -0.531351    -0.587505    -0.452442     -0.168331  \n",
       "1    -0.531351    -0.587505    -0.452442     -0.168331  \n",
       "2    -0.531351    -0.587505    -0.452442     -0.168331  \n",
       "3    -0.531351    -0.587505    -0.452442     -0.168331  \n",
       "4    -0.531351    -0.587505    -0.452442     -0.168331  \n",
       "\n",
       "[5 rows x 26 columns]"
      ]
     },
     "execution_count": 97,
     "metadata": {},
     "output_type": "execute_result"
    }
   ],
   "source": [
    "df2.head()"
   ]
  },
  {
   "cell_type": "code",
   "execution_count": 98,
   "metadata": {},
   "outputs": [
    {
     "name": "stdout",
     "output_type": "stream",
     "text": [
      "<class 'pandas.core.frame.DataFrame'>\n",
      "Int64Index: 97987 entries, 0 to 101765\n",
      "Data columns (total 14 columns):\n",
      "race                        97987 non-null object\n",
      "gender                      97987 non-null object\n",
      "age                         97987 non-null object\n",
      "admission_type_id           97987 non-null int64\n",
      "discharge_disposition_id    97987 non-null int64\n",
      "time_in_hospital            97987 non-null int64\n",
      "num_lab_procedures          97987 non-null int64\n",
      "num_procedures              97987 non-null int64\n",
      "num_medications             97987 non-null int64\n",
      "number_inpatient            97987 non-null int64\n",
      "number_diagnoses            97987 non-null int64\n",
      "change                      97987 non-null int64\n",
      "diabetesMed                 97987 non-null int64\n",
      "readmitted                  97987 non-null object\n",
      "dtypes: int64(10), object(4)\n",
      "memory usage: 11.2+ MB\n"
     ]
    }
   ],
   "source": [
    "data.info()"
   ]
  },
  {
   "cell_type": "code",
   "execution_count": 99,
   "metadata": {},
   "outputs": [
    {
     "data": {
      "image/png": "[encoded data removed]",
      "text/plain": [
       "<Figure size 432x288 with 1 Axes>"
      ]
     },
     "metadata": {
      "needs_background": "light"
     },
     "output_type": "display_data"
    }
   ],
   "source": [
    "plt.hist(np.log(data.num_medications));"
   ]
  },
  {
   "cell_type": "code",
   "execution_count": 100,
   "metadata": {},
   "outputs": [
    {
     "data": {
      "image/png": "[encoded data removed]",
      "text/plain": [
       "<Figure size 432x288 with 1 Axes>"
      ]
     },
     "metadata": {
      "needs_background": "light"
     },
     "output_type": "display_data"
    }
   ],
   "source": [
    "plt.hist(y2_test);"
   ]
  },
  {
   "cell_type": "code",
   "execution_count": 102,
   "metadata": {},
   "outputs": [
    {
     "data": {
      "image/png": "[encoded data removed]",
      "text/plain": [
       "<Figure size 864x432 with 1 Axes>"
      ]
     },
     "metadata": {
      "needs_background": "light"
     },
     "output_type": "display_data"
    }
   ],
   "source": [
    "# # Identify the optimal tree depth for given data\n",
    "# min_samples_splits = np.linspace(0.1, 1.0, 10, endpoint=True)\n",
    "# train_results = []\n",
    "# test_results = []\n",
    "# for min_samples_split in min_samples_splits:\n",
    "#     dt = RandomForestClassifier(min_samples_split=min_samples_split)\n",
    "#     dt.fit(X2_train, y2_train)\n",
    "#     train_pred = dt.predict(X2_train)\n",
    "#     false_positive_rate, true_positive_rate, thresholds = roc_curve(y2_train, train_pred)\n",
    "#     roc_auc = auc(false_positive_rate, true_positive_rate)\n",
    "#     # Add auc score to previous train results\n",
    "#     train_results.append(roc_auc)\n",
    "#     y_pred = dt.predict(X2_test)\n",
    "#     false_positive_rate, true_positive_rate, thresholds = roc_curve(y2_test, y_pred)\n",
    "#     roc_auc = auc(false_positive_rate, true_positive_rate)\n",
    "#     # Add auc score to previous test results\n",
    "#     test_results.append(roc_auc)\n",
    "# plt.figure(figsize=(12,6))\n",
    "# plt.plot(min_samples_splits, train_results, 'b', label='Train AUC')\n",
    "# plt.plot(min_samples_splits, test_results, 'r', label='Test AUC')\n",
    "# plt.xlabel('Min. Sample splits')\n",
    "# plt.legend()\n",
    "# plt.show()"
   ]
  },
  {
   "cell_type": "code",
   "execution_count": 103,
   "metadata": {},
   "outputs": [
    {
     "data": {
      "image/png": "[encoded data removed]",
      "text/plain": [
       "<Figure size 864x432 with 1 Axes>"
      ]
     },
     "metadata": {
      "needs_background": "light"
     },
     "output_type": "display_data"
    }
   ],
   "source": [
    "# min_samples_leafs = np.linspace(0.1, 0.5, 5, endpoint=True)\n",
    "# train_results = []\n",
    "# test_results = []\n",
    "# for min_samples_leaf in min_samples_leafs:\n",
    "#     dt = RandomForestClassifier(min_samples_leaf=min_samples_leaf)\n",
    "#     dt.fit(X2_train, y2_train)\n",
    "#     train_pred = dt.predict(X2_train)\n",
    "#     false_positive_rate, true_positive_rate, thresholds = roc_curve(y2_train, train_pred)\n",
    "#     roc_auc = auc(false_positive_rate, true_positive_rate)\n",
    "#     train_results.append(roc_auc)\n",
    "#     y_pred = dt.predict(X2_test)\n",
    "#     false_positive_rate, true_positive_rate, thresholds = roc_curve(y2_test, y_pred)\n",
    "#     roc_auc = auc(false_positive_rate, true_positive_rate)\n",
    "#     test_results.append(roc_auc)\n",
    "    \n",
    "\n",
    "# plt.figure(figsize=(12,6))    \n",
    "# plt.plot(min_samples_leafs, train_results, 'b', label='Train AUC')\n",
    "# plt.plot(min_samples_leafs, test_results, 'r', label='Test AUC')\n",
    "# plt.ylabel('AUC score')\n",
    "# plt.xlabel('Min. Sample Leafs')\n",
    "# plt.legend()\n",
    "# plt.show()    "
   ]
  },
  {
   "cell_type": "code",
   "execution_count": 104,
   "metadata": {},
   "outputs": [
    {
     "data": {
      "image/png": "[encoded data removed]",
      "text/plain": [
       "<Figure size 864x432 with 1 Axes>"
      ]
     },
     "metadata": {
      "needs_background": "light"
     },
     "output_type": "display_data"
    }
   ],
   "source": [
    "# # Find the best value for optimal maximum feature size\n",
    "# max_features = list(range(1,X2_train.shape[1]))\n",
    "# train_results = []\n",
    "# test_results = []\n",
    "# for max_feature in max_features:\n",
    "#     dt = RandomForestClassifier(max_features=max_feature)\n",
    "#     dt.fit(X2_train, y2_train)\n",
    "#     train_pred = dt.predict(X2_train)\n",
    "#     false_positive_rate, true_positive_rate, thresholds = roc_curve(y2_train, train_pred)\n",
    "#     roc_auc = auc(false_positive_rate, true_positive_rate)\n",
    "#     train_results.append(roc_auc)\n",
    "#     y_pred = dt.predict(X2_test)\n",
    "#     false_positive_rate, true_positive_rate, thresholds = roc_curve(y2_test, y_pred)\n",
    "#     roc_auc = auc(false_positive_rate, true_positive_rate)\n",
    "#     test_results.append(roc_auc)\n",
    "\n",
    "    \n",
    "# plt.figure(figsize=(12,6))\n",
    "# plt.plot(max_features, train_results, 'b', label='Train AUC')\n",
    "# plt.plot(max_features, test_results, 'r', label='Test AUC')\n",
    "\n",
    "# plt.ylabel('AUC score')\n",
    "# plt.xlabel('max features')\n",
    "# plt.legend()\n",
    "# plt.show()    "
   ]
  },
  {
   "cell_type": "code",
   "execution_count": 103,
   "metadata": {},
   "outputs": [
    {
     "data": {
      "text/plain": [
       "0.5"
      ]
     },
     "execution_count": 103,
     "metadata": {},
     "output_type": "execute_result"
    }
   ],
   "source": [
    "# train a classifier with optimal values identified above\n",
    "dt = RandomForestClassifier(max_features=10,\n",
    "                           max_depth=5,\n",
    "                           min_samples_split=0.7,\n",
    "                           min_samples_leaf=0.1)\n",
    "dt.fit(X2_train, y2_train)\n",
    "y2_pred = dt.predict(X2_test)\n",
    "false_positive_rate, true_positive_rate, thresholds = roc_curve(y2_test, y2_pred)\n",
    "roc_auc = auc(false_positive_rate, true_positive_rate)\n",
    "roc_auc"
   ]
  },
  {
   "cell_type": "code",
   "execution_count": 146,
   "metadata": {},
   "outputs": [
    {
     "data": {
      "text/plain": [
       "array([[7656, 5406],\n",
       "       [5488, 5947]])"
      ]
     },
     "execution_count": 146,
     "metadata": {},
     "output_type": "execute_result"
    }
   ],
   "source": [
    "confusion_matrix(y2_test, y2_pred)"
   ]
  },
  {
   "cell_type": "code",
   "execution_count": 147,
   "metadata": {},
   "outputs": [
    {
     "data": {
      "text/plain": [
       "0.520069960647136"
      ]
     },
     "execution_count": 147,
     "metadata": {},
     "output_type": "execute_result"
    }
   ],
   "source": [
    "recall_score(y2_test, y2_pred)"
   ]
  },
  {
   "cell_type": "markdown",
   "metadata": {},
   "source": [
    "### Run GridSearchCV on RandomForestClassifier to optimize for Recall"
   ]
  },
  {
   "cell_type": "code",
   "execution_count": 105,
   "metadata": {},
   "outputs": [
    {
     "name": "stdout",
     "output_type": "stream",
     "text": [
      "Fitting 3 folds for each of 300 candidates, totalling 900 fits\n"
     ]
    },
    {
     "name": "stderr",
     "output_type": "stream",
     "text": [
      "[Parallel(n_jobs=1)]: Using backend SequentialBackend with 1 concurrent workers.\n",
      "[Parallel(n_jobs=1)]: Done 900 out of 900 | elapsed:  2.4min finished\n"
     ]
    },
    {
     "data": {
      "text/plain": [
       "{'criterion': 'gini',\n",
       " 'max_depth': 1,\n",
       " 'min_samples_leaf': 0.4,\n",
       " 'min_samples_split': 0.1}"
      ]
     },
     "execution_count": 105,
     "metadata": {},
     "output_type": "execute_result"
    }
   ],
   "source": [
    "# clf = RandomForestClassifier(class_weight='balanced', random_state=25)\n",
    "\n",
    "# param_grid = {\n",
    "#     \"criterion\": [\"gini\", \"entropy\"],\n",
    "#     \"max_depth\": [1, 2, 5, 10, 15, 20],\n",
    "#     'min_samples_split': [0.1, 0.2, 0.3, 0.4, 0.5],\n",
    "#     'min_samples_leaf': [0.1, 0.2, 0.3, 0.4, 0.5]\n",
    "# }\n",
    "\n",
    "# gs_tree = GridSearchCV(clf, param_grid, scoring='recall', cv=3, verbose=True)\n",
    "# gs_tree.fit(X2_train, y2_train)\n",
    "\n",
    "# gs_tree.best_params_"
   ]
  },
  {
   "cell_type": "markdown",
   "metadata": {},
   "source": [
    "#### Results:\n",
    "{'criterion': 'entropy',\n",
    " 'max_depth': 2,\n",
    " 'min_samples_leaf': 0.1,\n",
    " 'min_samples_split': 0.5}"
   ]
  },
  {
   "cell_type": "code",
   "execution_count": 107,
   "metadata": {},
   "outputs": [
    {
     "data": {
      "text/plain": [
       "RandomForestClassifier(bootstrap=True, class_weight=None, criterion='gini',\n",
       "            max_depth=1, max_features='auto', max_leaf_nodes=None,\n",
       "            min_impurity_decrease=0.0, min_impurity_split=None,\n",
       "            min_samples_leaf=0.4, min_samples_split=0.1,\n",
       "            min_weight_fraction_leaf=0.0, n_estimators=10, n_jobs=None,\n",
       "            oob_score=False, random_state=None, verbose=0,\n",
       "            warm_start=False)"
      ]
     },
     "execution_count": 107,
     "metadata": {},
     "output_type": "execute_result"
    }
   ],
   "source": [
    "dt = RandomForestClassifier(criterion='gini', max_depth=1, min_samples_split=0.1, min_samples_leaf=0.4)\n",
    "dt.fit(X2_train, y2_train)"
   ]
  },
  {
   "cell_type": "code",
   "execution_count": 138,
   "metadata": {
    "scrolled": true
   },
   "outputs": [
    {
     "data": {
      "text/plain": [
       "0.5"
      ]
     },
     "execution_count": 138,
     "metadata": {},
     "output_type": "execute_result"
    }
   ],
   "source": [
    "random = RandomForestClassifier(random_state=25)\n",
    "random.fit(X2_train, y2_train)\n",
    "y2_pred = dt.predict(X2_test)\n",
    "fpr, tpr, thresholds = roc_curve(y2_test, y2_pred)\n",
    "roc_auc = auc(fpr, tpr)\n",
    "roc_auc"
   ]
  },
  {
   "cell_type": "code",
   "execution_count": 139,
   "metadata": {},
   "outputs": [],
   "source": [
    "y2_train_preds = random.predict(X2_train)\n",
    "y2_test_preds = random.predict(X2_test)"
   ]
  },
  {
   "cell_type": "code",
   "execution_count": 140,
   "metadata": {},
   "outputs": [],
   "source": [
    "def print_metrics(y_train, y_test, y_train_preds, y_test_preds):\n",
    "    \n",
    "    \"\"\"Accepts train and test set predictions and prints evaluation metrics\"\"\"\n",
    "    \n",
    "    print('Train Set Classification Report')\n",
    "    print(classification_report(y_train, y_train_preds))\n",
    "    print('*'*50)\n",
    "    print('Test Set Classification Report')\n",
    "    print(classification_report(y_test, y_test_preds))\n",
    "    print('*'*50)\n",
    "    print('Train Set Confusion Matrix')\n",
    "    print(confusion_matrix(y_train, y_train_preds))\n",
    "    print('*'*50)\n",
    "    print('Test Set Confusion Matrix')\n",
    "    print(confusion_matrix(y_test, y_test_preds))\n",
    "    print('*'*50)\n",
    "    print('Train Set Accuracy Score')\n",
    "    print(accuracy_score(y_train, y_train_preds))\n",
    "    print('*'*50)\n",
    "    print('Test Set Accuracy Score')\n",
    "    print(accuracy_score(y_test, y_test_preds))\n",
    "    print('*'*50)\n",
    "    print('Train Set Recall SCore')\n",
    "    print(recall_score(y_train, y_train_preds))\n",
    "    print('*'*50)\n",
    "    print('Test Set Recall Score')\n",
    "    print(recall_score(y_test, y_test_preds))"
   ]
  },
  {
   "cell_type": "code",
   "execution_count": 141,
   "metadata": {
    "scrolled": false
   },
   "outputs": [
    {
     "name": "stdout",
     "output_type": "stream",
     "text": [
      "Train Set Classification Report\n",
      "              precision    recall  f1-score   support\n",
      "\n",
      "           0       0.97      0.99      0.98     39340\n",
      "           1       0.99      0.97      0.98     34150\n",
      "\n",
      "   micro avg       0.98      0.98      0.98     73490\n",
      "   macro avg       0.98      0.98      0.98     73490\n",
      "weighted avg       0.98      0.98      0.98     73490\n",
      "\n",
      "**************************************************\n",
      "Test Set Classification Report\n",
      "              precision    recall  f1-score   support\n",
      "\n",
      "           0       0.59      0.72      0.65     13062\n",
      "           1       0.58      0.44      0.50     11435\n",
      "\n",
      "   micro avg       0.59      0.59      0.59     24497\n",
      "   macro avg       0.59      0.58      0.58     24497\n",
      "weighted avg       0.59      0.59      0.58     24497\n",
      "\n",
      "**************************************************\n",
      "Train Set Confusion Matrix\n",
      "[[39103   237]\n",
      " [ 1193 32957]]\n",
      "**************************************************\n",
      "Test Set Confusion Matrix\n",
      "[[9340 3722]\n",
      " [6363 5072]]\n",
      "**************************************************\n",
      "Train Set Accuracy Score\n",
      "0.980541570281671\n",
      "**************************************************\n",
      "Test Set Accuracy Score\n",
      "0.5883169367677675\n",
      "**************************************************\n",
      "Train Set Recall SCore\n",
      "0.9650658857979503\n",
      "**************************************************\n",
      "Test Set Recall Score\n",
      "0.4435505028421513\n"
     ]
    }
   ],
   "source": [
    "print_metrics(y2_train, y2_test, y2_train_preds, y2_test_preds)"
   ]
  },
  {
   "cell_type": "code",
   "execution_count": 142,
   "metadata": {},
   "outputs": [
    {
     "data": {
      "text/plain": [
       "0.5530988296575138"
      ]
     },
     "execution_count": 142,
     "metadata": {},
     "output_type": "execute_result"
    }
   ],
   "source": [
    "dtclf = DecisionTreeClassifier(random_state=25)\n",
    "dtclf.fit(X2_train, y2_train)\n",
    "y2_pred = dtclf.predict(X2_test)\n",
    "false_positive_rate, true_positive_rate, thresholds = roc_curve(y2_test, y2_pred)\n",
    "roc_auc = auc(false_positive_rate, true_positive_rate)\n",
    "roc_auc"
   ]
  },
  {
   "cell_type": "code",
   "execution_count": 143,
   "metadata": {},
   "outputs": [],
   "source": [
    "y2_train_preds = dtclf.predict(X2_train)\n",
    "y2_test_preds = dtclf.predict(X2_test)"
   ]
  },
  {
   "cell_type": "code",
   "execution_count": 144,
   "metadata": {},
   "outputs": [
    {
     "name": "stdout",
     "output_type": "stream",
     "text": [
      "Train Set Classification Report\n",
      "              precision    recall  f1-score   support\n",
      "\n",
      "           0       1.00      1.00      1.00     39340\n",
      "           1       1.00      1.00      1.00     34150\n",
      "\n",
      "   micro avg       1.00      1.00      1.00     73490\n",
      "   macro avg       1.00      1.00      1.00     73490\n",
      "weighted avg       1.00      1.00      1.00     73490\n",
      "\n",
      "**************************************************\n",
      "Test Set Classification Report\n",
      "              precision    recall  f1-score   support\n",
      "\n",
      "           0       0.58      0.59      0.58     13062\n",
      "           1       0.52      0.52      0.52     11435\n",
      "\n",
      "   micro avg       0.56      0.56      0.56     24497\n",
      "   macro avg       0.55      0.55      0.55     24497\n",
      "weighted avg       0.56      0.56      0.56     24497\n",
      "\n",
      "**************************************************\n",
      "Train Set Confusion Matrix\n",
      "[[39340     0]\n",
      " [   47 34103]]\n",
      "**************************************************\n",
      "Test Set Confusion Matrix\n",
      "[[7656 5406]\n",
      " [5488 5947]]\n",
      "**************************************************\n",
      "Train Set Accuracy Score\n",
      "0.999360457205062\n",
      "**************************************************\n",
      "Test Set Accuracy Score\n",
      "0.5552924847940565\n",
      "**************************************************\n",
      "Train Set Recall SCore\n",
      "0.9986237188872621\n",
      "**************************************************\n",
      "Test Set Recall Score\n",
      "0.520069960647136\n"
     ]
    }
   ],
   "source": [
    "print_metrics(y2_train, y2_test, y2_train_preds, y2_test_preds)"
   ]
  },
  {
   "cell_type": "code",
   "execution_count": 119,
   "metadata": {
    "scrolled": true
   },
   "outputs": [
    {
     "name": "stdout",
     "output_type": "stream",
     "text": [
      "Fitting 3 folds for each of 200 candidates, totalling 600 fits\n"
     ]
    },
    {
     "name": "stderr",
     "output_type": "stream",
     "text": [
      "[Parallel(n_jobs=1)]: Using backend SequentialBackend with 1 concurrent workers.\n",
      "[Parallel(n_jobs=1)]: Done 600 out of 600 | elapsed:   35.7s finished\n"
     ]
    },
    {
     "data": {
      "text/plain": [
       "{'criterion': 'gini',\n",
       " 'max_depth': 1,\n",
       " 'min_samples_leaf': 0.4,\n",
       " 'min_samples_split': 0.1}"
      ]
     },
     "execution_count": 119,
     "metadata": {},
     "output_type": "execute_result"
    }
   ],
   "source": [
    "# dtclf = DecisionTreeClassifier(random_state=25)\n",
    "\n",
    "# param_grid = {\n",
    "#     \"criterion\": [\"gini\", \"entropy\"],\n",
    "#     \"max_depth\": [1, 2, 5, 10],\n",
    "#     'min_samples_split': [0.1, 0.2, 0.3, 0.4, 0.5],\n",
    "#     'min_samples_leaf': [0.1, 0.2, 0.3, 0.4, 0.5]\n",
    "# }\n",
    "\n",
    "# gs_tree = GridSearchCV(dtclf, param_grid, scoring='recall', cv=3, verbose=True)\n",
    "# gs_tree.fit(X2_train, y2_train)\n",
    "\n",
    "# gs_tree.best_params_"
   ]
  },
  {
   "cell_type": "markdown",
   "metadata": {},
   "source": [
    "### Results:\n",
    "{'criterion': 'gini',\n",
    " 'max_depth': 1,\n",
    " 'min_samples_leaf': 0.4,\n",
    " 'min_samples_split': 0.1}"
   ]
  },
  {
   "cell_type": "code",
   "execution_count": 125,
   "metadata": {},
   "outputs": [
    {
     "data": {
      "text/plain": [
       "0.5424865414329841"
      ]
     },
     "execution_count": 125,
     "metadata": {},
     "output_type": "execute_result"
    }
   ],
   "source": [
    "dtclf = DecisionTreeClassifier(criterion='gini', max_depth=None, min_samples_split=0.1, min_samples_leaf=0.4)\n",
    "dtclf.fit(X2_train, y2_train)\n",
    "y2_pred = dtclf.predict(X2_test)\n",
    "fpr, tpr, thresholds = roc_curve(y2_test, y2_pred)\n",
    "roc_auc = auc(fpr, tpr)\n",
    "roc_auc"
   ]
  },
  {
   "cell_type": "code",
   "execution_count": 126,
   "metadata": {},
   "outputs": [],
   "source": [
    "y2_train_preds = dtclf.predict(X2_train)\n",
    "y2_test_preds = dtclf.predict(X2_test)"
   ]
  },
  {
   "cell_type": "code",
   "execution_count": 127,
   "metadata": {},
   "outputs": [
    {
     "name": "stdout",
     "output_type": "stream",
     "text": [
      "Train Set Classification Report\n",
      "              precision    recall  f1-score   support\n",
      "\n",
      "           0       0.59      0.45      0.51     39340\n",
      "           1       0.50      0.65      0.57     34150\n",
      "\n",
      "   micro avg       0.54      0.54      0.54     73490\n",
      "   macro avg       0.55      0.55      0.54     73490\n",
      "weighted avg       0.55      0.54      0.54     73490\n",
      "\n",
      "**************************************************\n",
      "Test Set Classification Report\n",
      "              precision    recall  f1-score   support\n",
      "\n",
      "           0       0.59      0.44      0.50     13062\n",
      "           1       0.50      0.64      0.56     11435\n",
      "\n",
      "   micro avg       0.54      0.54      0.54     24497\n",
      "   macro avg       0.54      0.54      0.53     24497\n",
      "weighted avg       0.55      0.54      0.53     24497\n",
      "\n",
      "**************************************************\n",
      "Train Set Confusion Matrix\n",
      "[[17599 21741]\n",
      " [12104 22046]]\n",
      "**************************************************\n",
      "Test Set Confusion Matrix\n",
      "[[5775 7287]\n",
      " [4084 7351]]\n",
      "**************************************************\n",
      "Train Set Accuracy Score\n",
      "0.5394611511770309\n",
      "**************************************************\n",
      "Test Set Accuracy Score\n",
      "0.5358207127403356\n",
      "**************************************************\n",
      "Train Set Recall SCore\n",
      "0.6455636896046852\n",
      "**************************************************\n",
      "Test Set Recall Score\n",
      "0.6428508963707914\n"
     ]
    }
   ],
   "source": [
    "print_metrics(y2_train, y2_test, y2_train_preds, y2_test_preds)"
   ]
  },
  {
   "cell_type": "code",
   "execution_count": 128,
   "metadata": {},
   "outputs": [],
   "source": [
    "adaboost_clf = AdaBoostClassifier()\n",
    "gbt_clf = GradientBoostingClassifier()"
   ]
  },
  {
   "cell_type": "code",
   "execution_count": 129,
   "metadata": {},
   "outputs": [
    {
     "data": {
      "text/plain": [
       "AdaBoostClassifier(algorithm='SAMME.R', base_estimator=None,\n",
       "          learning_rate=1.0, n_estimators=50, random_state=None)"
      ]
     },
     "execution_count": 129,
     "metadata": {},
     "output_type": "execute_result"
    }
   ],
   "source": [
    "adaboost_clf.fit(X2_train, y2_train)"
   ]
  },
  {
   "cell_type": "code",
   "execution_count": 130,
   "metadata": {},
   "outputs": [
    {
     "data": {
      "text/plain": [
       "GradientBoostingClassifier(criterion='friedman_mse', init=None,\n",
       "              learning_rate=0.1, loss='deviance', max_depth=3,\n",
       "              max_features=None, max_leaf_nodes=None,\n",
       "              min_impurity_decrease=0.0, min_impurity_split=None,\n",
       "              min_samples_leaf=1, min_samples_split=2,\n",
       "              min_weight_fraction_leaf=0.0, n_estimators=100,\n",
       "              n_iter_no_change=None, presort='auto', random_state=None,\n",
       "              subsample=1.0, tol=0.0001, validation_fraction=0.1,\n",
       "              verbose=0, warm_start=False)"
      ]
     },
     "execution_count": 130,
     "metadata": {},
     "output_type": "execute_result"
    }
   ],
   "source": [
    "gbt_clf.fit(X2_train, y2_train)"
   ]
  },
  {
   "cell_type": "code",
   "execution_count": 131,
   "metadata": {},
   "outputs": [],
   "source": [
    "adaboost_train_preds = adaboost_clf.predict(X2_train)\n",
    "adaboost_test_preds = adaboost_clf.predict(X2_test)\n",
    "gbt_clf_train_preds = gbt_clf.predict(X2_train)\n",
    "gbt_clf_test_preds = gbt_clf.predict(X2_test)"
   ]
  },
  {
   "cell_type": "code",
   "execution_count": 132,
   "metadata": {},
   "outputs": [
    {
     "name": "stdout",
     "output_type": "stream",
     "text": [
      "Training Metrics\n",
      "Model: AdaBoost\n",
      "Accuracy: 0.6256225336780514\n",
      "F1-Score: 0.5233945987146396\n",
      "\n",
      "Model: Gradient Boosted Trees\n",
      "Accuracy: 0.6313512042454755\n",
      "F1-Score: 0.5439671424723943\n",
      "\n",
      "Recall Score Adaboost:  0.4423718887262079\n",
      "Recall Score Gradient Boosted Trees:  0.4731478770131772\n",
      "\n",
      "Testing Metrics\n",
      "Model: AdaBoost\n",
      "Accuracy: 0.622198636567743\n",
      "F1-Score: 0.520789105783669\n",
      "\n",
      "Model: Gradient Boosted Trees\n",
      "Accuracy: 0.6273013022002695\n",
      "F1-Score: 0.5406520426645199\n",
      "\n",
      "Recall Test Score Adaboost:  0.43979011805859203\n",
      "Recall Test Score Gradient Boosted Trees:  0.46987319632706603\n"
     ]
    }
   ],
   "source": [
    "def display_acc_and_f1_score(true, preds, model_name):\n",
    "    acc = accuracy_score(true, preds)\n",
    "    f1 = f1_score(true, preds)\n",
    "    print(\"Model: {}\".format(model_name))\n",
    "    print(\"Accuracy: {}\".format(acc))\n",
    "    print(\"F1-Score: {}\".format(f1))\n",
    "    \n",
    "print(\"Training Metrics\")\n",
    "display_acc_and_f1_score(y2_train, adaboost_train_preds, model_name='AdaBoost')\n",
    "print(\"\")\n",
    "display_acc_and_f1_score(y2_train, gbt_clf_train_preds, model_name='Gradient Boosted Trees')\n",
    "print(\"\")\n",
    "print(\"Recall Score Adaboost: \", recall_score(y2_train, adaboost_train_preds))\n",
    "print(\"Recall Score Gradient Boosted Trees: \", recall_score(y2_train, gbt_clf_train_preds))\n",
    "print(\"\")\n",
    "print(\"Testing Metrics\")\n",
    "display_acc_and_f1_score(y2_test, adaboost_test_preds, model_name='AdaBoost')\n",
    "print(\"\")\n",
    "display_acc_and_f1_score(y2_test, gbt_clf_test_preds, model_name='Gradient Boosted Trees')\n",
    "print(\"\")\n",
    "print(\"Recall Test Score Adaboost: \", recall_score(y2_test, adaboost_test_preds))\n",
    "print(\"Recall Test Score Gradient Boosted Trees: \", recall_score(y2_test, gbt_clf_test_preds))"
   ]
  },
  {
   "cell_type": "code",
   "execution_count": 133,
   "metadata": {},
   "outputs": [
    {
     "data": {
      "text/plain": [
       "array([[10213,  2849],\n",
       "       [ 6406,  5029]])"
      ]
     },
     "execution_count": 133,
     "metadata": {},
     "output_type": "execute_result"
    }
   ],
   "source": [
    "adaboost_confusion_matrix = confusion_matrix(y2_test, adaboost_test_preds)\n",
    "adaboost_confusion_matrix"
   ]
  },
  {
   "cell_type": "code",
   "execution_count": 134,
   "metadata": {},
   "outputs": [
    {
     "data": {
      "text/plain": [
       "array([[9994, 3068],\n",
       "       [6062, 5373]])"
      ]
     },
     "execution_count": 134,
     "metadata": {},
     "output_type": "execute_result"
    }
   ],
   "source": [
    "gbt_confusion_matrix = confusion_matrix(y2_test, gbt_clf_test_preds)\n",
    "gbt_confusion_matrix"
   ]
  },
  {
   "cell_type": "code",
   "execution_count": 135,
   "metadata": {},
   "outputs": [
    {
     "name": "stdout",
     "output_type": "stream",
     "text": [
      "              precision    recall  f1-score   support\n",
      "\n",
      "           0       0.61      0.78      0.69     13062\n",
      "           1       0.64      0.44      0.52     11435\n",
      "\n",
      "   micro avg       0.62      0.62      0.62     24497\n",
      "   macro avg       0.63      0.61      0.60     24497\n",
      "weighted avg       0.63      0.62      0.61     24497\n",
      "\n"
     ]
    }
   ],
   "source": [
    "adaboost_classification_report = classification_report(y2_test, adaboost_test_preds)\n",
    "print(adaboost_classification_report)"
   ]
  },
  {
   "cell_type": "code",
   "execution_count": 136,
   "metadata": {},
   "outputs": [
    {
     "name": "stdout",
     "output_type": "stream",
     "text": [
      "              precision    recall  f1-score   support\n",
      "\n",
      "           0       0.62      0.77      0.69     13062\n",
      "           1       0.64      0.47      0.54     11435\n",
      "\n",
      "   micro avg       0.63      0.63      0.63     24497\n",
      "   macro avg       0.63      0.62      0.61     24497\n",
      "weighted avg       0.63      0.63      0.62     24497\n",
      "\n"
     ]
    }
   ],
   "source": [
    "gbt_classification_report = classification_report(y2_test, gbt_clf_test_preds)\n",
    "print(gbt_classification_report)"
   ]
  },
  {
   "cell_type": "code",
   "execution_count": 137,
   "metadata": {},
   "outputs": [
    {
     "data": {
      "text/plain": [
       "0.46987319632706603"
      ]
     },
     "execution_count": 137,
     "metadata": {},
     "output_type": "execute_result"
    }
   ],
   "source": [
    "recall_score(y2_test, gbt_clf_test_preds)"
   ]
  },
  {
   "cell_type": "code",
   "execution_count": null,
   "metadata": {},
   "outputs": [],
   "source": []
  },
  {
   "cell_type": "code",
   "execution_count": null,
   "metadata": {},
   "outputs": [],
   "source": []
  },
  {
   "cell_type": "code",
   "execution_count": null,
   "metadata": {},
   "outputs": [],
   "source": []
  },
  {
   "cell_type": "code",
   "execution_count": null,
   "metadata": {},
   "outputs": [],
   "source": []
  },
  {
   "cell_type": "code",
   "execution_count": null,
   "metadata": {},
   "outputs": [],
   "source": []
  },
  {
   "cell_type": "code",
   "execution_count": null,
   "metadata": {},
   "outputs": [],
   "source": []
  },
  {
   "cell_type": "code",
   "execution_count": null,
   "metadata": {},
   "outputs": [],
   "source": []
  },
  {
   "cell_type": "code",
   "execution_count": null,
   "metadata": {},
   "outputs": [],
   "source": []
  },
  {
   "cell_type": "code",
   "execution_count": null,
   "metadata": {},
   "outputs": [],
   "source": []
  },
  {
   "cell_type": "code",
   "execution_count": null,
   "metadata": {},
   "outputs": [],
   "source": []
  },
  {
   "cell_type": "code",
   "execution_count": null,
   "metadata": {},
   "outputs": [],
   "source": []
  },
  {
   "cell_type": "code",
   "execution_count": null,
   "metadata": {},
   "outputs": [],
   "source": []
  },
  {
   "cell_type": "code",
   "execution_count": null,
   "metadata": {},
   "outputs": [],
   "source": []
  },
  {
   "cell_type": "code",
   "execution_count": null,
   "metadata": {},
   "outputs": [],
   "source": []
  },
  {
   "cell_type": "code",
   "execution_count": null,
   "metadata": {},
   "outputs": [],
   "source": [
    "# Your code here\n",
    "import numpy as np\n",
    "\n",
    "def sigmoid(x):\n",
    "    x = np.array(x)\n",
    "    return 1/(1 + np.e**(-1*x))\n",
    "\n",
    "def grad_desc(X, y, max_iterations, alpha, initial_weights=None):\n",
    "    \"\"\"Be sure to set default behavior for the initial_weights parameter.\"\"\"\n",
    "    if initial_weights == None:\n",
    "        initial_weights = np.ones((X.shape[1],1)).flatten()\n",
    "    weights = initial_weights\n",
    "    #Create a for loop of iterations\n",
    "    for iteration in range(max_iterations):\n",
    "        #Generate predictions using the current feature weights\n",
    "        predictions = sigmoid(np.dot(X,weights))\n",
    "        #Calculate an error vector based on these initial predictions and the correct labels\n",
    "        error_vector = y - predictions\n",
    "        #Calculate the gradient \n",
    "        #As we saw in the previous lab, calculating the gradient is often the most difficult task.\n",
    "        #Here, your are provided with the closed form solution for the gradient of the \n",
    "        #log-loss function derived from MLE\n",
    "        #For more details on the derivation, see the additional resources section below.\n",
    "        gradient = np.dot(X.transpose(),error_vector)\n",
    "        #Update the weight vector take a step of alpha in direction of gradient \n",
    "        weights += alpha * gradient\n",
    "    #Return finalized Weights\n",
    "    return weights\n",
    "\n",
    "weights = grad_desc(X_train, y_train, 50000, 0.001)"
   ]
  }
 ],
 "metadata": {
  "kernelspec": {
   "display_name": "learn-env",
   "language": "python",
   "name": "learn-env"
  },
  "language_info": {
   "codemirror_mode": {
    "name": "ipython",
    "version": 3
   },
   "file_extension": ".py",
   "mimetype": "text/x-python",
   "name": "python",
   "nbconvert_exporter": "python",
   "pygments_lexer": "ipython3",
   "version": "3.6.6"
  }
 },
 "nbformat": 4,
 "nbformat_minor": 2
}
